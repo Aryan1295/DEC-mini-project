{
 "nbformat": 4,
 "nbformat_minor": 0,
 "metadata": {
  "colab": {
   "provenance": []
  },
  "kernelspec": {
   "name": "python3",
   "language": "python",
   "display_name": "Python 3 (ipykernel)"
  },
  "language_info": {
   "name": "python"
  }
 },
 "cells": [
  {
   "cell_type": "code",
   "execution_count": 1,
   "metadata": {
    "id": "WyEHR4T4zOO8",
    "ExecuteTime": {
     "start_time": "2023-04-30T08:54:26.882700Z",
     "end_time": "2023-04-30T08:54:29.965304Z"
    }
   },
   "outputs": [],
   "source": [
    "import pandas as pd\n",
    "from matplotlib import pyplot as plt\n",
    "import numpy as np"
   ]
  },
  {
   "cell_type": "code",
   "source": [
    "df = pd.read_csv(\"energy.csv\")\n",
    "df"
   ],
   "metadata": {
    "colab": {
     "base_uri": "https://localhost:8080/",
     "height": 330
    },
    "id": "hG9tiEsZ0GN6",
    "outputId": "c8cfcf9d-26f1-4681-e29b-c550f933d7dc",
    "ExecuteTime": {
     "start_time": "2023-04-30T08:54:29.932762Z",
     "end_time": "2023-04-30T08:54:30.474101Z"
    }
   },
   "execution_count": 2,
   "outputs": [
    {
     "data": {
      "text/plain": "       Unnamed: 0   Country                Energy_type  Year  \\\n0               0     World           all_energy_types  1980   \n1               1     World                       coal  1980   \n2               2     World                natural_gas  1980   \n3               3     World  petroleum_n_other_liquids  1980   \n4               4     World                    nuclear  1980   \n...           ...       ...                        ...   ...   \n55435       55435  Zimbabwe                       coal  2019   \n55436       55436  Zimbabwe                natural_gas  2019   \n55437       55437  Zimbabwe  petroleum_n_other_liquids  2019   \n55438       55438  Zimbabwe                    nuclear  2019   \n55439       55439  Zimbabwe         renewables_n_other  2019   \n\n       Energy_consumption  Energy_production           GDP    Population  \\\n0              292.899790         296.337228  27770.910281  4.298127e+06   \n1               78.656134          80.114194  27770.910281  4.298127e+06   \n2               53.865223          54.761046  27770.910281  4.298127e+06   \n3              132.064019         133.111109  27770.910281  4.298127e+06   \n4                7.575700           7.575700  27770.910281  4.298127e+06   \n...                   ...                ...           ...           ...   \n55435            0.045064           0.075963     37.620400  1.465420e+04   \n55436            0.000000           0.000000     37.620400  1.465420e+04   \n55437            0.055498           0.000000     37.620400  1.465420e+04   \n55438                 NaN                NaN     37.620400  1.465420e+04   \n55439            0.068089           0.067499     37.620400  1.465420e+04   \n\n       Energy_intensity_per_capita  Energy_intensity_by_GDP  CO2_emission  \n0                        68.145921                10.547000   4946.627130  \n1                        68.145921                10.547000   1409.790188  \n2                        68.145921                10.547000   1081.593377  \n3                        68.145921                10.547000   2455.243565  \n4                        68.145921                10.547000      0.000000  \n...                            ...                      ...           ...  \n55435                    11.508701                 4.482962      4.586869  \n55436                    11.508701                 4.482962      0.000000  \n55437                    11.508701                 4.482962      4.377890  \n55438                    11.508701                 4.482962      0.000000  \n55439                    11.508701                 4.482962      0.000000  \n\n[55440 rows x 11 columns]",
      "text/html": "<div>\n<style scoped>\n    .dataframe tbody tr th:only-of-type {\n        vertical-align: middle;\n    }\n\n    .dataframe tbody tr th {\n        vertical-align: top;\n    }\n\n    .dataframe thead th {\n        text-align: right;\n    }\n</style>\n<table border=\"1\" class=\"dataframe\">\n  <thead>\n    <tr style=\"text-align: right;\">\n      <th></th>\n      <th>Unnamed: 0</th>\n      <th>Country</th>\n      <th>Energy_type</th>\n      <th>Year</th>\n      <th>Energy_consumption</th>\n      <th>Energy_production</th>\n      <th>GDP</th>\n      <th>Population</th>\n      <th>Energy_intensity_per_capita</th>\n      <th>Energy_intensity_by_GDP</th>\n      <th>CO2_emission</th>\n    </tr>\n  </thead>\n  <tbody>\n    <tr>\n      <th>0</th>\n      <td>0</td>\n      <td>World</td>\n      <td>all_energy_types</td>\n      <td>1980</td>\n      <td>292.899790</td>\n      <td>296.337228</td>\n      <td>27770.910281</td>\n      <td>4.298127e+06</td>\n      <td>68.145921</td>\n      <td>10.547000</td>\n      <td>4946.627130</td>\n    </tr>\n    <tr>\n      <th>1</th>\n      <td>1</td>\n      <td>World</td>\n      <td>coal</td>\n      <td>1980</td>\n      <td>78.656134</td>\n      <td>80.114194</td>\n      <td>27770.910281</td>\n      <td>4.298127e+06</td>\n      <td>68.145921</td>\n      <td>10.547000</td>\n      <td>1409.790188</td>\n    </tr>\n    <tr>\n      <th>2</th>\n      <td>2</td>\n      <td>World</td>\n      <td>natural_gas</td>\n      <td>1980</td>\n      <td>53.865223</td>\n      <td>54.761046</td>\n      <td>27770.910281</td>\n      <td>4.298127e+06</td>\n      <td>68.145921</td>\n      <td>10.547000</td>\n      <td>1081.593377</td>\n    </tr>\n    <tr>\n      <th>3</th>\n      <td>3</td>\n      <td>World</td>\n      <td>petroleum_n_other_liquids</td>\n      <td>1980</td>\n      <td>132.064019</td>\n      <td>133.111109</td>\n      <td>27770.910281</td>\n      <td>4.298127e+06</td>\n      <td>68.145921</td>\n      <td>10.547000</td>\n      <td>2455.243565</td>\n    </tr>\n    <tr>\n      <th>4</th>\n      <td>4</td>\n      <td>World</td>\n      <td>nuclear</td>\n      <td>1980</td>\n      <td>7.575700</td>\n      <td>7.575700</td>\n      <td>27770.910281</td>\n      <td>4.298127e+06</td>\n      <td>68.145921</td>\n      <td>10.547000</td>\n      <td>0.000000</td>\n    </tr>\n    <tr>\n      <th>...</th>\n      <td>...</td>\n      <td>...</td>\n      <td>...</td>\n      <td>...</td>\n      <td>...</td>\n      <td>...</td>\n      <td>...</td>\n      <td>...</td>\n      <td>...</td>\n      <td>...</td>\n      <td>...</td>\n    </tr>\n    <tr>\n      <th>55435</th>\n      <td>55435</td>\n      <td>Zimbabwe</td>\n      <td>coal</td>\n      <td>2019</td>\n      <td>0.045064</td>\n      <td>0.075963</td>\n      <td>37.620400</td>\n      <td>1.465420e+04</td>\n      <td>11.508701</td>\n      <td>4.482962</td>\n      <td>4.586869</td>\n    </tr>\n    <tr>\n      <th>55436</th>\n      <td>55436</td>\n      <td>Zimbabwe</td>\n      <td>natural_gas</td>\n      <td>2019</td>\n      <td>0.000000</td>\n      <td>0.000000</td>\n      <td>37.620400</td>\n      <td>1.465420e+04</td>\n      <td>11.508701</td>\n      <td>4.482962</td>\n      <td>0.000000</td>\n    </tr>\n    <tr>\n      <th>55437</th>\n      <td>55437</td>\n      <td>Zimbabwe</td>\n      <td>petroleum_n_other_liquids</td>\n      <td>2019</td>\n      <td>0.055498</td>\n      <td>0.000000</td>\n      <td>37.620400</td>\n      <td>1.465420e+04</td>\n      <td>11.508701</td>\n      <td>4.482962</td>\n      <td>4.377890</td>\n    </tr>\n    <tr>\n      <th>55438</th>\n      <td>55438</td>\n      <td>Zimbabwe</td>\n      <td>nuclear</td>\n      <td>2019</td>\n      <td>NaN</td>\n      <td>NaN</td>\n      <td>37.620400</td>\n      <td>1.465420e+04</td>\n      <td>11.508701</td>\n      <td>4.482962</td>\n      <td>0.000000</td>\n    </tr>\n    <tr>\n      <th>55439</th>\n      <td>55439</td>\n      <td>Zimbabwe</td>\n      <td>renewables_n_other</td>\n      <td>2019</td>\n      <td>0.068089</td>\n      <td>0.067499</td>\n      <td>37.620400</td>\n      <td>1.465420e+04</td>\n      <td>11.508701</td>\n      <td>4.482962</td>\n      <td>0.000000</td>\n    </tr>\n  </tbody>\n</table>\n<p>55440 rows × 11 columns</p>\n</div>"
     },
     "execution_count": 2,
     "metadata": {},
     "output_type": "execute_result"
    }
   ]
  },
  {
   "cell_type": "code",
   "source": [
    "df.isna().sum()"
   ],
   "metadata": {
    "id": "oAPqHXp-0Shp",
    "ExecuteTime": {
     "start_time": "2023-04-30T08:54:30.294601Z",
     "end_time": "2023-04-30T08:54:30.510140Z"
    }
   },
   "execution_count": 3,
   "outputs": [
    {
     "data": {
      "text/plain": "Unnamed: 0                         0\nCountry                            0\nEnergy_type                        0\nYear                               0\nEnergy_consumption             11153\nEnergy_production              11151\nGDP                            15414\nPopulation                      9426\nEnergy_intensity_per_capita     5082\nEnergy_intensity_by_GDP         5082\nCO2_emission                    3826\ndtype: int64"
     },
     "execution_count": 3,
     "metadata": {},
     "output_type": "execute_result"
    }
   ]
  },
  {
   "cell_type": "code",
   "source": [
    "df.mean()"
   ],
   "metadata": {
    "id": "qIAElvpY0Ltm",
    "ExecuteTime": {
     "start_time": "2023-04-30T08:54:30.383130Z",
     "end_time": "2023-04-30T08:54:38.351751Z"
    }
   },
   "execution_count": 4,
   "outputs": [
    {
     "name": "stderr",
     "output_type": "stream",
     "text": [
      "/tmp/ipykernel_10894/972437606.py:1: FutureWarning: Dropping of nuisance columns in DataFrame reductions (with 'numeric_only=None') is deprecated; in a future version this will raise TypeError.  Select only valid columns before calling the reduction.\n",
      "  df.mean()\n"
     ]
    },
    {
     "data": {
      "text/plain": "Unnamed: 0                     27719.500000\nYear                            1999.500000\nEnergy_consumption                 1.537811\nEnergy_production                  1.532700\nGDP                              827.144126\nPopulation                     62630.204775\nEnergy_intensity_per_capita       71.898914\nEnergy_intensity_by_GDP            3.695104\nCO2_emission                      78.800082\ndtype: float64"
     },
     "execution_count": 4,
     "metadata": {},
     "output_type": "execute_result"
    }
   ]
  },
  {
   "cell_type": "code",
   "source": [
    "df.dtypes\n"
   ],
   "metadata": {
    "id": "_8LA-0-82FoZ",
    "ExecuteTime": {
     "start_time": "2023-04-30T08:54:38.359135Z",
     "end_time": "2023-04-30T08:54:38.429930Z"
    }
   },
   "execution_count": 5,
   "outputs": [
    {
     "data": {
      "text/plain": "Unnamed: 0                       int64\nCountry                         object\nEnergy_type                     object\nYear                             int64\nEnergy_consumption             float64\nEnergy_production              float64\nGDP                            float64\nPopulation                     float64\nEnergy_intensity_per_capita    float64\nEnergy_intensity_by_GDP        float64\nCO2_emission                   float64\ndtype: object"
     },
     "execution_count": 5,
     "metadata": {},
     "output_type": "execute_result"
    }
   ]
  },
  {
   "cell_type": "code",
   "source": [
    "year = np.array(df['Year'])"
   ],
   "metadata": {
    "id": "dQMOyfgPuuOp",
    "ExecuteTime": {
     "start_time": "2023-04-30T08:54:38.375529Z",
     "end_time": "2023-04-30T08:54:38.496477Z"
    }
   },
   "execution_count": 6,
   "outputs": []
  },
  {
   "cell_type": "code",
   "source": [],
   "metadata": {
    "id": "wp__ez2o75U4",
    "ExecuteTime": {
     "start_time": "2023-04-30T08:54:38.387137Z",
     "end_time": "2023-04-30T08:54:38.497148Z"
    }
   },
   "execution_count": 6,
   "outputs": []
  },
  {
   "cell_type": "code",
   "source": [
    "co2 = np.array(df['CO2_emission'])"
   ],
   "metadata": {
    "id": "C-pzNG51vImd",
    "ExecuteTime": {
     "start_time": "2023-04-30T08:54:38.397104Z",
     "end_time": "2023-04-30T08:54:38.498484Z"
    }
   },
   "execution_count": 7,
   "outputs": []
  },
  {
   "cell_type": "code",
   "source": [
    "co2"
   ],
   "metadata": {
    "id": "xhNi4ziOvJ6K",
    "ExecuteTime": {
     "start_time": "2023-04-30T08:54:38.437652Z",
     "end_time": "2023-04-30T08:54:38.499502Z"
    }
   },
   "execution_count": 8,
   "outputs": [
    {
     "data": {
      "text/plain": "array([4.94662713e+03, 1.40979019e+03, 1.08159338e+03, ...,\n       4.37788994e+00, 0.00000000e+00, 0.00000000e+00])"
     },
     "execution_count": 8,
     "metadata": {},
     "output_type": "execute_result"
    }
   ]
  },
  {
   "cell_type": "code",
   "source": [
    "plt.title(\"Year vs Co2 emission\")\n",
    "plt.xlabel(\"Year\")\n",
    "plt.ylabel(\"Emission\")\n",
    "plt.plot(year,co2)"
   ],
   "metadata": {
    "id": "dGneryeovSqH",
    "ExecuteTime": {
     "start_time": "2023-04-30T08:54:38.481397Z",
     "end_time": "2023-04-30T08:54:39.106284Z"
    }
   },
   "execution_count": 9,
   "outputs": [
    {
     "data": {
      "text/plain": "[<matplotlib.lines.Line2D at 0x7f779d14af40>]"
     },
     "execution_count": 9,
     "metadata": {},
     "output_type": "execute_result"
    },
    {
     "data": {
      "text/plain": "<Figure size 432x288 with 1 Axes>",
      "image/png": "[encoded data removed]"
     },
     "metadata": {
      "needs_background": "light"
     },
     "output_type": "display_data"
    }
   ]
  },
  {
   "cell_type": "code",
   "source": [
    "cons = np.array(df['Energy_consumption'])\n",
    "pros = np.array(df['Energy_production'])"
   ],
   "metadata": {
    "id": "EZcRyS4CvYPs",
    "ExecuteTime": {
     "start_time": "2023-04-30T08:54:39.116444Z",
     "end_time": "2023-04-30T08:54:39.236564Z"
    }
   },
   "execution_count": 10,
   "outputs": []
  },
  {
   "cell_type": "code",
   "source": [
    "plt.title(\"Production vs Consumption\")\n",
    "plt.xlabel(\"Consumption\")\n",
    "plt.ylabel(\"Production\")\n",
    "\n",
    "plt.plot(cons,pros)"
   ],
   "metadata": {
    "id": "dGGsZ1wmv6W4",
    "ExecuteTime": {
     "start_time": "2023-04-30T08:54:39.157642Z",
     "end_time": "2023-04-30T08:54:39.712668Z"
    }
   },
   "execution_count": 11,
   "outputs": [
    {
     "data": {
      "text/plain": "[<matplotlib.lines.Line2D at 0x7f779c8badf0>]"
     },
     "execution_count": 11,
     "metadata": {},
     "output_type": "execute_result"
    },
    {
     "data": {
      "text/plain": "<Figure size 432x288 with 1 Axes>",
      "image/png": "[encoded data removed]"
     },
     "metadata": {
      "needs_background": "light"
     },
     "output_type": "display_data"
    }
   ]
  },
  {
   "cell_type": "code",
   "source": [
    "# Replacing missing values with mode\n",
    "df['CO2_emission'].fillna(df['CO2_emission'].mode()[0], inplace=True)"
   ],
   "metadata": {
    "id": "MhJ9alsQy0lR",
    "ExecuteTime": {
     "start_time": "2023-04-30T08:54:39.716017Z",
     "end_time": "2023-04-30T08:54:39.828466Z"
    }
   },
   "execution_count": 12,
   "outputs": []
  },
  {
   "cell_type": "code",
   "execution_count": 13,
   "outputs": [],
   "source": [
    "df['Energy_consumption'].fillna(df['Energy_consumption'].mode()[0], inplace=True)"
   ],
   "metadata": {
    "id": "48byqRzj_8Ix",
    "ExecuteTime": {
     "start_time": "2023-04-30T08:54:39.741701Z",
     "end_time": "2023-04-30T08:54:39.829957Z"
    }
   }
  },
  {
   "cell_type": "code",
   "execution_count": 14,
   "outputs": [],
   "source": [
    "df['Energy_production'].fillna(df['Energy_production'].mode()[0], inplace=True)"
   ],
   "metadata": {
    "id": "2YkyVCFN_8Iy",
    "ExecuteTime": {
     "start_time": "2023-04-30T08:54:39.789774Z",
     "end_time": "2023-04-30T08:54:39.830589Z"
    }
   }
  },
  {
   "cell_type": "code",
   "execution_count": 15,
   "outputs": [],
   "source": [
    "df['Population'].fillna(df['Population'].mode()[0], inplace=True)"
   ],
   "metadata": {
    "ExecuteTime": {
     "start_time": "2023-04-30T08:54:39.790070Z",
     "end_time": "2023-04-30T08:54:39.831066Z"
    },
    "id": "AwHg0ow__8Iy"
   }
  },
  {
   "cell_type": "code",
   "execution_count": 16,
   "outputs": [],
   "source": [
    "df['GDP'].fillna(df['GDP'].mode()[0], inplace=True)"
   ],
   "metadata": {
    "ExecuteTime": {
     "start_time": "2023-04-30T08:54:39.833874Z",
     "end_time": "2023-04-30T08:54:39.879460Z"
    },
    "id": "rRXAruPn_8Iy"
   }
  },
  {
   "cell_type": "code",
   "execution_count": 17,
   "outputs": [],
   "source": [
    "df['Energy_intensity_by_GDP'].fillna(df['Energy_intensity_by_GDP'].mode()[0], inplace=True)"
   ],
   "metadata": {
    "ExecuteTime": {
     "start_time": "2023-04-30T08:54:39.834140Z",
     "end_time": "2023-04-30T08:54:39.880137Z"
    },
    "id": "bNpitzgd_8Iz"
   }
  },
  {
   "cell_type": "code",
   "source": [
    "df.isna().sum()"
   ],
   "metadata": {
    "id": "M7JsmbJmAocH",
    "ExecuteTime": {
     "start_time": "2023-04-30T08:54:39.834504Z",
     "end_time": "2023-04-30T08:54:39.988245Z"
    }
   },
   "execution_count": 18,
   "outputs": [
    {
     "data": {
      "text/plain": "Unnamed: 0                        0\nCountry                           0\nEnergy_type                       0\nYear                              0\nEnergy_consumption                0\nEnergy_production                 0\nGDP                               0\nPopulation                        0\nEnergy_intensity_per_capita    5082\nEnergy_intensity_by_GDP           0\nCO2_emission                      0\ndtype: int64"
     },
     "execution_count": 18,
     "metadata": {},
     "output_type": "execute_result"
    }
   ]
  },
  {
   "cell_type": "code",
   "source": [
    "df['Energy_intensity_per_capita'].fillna(df['Energy_intensity_per_capita'].mode()[0], inplace=True)"
   ],
   "metadata": {
    "id": "oTxfg2NJAqsh",
    "ExecuteTime": {
     "start_time": "2023-04-30T08:54:39.955106Z",
     "end_time": "2023-04-30T08:54:40.050546Z"
    }
   },
   "execution_count": 19,
   "outputs": []
  },
  {
   "cell_type": "code",
   "source": [
    "df = df.dropna()"
   ],
   "metadata": {
    "id": "AlybVVXpA04q",
    "ExecuteTime": {
     "start_time": "2023-04-30T08:54:39.997499Z",
     "end_time": "2023-04-30T08:54:40.148158Z"
    }
   },
   "execution_count": 20,
   "outputs": []
  },
  {
   "cell_type": "code",
   "source": [
    "df"
   ],
   "metadata": {
    "id": "SjaZroUPA3ab",
    "ExecuteTime": {
     "start_time": "2023-04-30T08:54:40.052483Z",
     "end_time": "2023-04-30T08:54:40.153461Z"
    }
   },
   "execution_count": 21,
   "outputs": [
    {
     "data": {
      "text/plain": "       Unnamed: 0   Country                Energy_type  Year  \\\n0               0     World           all_energy_types  1980   \n1               1     World                       coal  1980   \n2               2     World                natural_gas  1980   \n3               3     World  petroleum_n_other_liquids  1980   \n4               4     World                    nuclear  1980   \n...           ...       ...                        ...   ...   \n55435       55435  Zimbabwe                       coal  2019   \n55436       55436  Zimbabwe                natural_gas  2019   \n55437       55437  Zimbabwe  petroleum_n_other_liquids  2019   \n55438       55438  Zimbabwe                    nuclear  2019   \n55439       55439  Zimbabwe         renewables_n_other  2019   \n\n       Energy_consumption  Energy_production           GDP    Population  \\\n0              292.899790         296.337228  27770.910281  4.298127e+06   \n1               78.656134          80.114194  27770.910281  4.298127e+06   \n2               53.865223          54.761046  27770.910281  4.298127e+06   \n3              132.064019         133.111109  27770.910281  4.298127e+06   \n4                7.575700           7.575700  27770.910281  4.298127e+06   \n...                   ...                ...           ...           ...   \n55435            0.045064           0.075963     37.620400  1.465420e+04   \n55436            0.000000           0.000000     37.620400  1.465420e+04   \n55437            0.055498           0.000000     37.620400  1.465420e+04   \n55438            0.000000           0.000000     37.620400  1.465420e+04   \n55439            0.068089           0.067499     37.620400  1.465420e+04   \n\n       Energy_intensity_per_capita  Energy_intensity_by_GDP  CO2_emission  \n0                        68.145921                10.547000   4946.627130  \n1                        68.145921                10.547000   1409.790188  \n2                        68.145921                10.547000   1081.593377  \n3                        68.145921                10.547000   2455.243565  \n4                        68.145921                10.547000      0.000000  \n...                            ...                      ...           ...  \n55435                    11.508701                 4.482962      4.586869  \n55436                    11.508701                 4.482962      0.000000  \n55437                    11.508701                 4.482962      4.377890  \n55438                    11.508701                 4.482962      0.000000  \n55439                    11.508701                 4.482962      0.000000  \n\n[55440 rows x 11 columns]",
      "text/html": "<div>\n<style scoped>\n    .dataframe tbody tr th:only-of-type {\n        vertical-align: middle;\n    }\n\n    .dataframe tbody tr th {\n        vertical-align: top;\n    }\n\n    .dataframe thead th {\n        text-align: right;\n    }\n</style>\n<table border=\"1\" class=\"dataframe\">\n  <thead>\n    <tr style=\"text-align: right;\">\n      <th></th>\n      <th>Unnamed: 0</th>\n      <th>Country</th>\n      <th>Energy_type</th>\n      <th>Year</th>\n      <th>Energy_consumption</th>\n      <th>Energy_production</th>\n      <th>GDP</th>\n      <th>Population</th>\n      <th>Energy_intensity_per_capita</th>\n      <th>Energy_intensity_by_GDP</th>\n      <th>CO2_emission</th>\n    </tr>\n  </thead>\n  <tbody>\n    <tr>\n      <th>0</th>\n      <td>0</td>\n      <td>World</td>\n      <td>all_energy_types</td>\n      <td>1980</td>\n      <td>292.899790</td>\n      <td>296.337228</td>\n      <td>27770.910281</td>\n      <td>4.298127e+06</td>\n      <td>68.145921</td>\n      <td>10.547000</td>\n      <td>4946.627130</td>\n    </tr>\n    <tr>\n      <th>1</th>\n      <td>1</td>\n      <td>World</td>\n      <td>coal</td>\n      <td>1980</td>\n      <td>78.656134</td>\n      <td>80.114194</td>\n      <td>27770.910281</td>\n      <td>4.298127e+06</td>\n      <td>68.145921</td>\n      <td>10.547000</td>\n      <td>1409.790188</td>\n    </tr>\n    <tr>\n      <th>2</th>\n      <td>2</td>\n      <td>World</td>\n      <td>natural_gas</td>\n      <td>1980</td>\n      <td>53.865223</td>\n      <td>54.761046</td>\n      <td>27770.910281</td>\n      <td>4.298127e+06</td>\n      <td>68.145921</td>\n      <td>10.547000</td>\n      <td>1081.593377</td>\n    </tr>\n    <tr>\n      <th>3</th>\n      <td>3</td>\n      <td>World</td>\n      <td>petroleum_n_other_liquids</td>\n      <td>1980</td>\n      <td>132.064019</td>\n      <td>133.111109</td>\n      <td>27770.910281</td>\n      <td>4.298127e+06</td>\n      <td>68.145921</td>\n      <td>10.547000</td>\n      <td>2455.243565</td>\n    </tr>\n    <tr>\n      <th>4</th>\n      <td>4</td>\n      <td>World</td>\n      <td>nuclear</td>\n      <td>1980</td>\n      <td>7.575700</td>\n      <td>7.575700</td>\n      <td>27770.910281</td>\n      <td>4.298127e+06</td>\n      <td>68.145921</td>\n      <td>10.547000</td>\n      <td>0.000000</td>\n    </tr>\n    <tr>\n      <th>...</th>\n      <td>...</td>\n      <td>...</td>\n      <td>...</td>\n      <td>...</td>\n      <td>...</td>\n      <td>...</td>\n      <td>...</td>\n      <td>...</td>\n      <td>...</td>\n      <td>...</td>\n      <td>...</td>\n    </tr>\n    <tr>\n      <th>55435</th>\n      <td>55435</td>\n      <td>Zimbabwe</td>\n      <td>coal</td>\n      <td>2019</td>\n      <td>0.045064</td>\n      <td>0.075963</td>\n      <td>37.620400</td>\n      <td>1.465420e+04</td>\n      <td>11.508701</td>\n      <td>4.482962</td>\n      <td>4.586869</td>\n    </tr>\n    <tr>\n      <th>55436</th>\n      <td>55436</td>\n      <td>Zimbabwe</td>\n      <td>natural_gas</td>\n      <td>2019</td>\n      <td>0.000000</td>\n      <td>0.000000</td>\n      <td>37.620400</td>\n      <td>1.465420e+04</td>\n      <td>11.508701</td>\n      <td>4.482962</td>\n      <td>0.000000</td>\n    </tr>\n    <tr>\n      <th>55437</th>\n      <td>55437</td>\n      <td>Zimbabwe</td>\n      <td>petroleum_n_other_liquids</td>\n      <td>2019</td>\n      <td>0.055498</td>\n      <td>0.000000</td>\n      <td>37.620400</td>\n      <td>1.465420e+04</td>\n      <td>11.508701</td>\n      <td>4.482962</td>\n      <td>4.377890</td>\n    </tr>\n    <tr>\n      <th>55438</th>\n      <td>55438</td>\n      <td>Zimbabwe</td>\n      <td>nuclear</td>\n      <td>2019</td>\n      <td>0.000000</td>\n      <td>0.000000</td>\n      <td>37.620400</td>\n      <td>1.465420e+04</td>\n      <td>11.508701</td>\n      <td>4.482962</td>\n      <td>0.000000</td>\n    </tr>\n    <tr>\n      <th>55439</th>\n      <td>55439</td>\n      <td>Zimbabwe</td>\n      <td>renewables_n_other</td>\n      <td>2019</td>\n      <td>0.068089</td>\n      <td>0.067499</td>\n      <td>37.620400</td>\n      <td>1.465420e+04</td>\n      <td>11.508701</td>\n      <td>4.482962</td>\n      <td>0.000000</td>\n    </tr>\n  </tbody>\n</table>\n<p>55440 rows × 11 columns</p>\n</div>"
     },
     "execution_count": 21,
     "metadata": {},
     "output_type": "execute_result"
    }
   ]
  },
  {
   "cell_type": "code",
   "source": [
    "df.describe()"
   ],
   "metadata": {
    "id": "VUrx-Zm8WUUI",
    "ExecuteTime": {
     "start_time": "2023-04-30T08:54:40.137614Z",
     "end_time": "2023-04-30T08:54:40.353256Z"
    }
   },
   "execution_count": 22,
   "outputs": [
    {
     "data": {
      "text/plain": "         Unnamed: 0        Year  Energy_consumption  Energy_production  \\\ncount  55440.000000  55440.0000        55440.000000       5.544000e+04   \nmean   27719.500000   1999.5000            1.228446       1.224418e+00   \nstd    16004.293799     11.5435           13.828383       1.369195e+01   \nmin        0.000000   1980.0000           -0.163438      -1.000000e-39   \n25%    13859.750000   1989.7500            0.000000       0.000000e+00   \n50%    27719.500000   1999.5000            0.003233       0.000000e+00   \n75%    41579.250000   2009.2500            0.118580       4.493183e-02   \nmax    55439.000000   2019.0000          601.040490       6.115090e+02   \n\n                 GDP    Population  Energy_intensity_per_capita  \\\ncount   55440.000000  5.544000e+04                 55440.000000   \nmean      646.559628  5.199936e+04                    65.308180   \nstd      5090.887635  4.162830e+05                   110.358524   \nmin         0.124958  1.147100e+01                     0.000000   \n25%        20.225725  1.594310e+02                     1.769796   \n50%       177.630400  3.835520e+03                    20.718595   \n75%       177.630400  1.520805e+04                    84.976154   \nmax    127690.247059  7.714631e+06                  1139.320598   \n\n       Energy_intensity_by_GDP  CO2_emission  \ncount             55440.000000  55440.000000  \nmean                  3.356386     73.361967  \nstd                   4.503314    870.761661  \nmin                   0.000000     -0.005130  \n25%                   0.000000      0.000000  \n50%                   2.630796      0.000000  \n75%                   4.694408      3.300000  \nmax                 166.913605  35584.933498  ",
      "text/html": "<div>\n<style scoped>\n    .dataframe tbody tr th:only-of-type {\n        vertical-align: middle;\n    }\n\n    .dataframe tbody tr th {\n        vertical-align: top;\n    }\n\n    .dataframe thead th {\n        text-align: right;\n    }\n</style>\n<table border=\"1\" class=\"dataframe\">\n  <thead>\n    <tr style=\"text-align: right;\">\n      <th></th>\n      <th>Unnamed: 0</th>\n      <th>Year</th>\n      <th>Energy_consumption</th>\n      <th>Energy_production</th>\n      <th>GDP</th>\n      <th>Population</th>\n      <th>Energy_intensity_per_capita</th>\n      <th>Energy_intensity_by_GDP</th>\n      <th>CO2_emission</th>\n    </tr>\n  </thead>\n  <tbody>\n    <tr>\n      <th>count</th>\n      <td>55440.000000</td>\n      <td>55440.0000</td>\n      <td>55440.000000</td>\n      <td>5.544000e+04</td>\n      <td>55440.000000</td>\n      <td>5.544000e+04</td>\n      <td>55440.000000</td>\n      <td>55440.000000</td>\n      <td>55440.000000</td>\n    </tr>\n    <tr>\n      <th>mean</th>\n      <td>27719.500000</td>\n      <td>1999.5000</td>\n      <td>1.228446</td>\n      <td>1.224418e+00</td>\n      <td>646.559628</td>\n      <td>5.199936e+04</td>\n      <td>65.308180</td>\n      <td>3.356386</td>\n      <td>73.361967</td>\n    </tr>\n    <tr>\n      <th>std</th>\n      <td>16004.293799</td>\n      <td>11.5435</td>\n      <td>13.828383</td>\n      <td>1.369195e+01</td>\n      <td>5090.887635</td>\n      <td>4.162830e+05</td>\n      <td>110.358524</td>\n      <td>4.503314</td>\n      <td>870.761661</td>\n    </tr>\n    <tr>\n      <th>min</th>\n      <td>0.000000</td>\n      <td>1980.0000</td>\n      <td>-0.163438</td>\n      <td>-1.000000e-39</td>\n      <td>0.124958</td>\n      <td>1.147100e+01</td>\n      <td>0.000000</td>\n      <td>0.000000</td>\n      <td>-0.005130</td>\n    </tr>\n    <tr>\n      <th>25%</th>\n      <td>13859.750000</td>\n      <td>1989.7500</td>\n      <td>0.000000</td>\n      <td>0.000000e+00</td>\n      <td>20.225725</td>\n      <td>1.594310e+02</td>\n      <td>1.769796</td>\n      <td>0.000000</td>\n      <td>0.000000</td>\n    </tr>\n    <tr>\n      <th>50%</th>\n      <td>27719.500000</td>\n      <td>1999.5000</td>\n      <td>0.003233</td>\n      <td>0.000000e+00</td>\n      <td>177.630400</td>\n      <td>3.835520e+03</td>\n      <td>20.718595</td>\n      <td>2.630796</td>\n      <td>0.000000</td>\n    </tr>\n    <tr>\n      <th>75%</th>\n      <td>41579.250000</td>\n      <td>2009.2500</td>\n      <td>0.118580</td>\n      <td>4.493183e-02</td>\n      <td>177.630400</td>\n      <td>1.520805e+04</td>\n      <td>84.976154</td>\n      <td>4.694408</td>\n      <td>3.300000</td>\n    </tr>\n    <tr>\n      <th>max</th>\n      <td>55439.000000</td>\n      <td>2019.0000</td>\n      <td>601.040490</td>\n      <td>6.115090e+02</td>\n      <td>127690.247059</td>\n      <td>7.714631e+06</td>\n      <td>1139.320598</td>\n      <td>166.913605</td>\n      <td>35584.933498</td>\n    </tr>\n  </tbody>\n</table>\n</div>"
     },
     "execution_count": 22,
     "metadata": {},
     "output_type": "execute_result"
    }
   ]
  },
  {
   "cell_type": "code",
   "source": [
    "df['Energy_type'].value_counts()"
   ],
   "metadata": {
    "id": "je1KmB61VoC8",
    "ExecuteTime": {
     "start_time": "2023-04-30T08:54:40.268596Z",
     "end_time": "2023-04-30T08:54:40.516276Z"
    }
   },
   "execution_count": 23,
   "outputs": [
    {
     "data": {
      "text/plain": "all_energy_types             9240\ncoal                         9240\nnatural_gas                  9240\npetroleum_n_other_liquids    9240\nnuclear                      9240\nrenewables_n_other           9240\nName: Energy_type, dtype: int64"
     },
     "execution_count": 23,
     "metadata": {},
     "output_type": "execute_result"
    }
   ]
  },
  {
   "cell_type": "code",
   "source": [
    "df.dtypes"
   ],
   "metadata": {
    "id": "CoK7H7vOBN95",
    "ExecuteTime": {
     "start_time": "2023-04-30T08:54:40.309810Z",
     "end_time": "2023-04-30T08:54:40.518110Z"
    }
   },
   "execution_count": 24,
   "outputs": [
    {
     "data": {
      "text/plain": "Unnamed: 0                       int64\nCountry                         object\nEnergy_type                     object\nYear                             int64\nEnergy_consumption             float64\nEnergy_production              float64\nGDP                            float64\nPopulation                     float64\nEnergy_intensity_per_capita    float64\nEnergy_intensity_by_GDP        float64\nCO2_emission                   float64\ndtype: object"
     },
     "execution_count": 24,
     "metadata": {},
     "output_type": "execute_result"
    }
   ]
  },
  {
   "cell_type": "code",
   "source": [
    "from sklearn.tree import DecisionTreeRegressor\n",
    "from sklearn.model_selection import train_test_split\n",
    "from sklearn.metrics import r2_score\n",
    "import numpy as np"
   ],
   "metadata": {
    "id": "OVRbfQJUGvOo",
    "ExecuteTime": {
     "start_time": "2023-04-30T08:54:40.353707Z",
     "end_time": "2023-04-30T08:54:41.658444Z"
    }
   },
   "execution_count": 25,
   "outputs": []
  },
  {
   "cell_type": "code",
   "source": [
    "X = df[['Energy_production']]\n",
    "y = df['Energy_consumption']"
   ],
   "metadata": {
    "id": "GXqyEysCIBMC",
    "ExecuteTime": {
     "start_time": "2023-04-30T08:55:23.163612Z",
     "end_time": "2023-04-30T08:55:23.263626Z"
    }
   },
   "execution_count": 27,
   "outputs": []
  },
  {
   "cell_type": "code",
   "source": [
    "X_a = np.array(X)\n",
    "X = X_a.reshape((-1,1))\n",
    "Y_a = np.array(y)\n",
    "y = Y_a.reshape((-1,1))"
   ],
   "metadata": {
    "id": "mAmU4-OOLKXX",
    "ExecuteTime": {
     "start_time": "2023-04-30T08:55:24.223528Z",
     "end_time": "2023-04-30T08:55:24.288572Z"
    }
   },
   "execution_count": 28,
   "outputs": []
  },
  {
   "cell_type": "code",
   "source": [
    "X_train, X_test, y_train, y_test = train_test_split(X, y, test_size=0.2, random_state=42)"
   ],
   "metadata": {
    "id": "mMTTPXxnGeDL",
    "ExecuteTime": {
     "start_time": "2023-04-30T08:55:25.065757Z",
     "end_time": "2023-04-30T08:55:25.167604Z"
    }
   },
   "execution_count": 29,
   "outputs": []
  },
  {
   "cell_type": "code",
   "source": [
    "clf = DecisionTreeRegressor()\n",
    "\n",
    "# Fit the classifier to the training data\n",
    "clf.fit(X_train, y_train)\n",
    "\n",
    "# Predict the class labels of the testing data\n",
    "y_pred = clf.predict(X_test)\n",
    "\n",
    "# Calculate the accuracy of the classifier\n",
    "accuracy = r2_score(y_test, y_pred)\n",
    "print(\"accuracy: \", accuracy)"
   ],
   "metadata": {
    "id": "eJ5E7KDFG89e",
    "ExecuteTime": {
     "start_time": "2023-04-30T08:55:25.806557Z",
     "end_time": "2023-04-30T08:55:26.049732Z"
    }
   },
   "execution_count": 30,
   "outputs": [
    {
     "name": "stdout",
     "output_type": "stream",
     "text": [
      "accuracy:  0.9856189345306126\n"
     ]
    }
   ]
  },
  {
   "cell_type": "code",
   "source": [
    "X_train"
   ],
   "metadata": {
    "id": "LeTkRoz_L38a",
    "ExecuteTime": {
     "start_time": "2023-04-30T08:55:27.555344Z",
     "end_time": "2023-04-30T08:55:27.604449Z"
    }
   },
   "execution_count": 31,
   "outputs": [
    {
     "data": {
      "text/plain": "array([[0.],\n       [0.],\n       [0.],\n       ...,\n       [0.],\n       [0.],\n       [0.]])"
     },
     "execution_count": 31,
     "metadata": {},
     "output_type": "execute_result"
    }
   ]
  },
  {
   "cell_type": "code",
   "source": [
    "# Appliying k means with elbow method"
   ],
   "metadata": {
    "id": "BOO8jgmxMj5V",
    "ExecuteTime": {
     "start_time": "2023-04-30T08:57:50.998820Z",
     "end_time": "2023-04-30T08:57:51.012475Z"
    }
   },
   "execution_count": 34,
   "outputs": []
  },
  {
   "cell_type": "code",
   "execution_count": 35,
   "outputs": [],
   "source": [
    "from sklearn.cluster import KMeans\n",
    "cluster_range = range(1,10)\n",
    "cluster_errors = []\n",
    "for num_clusters in cluster_range:\n",
    "    clusters = KMeans(num_clusters)\n",
    "    clusters.fit(X)\n",
    "    cluster_errors.append(clusters.inertia_)"
   ],
   "metadata": {
    "collapsed": false,
    "ExecuteTime": {
     "start_time": "2023-04-30T08:58:22.127784Z",
     "end_time": "2023-04-30T08:58:30.319830Z"
    }
   }
  },
  {
   "cell_type": "code",
   "execution_count": 36,
   "outputs": [
    {
     "data": {
      "text/plain": "   num_clusters  cluster_errors\n0             1    1.039312e+07\n1             2    3.229560e+06\n2             3    1.031869e+06\n3             4    7.296224e+05\n4             5    4.556589e+05\n5             6    2.454554e+05\n6             7    1.891963e+05\n7             8    1.518080e+05\n8             9    1.176493e+05",
      "text/html": "<div>\n<style scoped>\n    .dataframe tbody tr th:only-of-type {\n        vertical-align: middle;\n    }\n\n    .dataframe tbody tr th {\n        vertical-align: top;\n    }\n\n    .dataframe thead th {\n        text-align: right;\n    }\n</style>\n<table border=\"1\" class=\"dataframe\">\n  <thead>\n    <tr style=\"text-align: right;\">\n      <th></th>\n      <th>num_clusters</th>\n      <th>cluster_errors</th>\n    </tr>\n  </thead>\n  <tbody>\n    <tr>\n      <th>0</th>\n      <td>1</td>\n      <td>1.039312e+07</td>\n    </tr>\n    <tr>\n      <th>1</th>\n      <td>2</td>\n      <td>3.229560e+06</td>\n    </tr>\n    <tr>\n      <th>2</th>\n      <td>3</td>\n      <td>1.031869e+06</td>\n    </tr>\n    <tr>\n      <th>3</th>\n      <td>4</td>\n      <td>7.296224e+05</td>\n    </tr>\n    <tr>\n      <th>4</th>\n      <td>5</td>\n      <td>4.556589e+05</td>\n    </tr>\n    <tr>\n      <th>5</th>\n      <td>6</td>\n      <td>2.454554e+05</td>\n    </tr>\n    <tr>\n      <th>6</th>\n      <td>7</td>\n      <td>1.891963e+05</td>\n    </tr>\n    <tr>\n      <th>7</th>\n      <td>8</td>\n      <td>1.518080e+05</td>\n    </tr>\n    <tr>\n      <th>8</th>\n      <td>9</td>\n      <td>1.176493e+05</td>\n    </tr>\n  </tbody>\n</table>\n</div>"
     },
     "execution_count": 36,
     "metadata": {},
     "output_type": "execute_result"
    }
   ],
   "source": [
    "clusters_df = pd.DataFrame({\"num_clusters\":cluster_range, \"cluster_errors\": cluster_errors})\n",
    "clusters_df[0:10]\n"
   ],
   "metadata": {
    "collapsed": false,
    "ExecuteTime": {
     "start_time": "2023-04-30T08:59:44.774815Z",
     "end_time": "2023-04-30T08:59:44.802970Z"
    }
   }
  },
  {
   "cell_type": "code",
   "execution_count": 38,
   "outputs": [
    {
     "data": {
      "text/plain": "Text(0, 0.5, 'WCSS')"
     },
     "execution_count": 38,
     "metadata": {},
     "output_type": "execute_result"
    },
    {
     "data": {
      "text/plain": "<Figure size 864x432 with 1 Axes>",
      "image/png": "[encoded data removed]"
     },
     "metadata": {
      "needs_background": "light"
     },
     "output_type": "display_data"
    }
   ],
   "source": [
    "plt.figure(figsize=(12,6))\n",
    "plt.plot(clusters_df.num_clusters, clusters_df.cluster_errors, marker = \"o\")\n",
    "plt.xlabel(\"Number of clusters\")\n",
    "plt.ylabel(\"WCSS\")\n"
   ],
   "metadata": {
    "collapsed": false,
    "ExecuteTime": {
     "start_time": "2023-04-30T09:00:26.659507Z",
     "end_time": "2023-04-30T09:00:27.191491Z"
    }
   }
  },
  {
   "cell_type": "code",
   "source": [
    "# Applying k means with 3 clusters\n",
    "clusters = KMeans(3)\n",
    "clusters.fit(X)\n",
    "clusters.cluster_centers_\n"
   ],
   "metadata": {
    "id": "AiKX-cGNN6iY",
    "ExecuteTime": {
     "start_time": "2023-04-30T08:55:30.639042Z",
     "end_time": "2023-04-30T08:55:30.658022Z"
    }
   },
   "execution_count": 33,
   "outputs": []
  },
  {
   "cell_type": "code",
   "source": [
    "print(clusters.labels_)"
   ],
   "metadata": {
    "id": "ridYCEydOQzY",
    "ExecuteTime": {
     "start_time": "2023-04-30T09:06:50.219417Z",
     "end_time": "2023-04-30T09:06:50.308835Z"
    }
   },
   "execution_count": 39,
   "outputs": [
    {
     "name": "stdout",
     "output_type": "stream",
     "text": [
      "[1 7 7 ... 0 0 0]\n"
     ]
    }
   ]
  },
  {
   "cell_type": "code",
   "execution_count": 40,
   "outputs": [
    {
     "name": "stdout",
     "output_type": "stream",
     "text": [
      "[[1.27334195e-01]\n",
      " [3.42148684e+02]\n",
      " [1.09172434e+02]\n",
      " [5.64038345e+02]\n",
      " [5.90678771e+00]\n",
      " [2.28380515e+01]\n",
      " [1.61205723e+02]\n",
      " [6.88009081e+01]\n",
      " [4.48708057e+02]]\n"
     ]
    }
   ],
   "source": [
    "print(clusters.cluster_centers_)"
   ],
   "metadata": {
    "collapsed": false,
    "ExecuteTime": {
     "start_time": "2023-04-30T09:07:15.772273Z",
     "end_time": "2023-04-30T09:07:15.818050Z"
    }
   }
  },
  {
   "cell_type": "code",
   "execution_count": 41,
   "outputs": [
    {
     "ename": "InvalidIndexError",
     "evalue": "(slice(None, None, None), 0)",
     "output_type": "error",
     "traceback": [
      "\u001B[0;31m---------------------------------------------------------------------------\u001B[0m",
      "\u001B[0;31mTypeError\u001B[0m                                 Traceback (most recent call last)",
      "File \u001B[0;32m~/anaconda3/lib/python3.9/site-packages/pandas/core/indexes/base.py:3621\u001B[0m, in \u001B[0;36mIndex.get_loc\u001B[0;34m(self, key, method, tolerance)\u001B[0m\n\u001B[1;32m   3620\u001B[0m \u001B[38;5;28;01mtry\u001B[39;00m:\n\u001B[0;32m-> 3621\u001B[0m     \u001B[38;5;28;01mreturn\u001B[39;00m \u001B[38;5;28;43mself\u001B[39;49m\u001B[38;5;241;43m.\u001B[39;49m\u001B[43m_engine\u001B[49m\u001B[38;5;241;43m.\u001B[39;49m\u001B[43mget_loc\u001B[49m\u001B[43m(\u001B[49m\u001B[43mcasted_key\u001B[49m\u001B[43m)\u001B[49m\n\u001B[1;32m   3622\u001B[0m \u001B[38;5;28;01mexcept\u001B[39;00m \u001B[38;5;167;01mKeyError\u001B[39;00m \u001B[38;5;28;01mas\u001B[39;00m err:\n",
      "File \u001B[0;32m~/anaconda3/lib/python3.9/site-packages/pandas/_libs/index.pyx:136\u001B[0m, in \u001B[0;36mpandas._libs.index.IndexEngine.get_loc\u001B[0;34m()\u001B[0m\n",
      "File \u001B[0;32m~/anaconda3/lib/python3.9/site-packages/pandas/_libs/index.pyx:142\u001B[0m, in \u001B[0;36mpandas._libs.index.IndexEngine.get_loc\u001B[0;34m()\u001B[0m\n",
      "\u001B[0;31mTypeError\u001B[0m: '(slice(None, None, None), 0)' is an invalid key",
      "\nDuring handling of the above exception, another exception occurred:\n",
      "\u001B[0;31mInvalidIndexError\u001B[0m                         Traceback (most recent call last)",
      "Input \u001B[0;32mIn [41]\u001B[0m, in \u001B[0;36m<cell line: 1>\u001B[0;34m()\u001B[0m\n\u001B[0;32m----> 1\u001B[0m plt\u001B[38;5;241m.\u001B[39mscatter(\u001B[43mdf\u001B[49m\u001B[43m[\u001B[49m\u001B[43m:\u001B[49m\u001B[43m,\u001B[49m\u001B[38;5;241;43m0\u001B[39;49m\u001B[43m]\u001B[49m, df[:,\u001B[38;5;241m1\u001B[39m],df[:,\u001B[38;5;241m2\u001B[39m], s\u001B[38;5;241m=\u001B[39m\u001B[38;5;241m50\u001B[39m, c\u001B[38;5;241m=\u001B[39m\u001B[38;5;124m'\u001B[39m\u001B[38;5;124mb\u001B[39m\u001B[38;5;124m'\u001B[39m,label \u001B[38;5;241m=\u001B[39m \u001B[38;5;124m\"\u001B[39m\u001B[38;5;124mTrue Position\u001B[39m\u001B[38;5;124m\"\u001B[39m,cmap \u001B[38;5;241m=\u001B[39m \u001B[38;5;124m'\u001B[39m\u001B[38;5;124mrainbow\u001B[39m\u001B[38;5;124m'\u001B[39m)\n",
      "File \u001B[0;32m~/anaconda3/lib/python3.9/site-packages/pandas/core/frame.py:3505\u001B[0m, in \u001B[0;36mDataFrame.__getitem__\u001B[0;34m(self, key)\u001B[0m\n\u001B[1;32m   3503\u001B[0m \u001B[38;5;28;01mif\u001B[39;00m \u001B[38;5;28mself\u001B[39m\u001B[38;5;241m.\u001B[39mcolumns\u001B[38;5;241m.\u001B[39mnlevels \u001B[38;5;241m>\u001B[39m \u001B[38;5;241m1\u001B[39m:\n\u001B[1;32m   3504\u001B[0m     \u001B[38;5;28;01mreturn\u001B[39;00m \u001B[38;5;28mself\u001B[39m\u001B[38;5;241m.\u001B[39m_getitem_multilevel(key)\n\u001B[0;32m-> 3505\u001B[0m indexer \u001B[38;5;241m=\u001B[39m \u001B[38;5;28;43mself\u001B[39;49m\u001B[38;5;241;43m.\u001B[39;49m\u001B[43mcolumns\u001B[49m\u001B[38;5;241;43m.\u001B[39;49m\u001B[43mget_loc\u001B[49m\u001B[43m(\u001B[49m\u001B[43mkey\u001B[49m\u001B[43m)\u001B[49m\n\u001B[1;32m   3506\u001B[0m \u001B[38;5;28;01mif\u001B[39;00m is_integer(indexer):\n\u001B[1;32m   3507\u001B[0m     indexer \u001B[38;5;241m=\u001B[39m [indexer]\n",
      "File \u001B[0;32m~/anaconda3/lib/python3.9/site-packages/pandas/core/indexes/base.py:3628\u001B[0m, in \u001B[0;36mIndex.get_loc\u001B[0;34m(self, key, method, tolerance)\u001B[0m\n\u001B[1;32m   3623\u001B[0m         \u001B[38;5;28;01mraise\u001B[39;00m \u001B[38;5;167;01mKeyError\u001B[39;00m(key) \u001B[38;5;28;01mfrom\u001B[39;00m \u001B[38;5;21;01merr\u001B[39;00m\n\u001B[1;32m   3624\u001B[0m     \u001B[38;5;28;01mexcept\u001B[39;00m \u001B[38;5;167;01mTypeError\u001B[39;00m:\n\u001B[1;32m   3625\u001B[0m         \u001B[38;5;66;03m# If we have a listlike key, _check_indexing_error will raise\u001B[39;00m\n\u001B[1;32m   3626\u001B[0m         \u001B[38;5;66;03m#  InvalidIndexError. Otherwise we fall through and re-raise\u001B[39;00m\n\u001B[1;32m   3627\u001B[0m         \u001B[38;5;66;03m#  the TypeError.\u001B[39;00m\n\u001B[0;32m-> 3628\u001B[0m         \u001B[38;5;28;43mself\u001B[39;49m\u001B[38;5;241;43m.\u001B[39;49m\u001B[43m_check_indexing_error\u001B[49m\u001B[43m(\u001B[49m\u001B[43mkey\u001B[49m\u001B[43m)\u001B[49m\n\u001B[1;32m   3629\u001B[0m         \u001B[38;5;28;01mraise\u001B[39;00m\n\u001B[1;32m   3631\u001B[0m \u001B[38;5;66;03m# GH#42269\u001B[39;00m\n",
      "File \u001B[0;32m~/anaconda3/lib/python3.9/site-packages/pandas/core/indexes/base.py:5637\u001B[0m, in \u001B[0;36mIndex._check_indexing_error\u001B[0;34m(self, key)\u001B[0m\n\u001B[1;32m   5633\u001B[0m \u001B[38;5;28;01mdef\u001B[39;00m \u001B[38;5;21m_check_indexing_error\u001B[39m(\u001B[38;5;28mself\u001B[39m, key):\n\u001B[1;32m   5634\u001B[0m     \u001B[38;5;28;01mif\u001B[39;00m \u001B[38;5;129;01mnot\u001B[39;00m is_scalar(key):\n\u001B[1;32m   5635\u001B[0m         \u001B[38;5;66;03m# if key is not a scalar, directly raise an error (the code below\u001B[39;00m\n\u001B[1;32m   5636\u001B[0m         \u001B[38;5;66;03m# would convert to numpy arrays and raise later any way) - GH29926\u001B[39;00m\n\u001B[0;32m-> 5637\u001B[0m         \u001B[38;5;28;01mraise\u001B[39;00m InvalidIndexError(key)\n",
      "\u001B[0;31mInvalidIndexError\u001B[0m: (slice(None, None, None), 0)"
     ]
    }
   ],
   "source": [
    "plt.scatter(df[:,0], df[:,1],df[:,2], s=50, c='b',label = \"True Position\",cmap = 'rainbow')"
   ],
   "metadata": {
    "collapsed": false
   }
  },
  {
   "cell_type": "code",
   "execution_count": 42,
   "outputs": [
    {
     "ename": "InvalidIndexError",
     "evalue": "(slice(None, None, None), 0)",
     "output_type": "error",
     "traceback": [
      "\u001B[0;31m---------------------------------------------------------------------------\u001B[0m",
      "\u001B[0;31mTypeError\u001B[0m                                 Traceback (most recent call last)",
      "File \u001B[0;32m~/anaconda3/lib/python3.9/site-packages/pandas/core/indexes/base.py:3621\u001B[0m, in \u001B[0;36mIndex.get_loc\u001B[0;34m(self, key, method, tolerance)\u001B[0m\n\u001B[1;32m   3620\u001B[0m \u001B[38;5;28;01mtry\u001B[39;00m:\n\u001B[0;32m-> 3621\u001B[0m     \u001B[38;5;28;01mreturn\u001B[39;00m \u001B[38;5;28;43mself\u001B[39;49m\u001B[38;5;241;43m.\u001B[39;49m\u001B[43m_engine\u001B[49m\u001B[38;5;241;43m.\u001B[39;49m\u001B[43mget_loc\u001B[49m\u001B[43m(\u001B[49m\u001B[43mcasted_key\u001B[49m\u001B[43m)\u001B[49m\n\u001B[1;32m   3622\u001B[0m \u001B[38;5;28;01mexcept\u001B[39;00m \u001B[38;5;167;01mKeyError\u001B[39;00m \u001B[38;5;28;01mas\u001B[39;00m err:\n",
      "File \u001B[0;32m~/anaconda3/lib/python3.9/site-packages/pandas/_libs/index.pyx:136\u001B[0m, in \u001B[0;36mpandas._libs.index.IndexEngine.get_loc\u001B[0;34m()\u001B[0m\n",
      "File \u001B[0;32m~/anaconda3/lib/python3.9/site-packages/pandas/_libs/index.pyx:142\u001B[0m, in \u001B[0;36mpandas._libs.index.IndexEngine.get_loc\u001B[0;34m()\u001B[0m\n",
      "\u001B[0;31mTypeError\u001B[0m: '(slice(None, None, None), 0)' is an invalid key",
      "\nDuring handling of the above exception, another exception occurred:\n",
      "\u001B[0;31mInvalidIndexError\u001B[0m                         Traceback (most recent call last)",
      "Input \u001B[0;32mIn [42]\u001B[0m, in \u001B[0;36m<cell line: 1>\u001B[0;34m()\u001B[0m\n\u001B[0;32m----> 1\u001B[0m plt\u001B[38;5;241m.\u001B[39mscatter(\u001B[43mdf\u001B[49m\u001B[43m[\u001B[49m\u001B[43m:\u001B[49m\u001B[43m,\u001B[49m\u001B[38;5;241;43m0\u001B[39;49m\u001B[43m]\u001B[49m, df[:,\u001B[38;5;241m1\u001B[39m],df[:,\u001B[38;5;241m2\u001B[39m], s\u001B[38;5;241m=\u001B[39m\u001B[38;5;241m50\u001B[39m, c\u001B[38;5;241m=\u001B[39m\u001B[38;5;124m'\u001B[39m\u001B[38;5;124mb\u001B[39m\u001B[38;5;124m'\u001B[39m,label \u001B[38;5;241m=\u001B[39m \u001B[38;5;124m\"\u001B[39m\u001B[38;5;124mTrue Position\u001B[39m\u001B[38;5;124m\"\u001B[39m,cmap \u001B[38;5;241m=\u001B[39m \u001B[38;5;124m'\u001B[39m\u001B[38;5;124mrainbow\u001B[39m\u001B[38;5;124m'\u001B[39m)\n",
      "File \u001B[0;32m~/anaconda3/lib/python3.9/site-packages/pandas/core/frame.py:3505\u001B[0m, in \u001B[0;36mDataFrame.__getitem__\u001B[0;34m(self, key)\u001B[0m\n\u001B[1;32m   3503\u001B[0m \u001B[38;5;28;01mif\u001B[39;00m \u001B[38;5;28mself\u001B[39m\u001B[38;5;241m.\u001B[39mcolumns\u001B[38;5;241m.\u001B[39mnlevels \u001B[38;5;241m>\u001B[39m \u001B[38;5;241m1\u001B[39m:\n\u001B[1;32m   3504\u001B[0m     \u001B[38;5;28;01mreturn\u001B[39;00m \u001B[38;5;28mself\u001B[39m\u001B[38;5;241m.\u001B[39m_getitem_multilevel(key)\n\u001B[0;32m-> 3505\u001B[0m indexer \u001B[38;5;241m=\u001B[39m \u001B[38;5;28;43mself\u001B[39;49m\u001B[38;5;241;43m.\u001B[39;49m\u001B[43mcolumns\u001B[49m\u001B[38;5;241;43m.\u001B[39;49m\u001B[43mget_loc\u001B[49m\u001B[43m(\u001B[49m\u001B[43mkey\u001B[49m\u001B[43m)\u001B[49m\n\u001B[1;32m   3506\u001B[0m \u001B[38;5;28;01mif\u001B[39;00m is_integer(indexer):\n\u001B[1;32m   3507\u001B[0m     indexer \u001B[38;5;241m=\u001B[39m [indexer]\n",
      "File \u001B[0;32m~/anaconda3/lib/python3.9/site-packages/pandas/core/indexes/base.py:3628\u001B[0m, in \u001B[0;36mIndex.get_loc\u001B[0;34m(self, key, method, tolerance)\u001B[0m\n\u001B[1;32m   3623\u001B[0m         \u001B[38;5;28;01mraise\u001B[39;00m \u001B[38;5;167;01mKeyError\u001B[39;00m(key) \u001B[38;5;28;01mfrom\u001B[39;00m \u001B[38;5;21;01merr\u001B[39;00m\n\u001B[1;32m   3624\u001B[0m     \u001B[38;5;28;01mexcept\u001B[39;00m \u001B[38;5;167;01mTypeError\u001B[39;00m:\n\u001B[1;32m   3625\u001B[0m         \u001B[38;5;66;03m# If we have a listlike key, _check_indexing_error will raise\u001B[39;00m\n\u001B[1;32m   3626\u001B[0m         \u001B[38;5;66;03m#  InvalidIndexError. Otherwise we fall through and re-raise\u001B[39;00m\n\u001B[1;32m   3627\u001B[0m         \u001B[38;5;66;03m#  the TypeError.\u001B[39;00m\n\u001B[0;32m-> 3628\u001B[0m         \u001B[38;5;28;43mself\u001B[39;49m\u001B[38;5;241;43m.\u001B[39;49m\u001B[43m_check_indexing_error\u001B[49m\u001B[43m(\u001B[49m\u001B[43mkey\u001B[49m\u001B[43m)\u001B[49m\n\u001B[1;32m   3629\u001B[0m         \u001B[38;5;28;01mraise\u001B[39;00m\n\u001B[1;32m   3631\u001B[0m \u001B[38;5;66;03m# GH#42269\u001B[39;00m\n",
      "File \u001B[0;32m~/anaconda3/lib/python3.9/site-packages/pandas/core/indexes/base.py:5637\u001B[0m, in \u001B[0;36mIndex._check_indexing_error\u001B[0;34m(self, key)\u001B[0m\n\u001B[1;32m   5633\u001B[0m \u001B[38;5;28;01mdef\u001B[39;00m \u001B[38;5;21m_check_indexing_error\u001B[39m(\u001B[38;5;28mself\u001B[39m, key):\n\u001B[1;32m   5634\u001B[0m     \u001B[38;5;28;01mif\u001B[39;00m \u001B[38;5;129;01mnot\u001B[39;00m is_scalar(key):\n\u001B[1;32m   5635\u001B[0m         \u001B[38;5;66;03m# if key is not a scalar, directly raise an error (the code below\u001B[39;00m\n\u001B[1;32m   5636\u001B[0m         \u001B[38;5;66;03m# would convert to numpy arrays and raise later any way) - GH29926\u001B[39;00m\n\u001B[0;32m-> 5637\u001B[0m         \u001B[38;5;28;01mraise\u001B[39;00m InvalidIndexError(key)\n",
      "\u001B[0;31mInvalidIndexError\u001B[0m: (slice(None, None, None), 0)"
     ]
    }
   ],
   "source": [
    "plt.scatter(df[:,0], df[:,1],df[:,2], s=50, c='b',label = \"True Position\",cmap = 'rainbow')"
   ],
   "metadata": {
    "collapsed": false
   }
  },
  {
   "cell_type": "code",
   "execution_count": 44,
   "outputs": [
    {
     "data": {
      "text/plain": "   Unnamed: 0  Year  Energy_consumption  Energy_production           GDP  \\\n0           0  1980          292.899790         296.337228  27770.910281   \n1           1  1980           78.656134          80.114194  27770.910281   \n2           2  1980           53.865223          54.761046  27770.910281   \n3           3  1980          132.064019         133.111109  27770.910281   \n4           4  1980            7.575700           7.575700  27770.910281   \n\n     Population  Energy_intensity_per_capita  Energy_intensity_by_GDP  \\\n0  4.298127e+06                    68.145921                   10.547   \n1  4.298127e+06                    68.145921                   10.547   \n2  4.298127e+06                    68.145921                   10.547   \n3  4.298127e+06                    68.145921                   10.547   \n4  4.298127e+06                    68.145921                   10.547   \n\n   CO2_emission  Country_Albania  ...  Country_Western Sahara  Country_World  \\\n0   4946.627130                0  ...                       0              1   \n1   1409.790188                0  ...                       0              1   \n2   1081.593377                0  ...                       0              1   \n3   2455.243565                0  ...                       0              1   \n4      0.000000                0  ...                       0              1   \n\n   Country_Yemen  Country_Zambia  Country_Zimbabwe  Energy_type_coal  \\\n0              0               0                 0                 0   \n1              0               0                 0                 1   \n2              0               0                 0                 0   \n3              0               0                 0                 0   \n4              0               0                 0                 0   \n\n   Energy_type_natural_gas  Energy_type_nuclear  \\\n0                        0                    0   \n1                        0                    0   \n2                        1                    0   \n3                        0                    0   \n4                        0                    1   \n\n   Energy_type_petroleum_n_other_liquids  Energy_type_renewables_n_other  \n0                                      0                               0  \n1                                      0                               0  \n2                                      0                               0  \n3                                      1                               0  \n4                                      0                               0  \n\n[5 rows x 244 columns]",
      "text/html": "<div>\n<style scoped>\n    .dataframe tbody tr th:only-of-type {\n        vertical-align: middle;\n    }\n\n    .dataframe tbody tr th {\n        vertical-align: top;\n    }\n\n    .dataframe thead th {\n        text-align: right;\n    }\n</style>\n<table border=\"1\" class=\"dataframe\">\n  <thead>\n    <tr style=\"text-align: right;\">\n      <th></th>\n      <th>Unnamed: 0</th>\n      <th>Year</th>\n      <th>Energy_consumption</th>\n      <th>Energy_production</th>\n      <th>GDP</th>\n      <th>Population</th>\n      <th>Energy_intensity_per_capita</th>\n      <th>Energy_intensity_by_GDP</th>\n      <th>CO2_emission</th>\n      <th>Country_Albania</th>\n      <th>...</th>\n      <th>Country_Western Sahara</th>\n      <th>Country_World</th>\n      <th>Country_Yemen</th>\n      <th>Country_Zambia</th>\n      <th>Country_Zimbabwe</th>\n      <th>Energy_type_coal</th>\n      <th>Energy_type_natural_gas</th>\n      <th>Energy_type_nuclear</th>\n      <th>Energy_type_petroleum_n_other_liquids</th>\n      <th>Energy_type_renewables_n_other</th>\n    </tr>\n  </thead>\n  <tbody>\n    <tr>\n      <th>0</th>\n      <td>0</td>\n      <td>1980</td>\n      <td>292.899790</td>\n      <td>296.337228</td>\n      <td>27770.910281</td>\n      <td>4.298127e+06</td>\n      <td>68.145921</td>\n      <td>10.547</td>\n      <td>4946.627130</td>\n      <td>0</td>\n      <td>...</td>\n      <td>0</td>\n      <td>1</td>\n      <td>0</td>\n      <td>0</td>\n      <td>0</td>\n      <td>0</td>\n      <td>0</td>\n      <td>0</td>\n      <td>0</td>\n      <td>0</td>\n    </tr>\n    <tr>\n      <th>1</th>\n      <td>1</td>\n      <td>1980</td>\n      <td>78.656134</td>\n      <td>80.114194</td>\n      <td>27770.910281</td>\n      <td>4.298127e+06</td>\n      <td>68.145921</td>\n      <td>10.547</td>\n      <td>1409.790188</td>\n      <td>0</td>\n      <td>...</td>\n      <td>0</td>\n      <td>1</td>\n      <td>0</td>\n      <td>0</td>\n      <td>0</td>\n      <td>1</td>\n      <td>0</td>\n      <td>0</td>\n      <td>0</td>\n      <td>0</td>\n    </tr>\n    <tr>\n      <th>2</th>\n      <td>2</td>\n      <td>1980</td>\n      <td>53.865223</td>\n      <td>54.761046</td>\n      <td>27770.910281</td>\n      <td>4.298127e+06</td>\n      <td>68.145921</td>\n      <td>10.547</td>\n      <td>1081.593377</td>\n      <td>0</td>\n      <td>...</td>\n      <td>0</td>\n      <td>1</td>\n      <td>0</td>\n      <td>0</td>\n      <td>0</td>\n      <td>0</td>\n      <td>1</td>\n      <td>0</td>\n      <td>0</td>\n      <td>0</td>\n    </tr>\n    <tr>\n      <th>3</th>\n      <td>3</td>\n      <td>1980</td>\n      <td>132.064019</td>\n      <td>133.111109</td>\n      <td>27770.910281</td>\n      <td>4.298127e+06</td>\n      <td>68.145921</td>\n      <td>10.547</td>\n      <td>2455.243565</td>\n      <td>0</td>\n      <td>...</td>\n      <td>0</td>\n      <td>1</td>\n      <td>0</td>\n      <td>0</td>\n      <td>0</td>\n      <td>0</td>\n      <td>0</td>\n      <td>0</td>\n      <td>1</td>\n      <td>0</td>\n    </tr>\n    <tr>\n      <th>4</th>\n      <td>4</td>\n      <td>1980</td>\n      <td>7.575700</td>\n      <td>7.575700</td>\n      <td>27770.910281</td>\n      <td>4.298127e+06</td>\n      <td>68.145921</td>\n      <td>10.547</td>\n      <td>0.000000</td>\n      <td>0</td>\n      <td>...</td>\n      <td>0</td>\n      <td>1</td>\n      <td>0</td>\n      <td>0</td>\n      <td>0</td>\n      <td>0</td>\n      <td>0</td>\n      <td>1</td>\n      <td>0</td>\n      <td>0</td>\n    </tr>\n  </tbody>\n</table>\n<p>5 rows × 244 columns</p>\n</div>"
     },
     "execution_count": 44,
     "metadata": {},
     "output_type": "execute_result"
    }
   ],
   "source": [
    "df_kmeans = pd.get_dummies(df,drop_first=True)\n",
    "df_kmeans.head()"
   ],
   "metadata": {
    "collapsed": false,
    "ExecuteTime": {
     "start_time": "2023-04-30T09:10:32.762914Z",
     "end_time": "2023-04-30T09:10:32.907235Z"
    }
   }
  },
  {
   "cell_type": "code",
   "execution_count": 45,
   "outputs": [],
   "source": [
    "from sklearn.preprocessing import StandardScaler\n",
    "scaler = StandardScaler()\n",
    "scaler.fit(df_kmeans)\n",
    "scaled_features = scaler.transform(df_kmeans)"
   ],
   "metadata": {
    "collapsed": false,
    "ExecuteTime": {
     "start_time": "2023-04-30T09:10:54.783830Z",
     "end_time": "2023-04-30T09:10:55.305068Z"
    }
   }
  },
  {
   "cell_type": "code",
   "execution_count": 46,
   "outputs": [
    {
     "data": {
      "text/plain": "KMeans(n_clusters=3)"
     },
     "execution_count": 46,
     "metadata": {},
     "output_type": "execute_result"
    }
   ],
   "source": [
    "from sklearn.cluster import KMeans\n",
    "kmeans = KMeans(n_clusters=3)\n",
    "kmeans.fit(scaled_features)\n"
   ],
   "metadata": {
    "collapsed": false,
    "ExecuteTime": {
     "start_time": "2023-04-30T09:11:17.779446Z",
     "end_time": "2023-04-30T09:11:24.839267Z"
    }
   }
  },
  {
   "cell_type": "code",
   "execution_count": 48,
   "outputs": [
    {
     "name": "stdout",
     "output_type": "stream",
     "text": [
      "[[-8.50252350e-01 -8.50422092e-01 -6.63808800e-02 -6.64983788e-02\n",
      "  -8.61178713e-02 -8.02553189e-02 -2.56870893e-01 -3.14205735e-01\n",
      "  -6.30424020e-02  2.24064908e-03  2.24064908e-03  5.64958390e-03\n",
      "   1.24674535e-02  1.58763884e-02 -4.57722056e-03  2.24064908e-03\n",
      "  -2.50308295e-02 -7.98615538e-03 -1.87811157e-02 -7.98615538e-03\n",
      "  -2.50308295e-02 -3.86665688e-02  1.24674535e-02 -1.16828574e-03\n",
      "  -2.50308295e-02 -1.82129598e-02  2.24064908e-03  1.24674535e-02\n",
      "   2.24064908e-03 -7.98615538e-03  9.05851872e-03 -2.50308295e-02\n",
      "   5.64958390e-03  2.24064908e-03  9.05851872e-03 -5.71353217e-03\n",
      "  -2.50308295e-02  1.24674535e-02  9.05851872e-03  1.58763884e-02\n",
      "   9.05851872e-03  1.24674535e-02  1.24674535e-02 -4.54844384e-02\n",
      "   2.24064908e-03  1.24674535e-02  1.58763884e-02 -1.16828574e-03\n",
      "  -2.73034527e-02  5.64958390e-03  1.24674535e-02  1.24674535e-02\n",
      "   9.05851872e-03  1.58763884e-02  5.64958390e-03 -1.16828574e-03\n",
      "  -1.16828574e-03 -7.98615538e-03 -1.48040250e-02  1.24674535e-02\n",
      "  -1.13950902e-02 -1.13950902e-02  5.64958390e-03  5.64958390e-03\n",
      "   5.64958390e-03  5.64958390e-03  9.05851872e-03  9.05851872e-03\n",
      "   1.24674535e-02  2.24064908e-03  5.64958390e-03  1.24674535e-02\n",
      "   1.58763884e-02  1.58763884e-02  2.24064908e-03 -2.16218947e-02\n",
      "   1.58763884e-02  1.58763884e-02  1.58763884e-02  1.58763884e-02\n",
      "  -1.13950902e-02  1.58763884e-02  1.58763884e-02  9.05851872e-03\n",
      "   1.24674535e-02 -1.48040250e-02 -1.13950902e-02  1.58763884e-02\n",
      "   1.58763884e-02  1.24674535e-02  1.58763884e-02 -4.57722056e-03\n",
      "   1.58763884e-02  5.64958390e-03  2.24064908e-03 -1.82129598e-02\n",
      "   9.05851872e-03  9.05851872e-03  1.24674535e-02 -1.16828574e-03\n",
      "   1.24674535e-02  1.58763884e-02  5.64958390e-03 -1.16828574e-03\n",
      "  -7.98615538e-03  1.58763884e-02  2.24064908e-03  5.64958390e-03\n",
      "  -7.98615538e-03 -1.82129598e-02 -4.57722056e-03 -4.57722056e-03\n",
      "  -4.57722056e-03 -4.57722056e-03 -1.19632460e-02 -1.16828574e-03\n",
      "  -2.50308295e-02  1.24674535e-02  9.05851872e-03  1.58763884e-02\n",
      "  -2.16218947e-02 -2.50308295e-02  9.05851872e-03 -4.57722056e-03\n",
      "  -1.16828574e-03  9.05851872e-03  1.24674535e-02 -7.98615538e-03\n",
      "  -1.48040250e-02 -3.18486991e-02  9.05851872e-03  1.24674535e-02\n",
      "   1.24674535e-02 -2.30459735e-03  9.05851872e-03  1.24674535e-02\n",
      "  -1.73644155e-03 -1.16828574e-03  9.05851872e-03  2.24064908e-03\n",
      "  -1.16828574e-03  1.58763884e-02 -7.98615538e-03 -3.86665688e-02\n",
      "   1.58763884e-02  1.58763884e-02  5.64958390e-03 -1.16828574e-03\n",
      "   5.64958390e-03  1.58763884e-02  1.24674535e-02 -2.16218947e-02\n",
      "   1.58763884e-02  1.58763884e-02 -2.16218947e-02  5.64958390e-03\n",
      "   1.24674535e-02  9.05851872e-03  1.58763884e-02 -3.86665688e-02\n",
      "  -4.57722056e-03  1.58763884e-02 -3.86665688e-02 -4.57722056e-03\n",
      "   5.64958390e-03  5.64958390e-03  2.24064908e-03  5.64958390e-03\n",
      "  -1.13950902e-02  5.64958390e-03  5.64958390e-03 -1.48040250e-02\n",
      "  -1.16828574e-03  2.24064908e-03 -3.86665688e-02  5.64958390e-03\n",
      "  -1.13950902e-02 -2.50308295e-02  1.24674535e-02  1.58763884e-02\n",
      "   2.24064908e-03  5.64958390e-03  1.58763884e-02  5.64958390e-03\n",
      "   2.24064908e-03  9.05851872e-03 -1.25314018e-02  9.05851872e-03\n",
      "   1.24674535e-02 -7.98615538e-03  1.24674535e-02 -2.50308295e-02\n",
      "  -2.16218947e-02 -1.13950902e-02  2.24064908e-03  1.24674535e-02\n",
      "  -1.82129598e-02 -1.48040250e-02  1.58763884e-02 -4.57722056e-03\n",
      "   9.05851872e-03  9.05851872e-03 -7.98615538e-03 -2.50308295e-02\n",
      "  -7.98615538e-03 -1.48040250e-02 -1.13950902e-02 -2.50308295e-02\n",
      "   1.24674535e-02  2.24064908e-03 -1.13950902e-02  1.24674535e-02\n",
      "   9.05851872e-03  5.64958390e-03  1.58763884e-02  2.24064908e-03\n",
      "   2.24064908e-03 -1.82129598e-02  1.58763884e-02  1.58763884e-02\n",
      "   1.58763884e-02  1.58763884e-02  1.58763884e-02  1.24674535e-02\n",
      "  -2.50308295e-02 -4.54844384e-02 -1.25314018e-02 -4.03710362e-02\n",
      "   2.24064908e-03 -2.50308295e-02  5.64958390e-03 -1.13950902e-02\n",
      "   5.64958390e-03  1.58763884e-02  1.58763884e-02 -6.53698915e-02\n",
      "   5.64958390e-03  1.24674535e-02 -7.98615538e-03 -1.16770307e-04\n",
      "   2.83585032e-04  3.83673867e-04 -1.16770307e-04  2.83585032e-04]\n",
      " [ 8.03149859e-01  8.02947189e-01 -2.32863582e-02 -2.37472999e-02\n",
      "  -3.27286248e-02 -4.55419897e-02  2.42209579e-01  2.90287842e-01\n",
      "  -2.20203134e-02 -1.56066384e-03 -1.56066384e-03 -4.77953302e-03\n",
      "  -1.12172714e-02 -1.44361405e-02  4.87707451e-03 -1.56066384e-03\n",
      "   2.41902896e-02  8.09594368e-03  1.82890294e-02  8.09594368e-03\n",
      "   2.41902896e-02  3.70657663e-02 -1.12172714e-02  1.65820533e-03\n",
      "   2.41902896e-02  1.77525512e-02 -1.56066384e-03 -1.12172714e-02\n",
      "  -1.56066384e-03  8.09594368e-03 -7.99840219e-03  2.41902896e-02\n",
      "  -4.77953302e-03 -1.56066384e-03 -7.99840219e-03  5.95003090e-03\n",
      "   2.41902896e-02 -1.12172714e-02 -7.99840219e-03 -1.44361405e-02\n",
      "  -7.99840219e-03 -1.12172714e-02 -1.12172714e-02  4.35035046e-02\n",
      "  -1.56066384e-03 -1.12172714e-02 -1.44361405e-02  1.65820533e-03\n",
      "   2.63362023e-02 -4.77953302e-03 -1.12172714e-02 -1.12172714e-02\n",
      "  -7.99840219e-03 -1.44361405e-02 -4.77953302e-03  1.65820533e-03\n",
      "   1.65820533e-03  8.09594368e-03  1.45336820e-02 -1.12172714e-02\n",
      "   1.13148129e-02  1.13148129e-02 -4.77953302e-03 -4.77953302e-03\n",
      "  -4.77953302e-03 -4.77953302e-03 -7.99840219e-03 -7.99840219e-03\n",
      "  -1.12172714e-02 -1.56066384e-03 -4.77953302e-03 -1.12172714e-02\n",
      "  -1.44361405e-02 -1.44361405e-02 -1.56066384e-03  2.09714204e-02\n",
      "  -1.44361405e-02 -1.44361405e-02 -1.44361405e-02 -1.44361405e-02\n",
      "   1.13148129e-02 -1.44361405e-02 -1.44361405e-02 -7.99840219e-03\n",
      "  -1.12172714e-02  1.45336820e-02  1.13148129e-02 -1.44361405e-02\n",
      "  -1.44361405e-02 -1.12172714e-02 -1.44361405e-02  4.87707451e-03\n",
      "  -1.44361405e-02 -4.77953302e-03 -1.56066384e-03  1.77525512e-02\n",
      "  -7.99840219e-03 -7.99840219e-03 -1.12172714e-02  1.65820533e-03\n",
      "  -1.12172714e-02 -1.44361405e-02 -4.77953302e-03  1.65820533e-03\n",
      "   8.09594368e-03 -1.44361405e-02 -1.56066384e-03 -4.77953302e-03\n",
      "   8.09594368e-03  1.77525512e-02  4.87707451e-03  4.87707451e-03\n",
      "   4.87707451e-03  4.87707451e-03  1.18512911e-02  1.65820533e-03\n",
      "   2.41902896e-02 -1.12172714e-02 -7.99840219e-03 -1.44361405e-02\n",
      "   2.09714204e-02  2.41902896e-02 -7.99840219e-03  4.87707451e-03\n",
      "   1.65820533e-03 -7.99840219e-03 -1.12172714e-02  8.09594368e-03\n",
      "   1.45336820e-02  3.06280279e-02 -7.99840219e-03 -1.12172714e-02\n",
      "  -1.12172714e-02  2.73116172e-03 -7.99840219e-03 -1.12172714e-02\n",
      "   2.19468353e-03  1.65820533e-03 -7.99840219e-03 -1.56066384e-03\n",
      "   1.65820533e-03 -1.44361405e-02  8.09594368e-03  3.70657663e-02\n",
      "  -1.44361405e-02 -1.44361405e-02 -4.77953302e-03  1.65820533e-03\n",
      "  -4.77953302e-03 -1.44361405e-02 -1.12172714e-02  2.09714204e-02\n",
      "  -1.44361405e-02 -1.44361405e-02  2.09714204e-02 -4.77953302e-03\n",
      "  -1.12172714e-02 -7.99840219e-03 -1.44361405e-02  3.70657663e-02\n",
      "   4.87707451e-03 -1.44361405e-02  3.70657663e-02  4.87707451e-03\n",
      "  -4.77953302e-03 -4.77953302e-03 -1.56066384e-03 -4.77953302e-03\n",
      "   1.13148129e-02 -4.77953302e-03 -4.77953302e-03  1.45336820e-02\n",
      "   1.65820533e-03 -1.56066384e-03  3.70657663e-02 -4.77953302e-03\n",
      "   1.13148129e-02  2.41902896e-02 -1.12172714e-02 -1.44361405e-02\n",
      "  -1.56066384e-03 -4.77953302e-03 -1.44361405e-02 -4.77953302e-03\n",
      "  -1.56066384e-03 -7.99840219e-03  1.23877692e-02 -7.99840219e-03\n",
      "  -1.12172714e-02  8.09594368e-03 -1.12172714e-02  2.41902896e-02\n",
      "   2.09714204e-02  1.13148129e-02 -1.56066384e-03 -1.12172714e-02\n",
      "   1.77525512e-02  1.45336820e-02 -1.44361405e-02  4.87707451e-03\n",
      "  -7.99840219e-03 -7.99840219e-03  8.09594368e-03  2.41902896e-02\n",
      "   8.09594368e-03  1.45336820e-02  1.13148129e-02  2.41902896e-02\n",
      "  -1.12172714e-02 -1.56066384e-03  1.13148129e-02 -1.12172714e-02\n",
      "  -7.99840219e-03 -4.77953302e-03 -1.44361405e-02 -1.56066384e-03\n",
      "  -1.56066384e-03  1.77525512e-02 -1.44361405e-02 -1.44361405e-02\n",
      "  -1.44361405e-02 -1.44361405e-02 -1.44361405e-02 -1.12172714e-02\n",
      "   2.41902896e-02  4.35035046e-02  1.23877692e-02  3.86752008e-02\n",
      "  -1.56066384e-03  2.41902896e-02 -4.77953302e-03  1.13148129e-02\n",
      "  -4.77953302e-03 -1.44361405e-02 -1.44361405e-02 -6.59380473e-02\n",
      "  -4.77953302e-03 -1.12172714e-02  8.09594368e-03  9.45083676e-05\n",
      "  -2.83525103e-04 -2.83525103e-04  9.45083676e-05 -2.83525103e-04]\n",
      " [-3.60483133e-02  7.06810677e-03  1.02123485e+01  1.02802861e+01\n",
      "   1.35479712e+01  1.44125231e+01  4.03238784e-02  7.60205637e-01\n",
      "   9.68746650e+00 -6.59380473e-02 -6.59380473e-02 -6.59380473e-02\n",
      "  -6.59380473e-02 -6.59380473e-02 -6.59380473e-02 -6.59380473e-02\n",
      "  -6.59380473e-02 -6.59380473e-02 -6.59380473e-02 -6.59380473e-02\n",
      "  -6.59380473e-02 -6.59380473e-02 -6.59380473e-02 -6.59380473e-02\n",
      "  -6.59380473e-02 -6.59380473e-02 -6.59380473e-02 -6.59380473e-02\n",
      "  -6.59380473e-02 -6.59380473e-02 -6.59380473e-02 -6.59380473e-02\n",
      "  -6.59380473e-02 -6.59380473e-02 -6.59380473e-02 -6.59380473e-02\n",
      "  -6.59380473e-02 -6.59380473e-02 -6.59380473e-02 -6.59380473e-02\n",
      "  -6.59380473e-02 -6.59380473e-02 -6.59380473e-02 -6.59380473e-02\n",
      "  -6.59380473e-02 -6.59380473e-02 -6.59380473e-02 -6.59380473e-02\n",
      "  -6.59380473e-02 -6.59380473e-02 -6.59380473e-02 -6.59380473e-02\n",
      "  -6.59380473e-02 -6.59380473e-02 -6.59380473e-02 -6.59380473e-02\n",
      "  -6.59380473e-02 -6.59380473e-02 -6.59380473e-02 -6.59380473e-02\n",
      "  -6.59380473e-02 -6.59380473e-02 -6.59380473e-02 -6.59380473e-02\n",
      "  -6.59380473e-02 -6.59380473e-02 -6.59380473e-02 -6.59380473e-02\n",
      "  -6.59380473e-02 -6.59380473e-02 -6.59380473e-02 -6.59380473e-02\n",
      "  -6.59380473e-02 -6.59380473e-02 -6.59380473e-02 -6.59380473e-02\n",
      "  -6.59380473e-02 -6.59380473e-02 -6.59380473e-02 -6.59380473e-02\n",
      "  -6.59380473e-02 -6.59380473e-02 -6.59380473e-02 -6.59380473e-02\n",
      "  -6.59380473e-02 -6.59380473e-02 -6.59380473e-02 -6.59380473e-02\n",
      "  -6.59380473e-02 -6.59380473e-02 -6.59380473e-02 -6.59380473e-02\n",
      "  -6.59380473e-02 -6.59380473e-02 -6.59380473e-02 -6.59380473e-02\n",
      "  -6.59380473e-02 -6.59380473e-02 -6.59380473e-02 -6.59380473e-02\n",
      "  -6.59380473e-02 -6.59380473e-02 -6.59380473e-02 -6.59380473e-02\n",
      "  -6.59380473e-02 -6.59380473e-02 -6.59380473e-02 -6.59380473e-02\n",
      "  -6.59380473e-02 -6.59380473e-02 -6.59380473e-02 -6.59380473e-02\n",
      "  -6.59380473e-02 -6.59380473e-02 -6.59380473e-02 -6.59380473e-02\n",
      "  -6.59380473e-02 -6.59380473e-02 -6.59380473e-02 -6.59380473e-02\n",
      "  -6.59380473e-02 -6.59380473e-02 -6.59380473e-02 -6.59380473e-02\n",
      "  -6.59380473e-02 -6.59380473e-02 -6.59380473e-02 -6.59380473e-02\n",
      "  -6.59380473e-02 -6.59380473e-02 -6.59380473e-02 -6.59380473e-02\n",
      "  -6.59380473e-02 -6.59380473e-02 -6.59380473e-02 -6.59380473e-02\n",
      "  -6.59380473e-02 -6.59380473e-02 -6.59380473e-02 -6.59380473e-02\n",
      "  -6.59380473e-02 -6.59380473e-02 -6.59380473e-02 -6.59380473e-02\n",
      "  -6.59380473e-02 -6.59380473e-02 -6.59380473e-02 -6.59380473e-02\n",
      "  -6.59380473e-02 -6.59380473e-02 -6.59380473e-02 -6.59380473e-02\n",
      "  -6.59380473e-02 -6.59380473e-02 -6.59380473e-02 -6.59380473e-02\n",
      "  -6.59380473e-02 -6.59380473e-02 -6.59380473e-02 -6.59380473e-02\n",
      "  -6.59380473e-02 -6.59380473e-02 -6.59380473e-02 -6.59380473e-02\n",
      "  -6.59380473e-02 -6.59380473e-02 -6.59380473e-02 -6.59380473e-02\n",
      "  -6.59380473e-02 -6.59380473e-02 -6.59380473e-02 -6.59380473e-02\n",
      "  -6.59380473e-02 -6.59380473e-02 -6.59380473e-02 -6.59380473e-02\n",
      "  -6.59380473e-02 -6.59380473e-02 -6.59380473e-02 -6.59380473e-02\n",
      "  -6.59380473e-02 -6.59380473e-02 -6.59380473e-02 -6.59380473e-02\n",
      "  -6.59380473e-02 -6.59380473e-02 -6.59380473e-02 -6.59380473e-02\n",
      "  -6.59380473e-02 -6.59380473e-02 -6.59380473e-02 -6.59380473e-02\n",
      "  -6.59380473e-02 -6.59380473e-02 -6.59380473e-02 -6.59380473e-02\n",
      "  -6.59380473e-02 -6.59380473e-02 -6.59380473e-02 -6.59380473e-02\n",
      "  -6.59380473e-02 -6.59380473e-02 -6.59380473e-02 -6.59380473e-02\n",
      "  -6.59380473e-02 -6.59380473e-02 -6.59380473e-02 -6.59380473e-02\n",
      "  -6.59380473e-02 -6.59380473e-02 -6.59380473e-02 -6.59380473e-02\n",
      "  -6.59380473e-02 -6.59380473e-02 -6.59380473e-02 -6.59380473e-02\n",
      "  -6.59380473e-02 -6.59380473e-02 -6.59380473e-02 -6.59380473e-02\n",
      "  -6.59380473e-02 -6.59380473e-02 -6.59380473e-02 -6.59380473e-02\n",
      "  -6.59380473e-02 -6.59380473e-02 -6.59380473e-02 -6.59380473e-02\n",
      "  -6.59380473e-02 -6.59380473e-02 -6.59380473e-02 -6.59380473e-02\n",
      "  -6.59380473e-02 -6.59380473e-02 -6.59380473e-02  1.51657509e+01\n",
      "  -6.59380473e-02 -6.59380473e-02 -6.59380473e-02  1.87118659e-03\n",
      "   1.87118659e-03 -9.35593296e-03  1.87118659e-03  1.87118659e-03]]\n"
     ]
    }
   ],
   "source": [
    "print(kmeans.cluster_centers_)"
   ],
   "metadata": {
    "collapsed": false,
    "ExecuteTime": {
     "start_time": "2023-04-30T09:13:15.078605Z",
     "end_time": "2023-04-30T09:13:15.129830Z"
    }
   }
  },
  {
   "cell_type": "code",
   "execution_count": 49,
   "outputs": [
    {
     "name": "stdout",
     "output_type": "stream",
     "text": [
      "[2 2 2 ... 1 1 1]\n"
     ]
    }
   ],
   "source": [
    "print(kmeans.labels_)"
   ],
   "metadata": {
    "collapsed": false,
    "ExecuteTime": {
     "start_time": "2023-04-30T09:13:23.401720Z",
     "end_time": "2023-04-30T09:13:23.462040Z"
    }
   }
  },
  {
   "cell_type": "code",
   "execution_count": 51,
   "outputs": [],
   "source": [
    "df_kmeans.insert(df_kmeans.columns.get_loc('Energy_consumption'), 'kmeans', kmeans.labels_)"
   ],
   "metadata": {
    "collapsed": false,
    "ExecuteTime": {
     "start_time": "2023-04-30T09:13:44.434588Z",
     "end_time": "2023-04-30T09:13:44.468746Z"
    }
   }
  },
  {
   "cell_type": "code",
   "execution_count": 52,
   "outputs": [
    {
     "data": {
      "text/plain": "       Unnamed: 0  Year  kmeans  Energy_consumption  Energy_production  \\\n0               0  1980       2          292.899790         296.337228   \n1               1  1980       2           78.656134          80.114194   \n2               2  1980       2           53.865223          54.761046   \n3               3  1980       2          132.064019         133.111109   \n4               4  1980       0            7.575700           7.575700   \n...           ...   ...     ...                 ...                ...   \n55435       55435  2019       1            0.045064           0.075963   \n55436       55436  2019       1            0.000000           0.000000   \n55437       55437  2019       1            0.055498           0.000000   \n55438       55438  2019       1            0.000000           0.000000   \n55439       55439  2019       1            0.068089           0.067499   \n\n                GDP    Population  Energy_intensity_per_capita  \\\n0      27770.910281  4.298127e+06                    68.145921   \n1      27770.910281  4.298127e+06                    68.145921   \n2      27770.910281  4.298127e+06                    68.145921   \n3      27770.910281  4.298127e+06                    68.145921   \n4      27770.910281  4.298127e+06                    68.145921   \n...             ...           ...                          ...   \n55435     37.620400  1.465420e+04                    11.508701   \n55436     37.620400  1.465420e+04                    11.508701   \n55437     37.620400  1.465420e+04                    11.508701   \n55438     37.620400  1.465420e+04                    11.508701   \n55439     37.620400  1.465420e+04                    11.508701   \n\n       Energy_intensity_by_GDP  CO2_emission  ...  Country_Western Sahara  \\\n0                    10.547000   4946.627130  ...                       0   \n1                    10.547000   1409.790188  ...                       0   \n2                    10.547000   1081.593377  ...                       0   \n3                    10.547000   2455.243565  ...                       0   \n4                    10.547000      0.000000  ...                       0   \n...                        ...           ...  ...                     ...   \n55435                 4.482962      4.586869  ...                       0   \n55436                 4.482962      0.000000  ...                       0   \n55437                 4.482962      4.377890  ...                       0   \n55438                 4.482962      0.000000  ...                       0   \n55439                 4.482962      0.000000  ...                       0   \n\n       Country_World  Country_Yemen  Country_Zambia  Country_Zimbabwe  \\\n0                  1              0               0                 0   \n1                  1              0               0                 0   \n2                  1              0               0                 0   \n3                  1              0               0                 0   \n4                  1              0               0                 0   \n...              ...            ...             ...               ...   \n55435              0              0               0                 1   \n55436              0              0               0                 1   \n55437              0              0               0                 1   \n55438              0              0               0                 1   \n55439              0              0               0                 1   \n\n       Energy_type_coal  Energy_type_natural_gas  Energy_type_nuclear  \\\n0                     0                        0                    0   \n1                     1                        0                    0   \n2                     0                        1                    0   \n3                     0                        0                    0   \n4                     0                        0                    1   \n...                 ...                      ...                  ...   \n55435                 1                        0                    0   \n55436                 0                        1                    0   \n55437                 0                        0                    0   \n55438                 0                        0                    1   \n55439                 0                        0                    0   \n\n       Energy_type_petroleum_n_other_liquids  Energy_type_renewables_n_other  \n0                                          0                               0  \n1                                          0                               0  \n2                                          0                               0  \n3                                          1                               0  \n4                                          0                               0  \n...                                      ...                             ...  \n55435                                      0                               0  \n55436                                      0                               0  \n55437                                      1                               0  \n55438                                      0                               0  \n55439                                      0                               1  \n\n[55440 rows x 245 columns]",
      "text/html": "<div>\n<style scoped>\n    .dataframe tbody tr th:only-of-type {\n        vertical-align: middle;\n    }\n\n    .dataframe tbody tr th {\n        vertical-align: top;\n    }\n\n    .dataframe thead th {\n        text-align: right;\n    }\n</style>\n<table border=\"1\" class=\"dataframe\">\n  <thead>\n    <tr style=\"text-align: right;\">\n      <th></th>\n      <th>Unnamed: 0</th>\n      <th>Year</th>\n      <th>kmeans</th>\n      <th>Energy_consumption</th>\n      <th>Energy_production</th>\n      <th>GDP</th>\n      <th>Population</th>\n      <th>Energy_intensity_per_capita</th>\n      <th>Energy_intensity_by_GDP</th>\n      <th>CO2_emission</th>\n      <th>...</th>\n      <th>Country_Western Sahara</th>\n      <th>Country_World</th>\n      <th>Country_Yemen</th>\n      <th>Country_Zambia</th>\n      <th>Country_Zimbabwe</th>\n      <th>Energy_type_coal</th>\n      <th>Energy_type_natural_gas</th>\n      <th>Energy_type_nuclear</th>\n      <th>Energy_type_petroleum_n_other_liquids</th>\n      <th>Energy_type_renewables_n_other</th>\n    </tr>\n  </thead>\n  <tbody>\n    <tr>\n      <th>0</th>\n      <td>0</td>\n      <td>1980</td>\n      <td>2</td>\n      <td>292.899790</td>\n      <td>296.337228</td>\n      <td>27770.910281</td>\n      <td>4.298127e+06</td>\n      <td>68.145921</td>\n      <td>10.547000</td>\n      <td>4946.627130</td>\n      <td>...</td>\n      <td>0</td>\n      <td>1</td>\n      <td>0</td>\n      <td>0</td>\n      <td>0</td>\n      <td>0</td>\n      <td>0</td>\n      <td>0</td>\n      <td>0</td>\n      <td>0</td>\n    </tr>\n    <tr>\n      <th>1</th>\n      <td>1</td>\n      <td>1980</td>\n      <td>2</td>\n      <td>78.656134</td>\n      <td>80.114194</td>\n      <td>27770.910281</td>\n      <td>4.298127e+06</td>\n      <td>68.145921</td>\n      <td>10.547000</td>\n      <td>1409.790188</td>\n      <td>...</td>\n      <td>0</td>\n      <td>1</td>\n      <td>0</td>\n      <td>0</td>\n      <td>0</td>\n      <td>1</td>\n      <td>0</td>\n      <td>0</td>\n      <td>0</td>\n      <td>0</td>\n    </tr>\n    <tr>\n      <th>2</th>\n      <td>2</td>\n      <td>1980</td>\n      <td>2</td>\n      <td>53.865223</td>\n      <td>54.761046</td>\n      <td>27770.910281</td>\n      <td>4.298127e+06</td>\n      <td>68.145921</td>\n      <td>10.547000</td>\n      <td>1081.593377</td>\n      <td>...</td>\n      <td>0</td>\n      <td>1</td>\n      <td>0</td>\n      <td>0</td>\n      <td>0</td>\n      <td>0</td>\n      <td>1</td>\n      <td>0</td>\n      <td>0</td>\n      <td>0</td>\n    </tr>\n    <tr>\n      <th>3</th>\n      <td>3</td>\n      <td>1980</td>\n      <td>2</td>\n      <td>132.064019</td>\n      <td>133.111109</td>\n      <td>27770.910281</td>\n      <td>4.298127e+06</td>\n      <td>68.145921</td>\n      <td>10.547000</td>\n      <td>2455.243565</td>\n      <td>...</td>\n      <td>0</td>\n      <td>1</td>\n      <td>0</td>\n      <td>0</td>\n      <td>0</td>\n      <td>0</td>\n      <td>0</td>\n      <td>0</td>\n      <td>1</td>\n      <td>0</td>\n    </tr>\n    <tr>\n      <th>4</th>\n      <td>4</td>\n      <td>1980</td>\n      <td>0</td>\n      <td>7.575700</td>\n      <td>7.575700</td>\n      <td>27770.910281</td>\n      <td>4.298127e+06</td>\n      <td>68.145921</td>\n      <td>10.547000</td>\n      <td>0.000000</td>\n      <td>...</td>\n      <td>0</td>\n      <td>1</td>\n      <td>0</td>\n      <td>0</td>\n      <td>0</td>\n      <td>0</td>\n      <td>0</td>\n      <td>1</td>\n      <td>0</td>\n      <td>0</td>\n    </tr>\n    <tr>\n      <th>...</th>\n      <td>...</td>\n      <td>...</td>\n      <td>...</td>\n      <td>...</td>\n      <td>...</td>\n      <td>...</td>\n      <td>...</td>\n      <td>...</td>\n      <td>...</td>\n      <td>...</td>\n      <td>...</td>\n      <td>...</td>\n      <td>...</td>\n      <td>...</td>\n      <td>...</td>\n      <td>...</td>\n      <td>...</td>\n      <td>...</td>\n      <td>...</td>\n      <td>...</td>\n      <td>...</td>\n    </tr>\n    <tr>\n      <th>55435</th>\n      <td>55435</td>\n      <td>2019</td>\n      <td>1</td>\n      <td>0.045064</td>\n      <td>0.075963</td>\n      <td>37.620400</td>\n      <td>1.465420e+04</td>\n      <td>11.508701</td>\n      <td>4.482962</td>\n      <td>4.586869</td>\n      <td>...</td>\n      <td>0</td>\n      <td>0</td>\n      <td>0</td>\n      <td>0</td>\n      <td>1</td>\n      <td>1</td>\n      <td>0</td>\n      <td>0</td>\n      <td>0</td>\n      <td>0</td>\n    </tr>\n    <tr>\n      <th>55436</th>\n      <td>55436</td>\n      <td>2019</td>\n      <td>1</td>\n      <td>0.000000</td>\n      <td>0.000000</td>\n      <td>37.620400</td>\n      <td>1.465420e+04</td>\n      <td>11.508701</td>\n      <td>4.482962</td>\n      <td>0.000000</td>\n      <td>...</td>\n      <td>0</td>\n      <td>0</td>\n      <td>0</td>\n      <td>0</td>\n      <td>1</td>\n      <td>0</td>\n      <td>1</td>\n      <td>0</td>\n      <td>0</td>\n      <td>0</td>\n    </tr>\n    <tr>\n      <th>55437</th>\n      <td>55437</td>\n      <td>2019</td>\n      <td>1</td>\n      <td>0.055498</td>\n      <td>0.000000</td>\n      <td>37.620400</td>\n      <td>1.465420e+04</td>\n      <td>11.508701</td>\n      <td>4.482962</td>\n      <td>4.377890</td>\n      <td>...</td>\n      <td>0</td>\n      <td>0</td>\n      <td>0</td>\n      <td>0</td>\n      <td>1</td>\n      <td>0</td>\n      <td>0</td>\n      <td>0</td>\n      <td>1</td>\n      <td>0</td>\n    </tr>\n    <tr>\n      <th>55438</th>\n      <td>55438</td>\n      <td>2019</td>\n      <td>1</td>\n      <td>0.000000</td>\n      <td>0.000000</td>\n      <td>37.620400</td>\n      <td>1.465420e+04</td>\n      <td>11.508701</td>\n      <td>4.482962</td>\n      <td>0.000000</td>\n      <td>...</td>\n      <td>0</td>\n      <td>0</td>\n      <td>0</td>\n      <td>0</td>\n      <td>1</td>\n      <td>0</td>\n      <td>0</td>\n      <td>1</td>\n      <td>0</td>\n      <td>0</td>\n    </tr>\n    <tr>\n      <th>55439</th>\n      <td>55439</td>\n      <td>2019</td>\n      <td>1</td>\n      <td>0.068089</td>\n      <td>0.067499</td>\n      <td>37.620400</td>\n      <td>1.465420e+04</td>\n      <td>11.508701</td>\n      <td>4.482962</td>\n      <td>0.000000</td>\n      <td>...</td>\n      <td>0</td>\n      <td>0</td>\n      <td>0</td>\n      <td>0</td>\n      <td>1</td>\n      <td>0</td>\n      <td>0</td>\n      <td>0</td>\n      <td>0</td>\n      <td>1</td>\n    </tr>\n  </tbody>\n</table>\n<p>55440 rows × 245 columns</p>\n</div>"
     },
     "execution_count": 52,
     "metadata": {},
     "output_type": "execute_result"
    }
   ],
   "source": [
    "df_kmeans"
   ],
   "metadata": {
    "collapsed": false,
    "ExecuteTime": {
     "start_time": "2023-04-30T09:13:50.654070Z",
     "end_time": "2023-04-30T09:13:50.717531Z"
    }
   }
  },
  {
   "cell_type": "code",
   "execution_count": 52,
   "outputs": [],
   "source": [],
   "metadata": {
    "collapsed": false,
    "ExecuteTime": {
     "start_time": "2023-04-30T09:14:19.438390Z",
     "end_time": "2023-04-30T09:14:19.667445Z"
    }
   }
  },
  {
   "cell_type": "code",
   "execution_count": null,
   "outputs": [],
   "source": [],
   "metadata": {
    "collapsed": false
   }
  }
 ]
}
