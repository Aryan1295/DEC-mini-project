{
 "cells": [
  {
   "cell_type": "code",
   "execution_count": 2,
   "metadata": {
    "ExecuteTime": {
     "start_time": "2023-04-30T09:52:47.066152Z",
     "end_time": "2023-04-30T09:52:47.910227Z"
    },
    "id": "WyEHR4T4zOO8"
   },
   "outputs": [],
   "source": [
    "import pandas as pd\n",
    "from matplotlib import pyplot as plt\n",
    "import numpy as np"
   ]
  },
  {
   "cell_type": "code",
   "execution_count": 3,
   "metadata": {
    "ExecuteTime": {
     "start_time": "2023-04-30T09:52:47.958115Z",
     "end_time": "2023-04-30T09:52:47.986400Z"
    },
    "colab": {
     "base_uri": "https://localhost:8080/",
     "height": 330
    },
    "id": "hG9tiEsZ0GN6",
    "outputId": "c8cfcf9d-26f1-4681-e29b-c550f933d7dc"
   },
   "outputs": [
    {
     "data": {
      "text/plain": "       Unnamed: 0   Country                Energy_type  Year  \\\n0               0     World           all_energy_types  1980   \n1               1     World                       coal  1980   \n2               2     World                natural_gas  1980   \n3               3     World  petroleum_n_other_liquids  1980   \n4               4     World                    nuclear  1980   \n...           ...       ...                        ...   ...   \n55435       55435  Zimbabwe                       coal  2019   \n55436       55436  Zimbabwe                natural_gas  2019   \n55437       55437  Zimbabwe  petroleum_n_other_liquids  2019   \n55438       55438  Zimbabwe                    nuclear  2019   \n55439       55439  Zimbabwe         renewables_n_other  2019   \n\n       Energy_consumption  Energy_production           GDP    Population  \\\n0              292.899790         296.337228  27770.910281  4.298127e+06   \n1               78.656134          80.114194  27770.910281  4.298127e+06   \n2               53.865223          54.761046  27770.910281  4.298127e+06   \n3              132.064019         133.111109  27770.910281  4.298127e+06   \n4                7.575700           7.575700  27770.910281  4.298127e+06   \n...                   ...                ...           ...           ...   \n55435            0.045064           0.075963     37.620400  1.465420e+04   \n55436            0.000000           0.000000     37.620400  1.465420e+04   \n55437            0.055498           0.000000     37.620400  1.465420e+04   \n55438                 NaN                NaN     37.620400  1.465420e+04   \n55439            0.068089           0.067499     37.620400  1.465420e+04   \n\n       Energy_intensity_per_capita  Energy_intensity_by_GDP  CO2_emission  \n0                        68.145921                10.547000   4946.627130  \n1                        68.145921                10.547000   1409.790188  \n2                        68.145921                10.547000   1081.593377  \n3                        68.145921                10.547000   2455.243565  \n4                        68.145921                10.547000      0.000000  \n...                            ...                      ...           ...  \n55435                    11.508701                 4.482962      4.586869  \n55436                    11.508701                 4.482962      0.000000  \n55437                    11.508701                 4.482962      4.377890  \n55438                    11.508701                 4.482962      0.000000  \n55439                    11.508701                 4.482962      0.000000  \n\n[55440 rows x 11 columns]",
      "text/html": "<div>\n<style scoped>\n    .dataframe tbody tr th:only-of-type {\n        vertical-align: middle;\n    }\n\n    .dataframe tbody tr th {\n        vertical-align: top;\n    }\n\n    .dataframe thead th {\n        text-align: right;\n    }\n</style>\n<table border=\"1\" class=\"dataframe\">\n  <thead>\n    <tr style=\"text-align: right;\">\n      <th></th>\n      <th>Unnamed: 0</th>\n      <th>Country</th>\n      <th>Energy_type</th>\n      <th>Year</th>\n      <th>Energy_consumption</th>\n      <th>Energy_production</th>\n      <th>GDP</th>\n      <th>Population</th>\n      <th>Energy_intensity_per_capita</th>\n      <th>Energy_intensity_by_GDP</th>\n      <th>CO2_emission</th>\n    </tr>\n  </thead>\n  <tbody>\n    <tr>\n      <th>0</th>\n      <td>0</td>\n      <td>World</td>\n      <td>all_energy_types</td>\n      <td>1980</td>\n      <td>292.899790</td>\n      <td>296.337228</td>\n      <td>27770.910281</td>\n      <td>4.298127e+06</td>\n      <td>68.145921</td>\n      <td>10.547000</td>\n      <td>4946.627130</td>\n    </tr>\n    <tr>\n      <th>1</th>\n      <td>1</td>\n      <td>World</td>\n      <td>coal</td>\n      <td>1980</td>\n      <td>78.656134</td>\n      <td>80.114194</td>\n      <td>27770.910281</td>\n      <td>4.298127e+06</td>\n      <td>68.145921</td>\n      <td>10.547000</td>\n      <td>1409.790188</td>\n    </tr>\n    <tr>\n      <th>2</th>\n      <td>2</td>\n      <td>World</td>\n      <td>natural_gas</td>\n      <td>1980</td>\n      <td>53.865223</td>\n      <td>54.761046</td>\n      <td>27770.910281</td>\n      <td>4.298127e+06</td>\n      <td>68.145921</td>\n      <td>10.547000</td>\n      <td>1081.593377</td>\n    </tr>\n    <tr>\n      <th>3</th>\n      <td>3</td>\n      <td>World</td>\n      <td>petroleum_n_other_liquids</td>\n      <td>1980</td>\n      <td>132.064019</td>\n      <td>133.111109</td>\n      <td>27770.910281</td>\n      <td>4.298127e+06</td>\n      <td>68.145921</td>\n      <td>10.547000</td>\n      <td>2455.243565</td>\n    </tr>\n    <tr>\n      <th>4</th>\n      <td>4</td>\n      <td>World</td>\n      <td>nuclear</td>\n      <td>1980</td>\n      <td>7.575700</td>\n      <td>7.575700</td>\n      <td>27770.910281</td>\n      <td>4.298127e+06</td>\n      <td>68.145921</td>\n      <td>10.547000</td>\n      <td>0.000000</td>\n    </tr>\n    <tr>\n      <th>...</th>\n      <td>...</td>\n      <td>...</td>\n      <td>...</td>\n      <td>...</td>\n      <td>...</td>\n      <td>...</td>\n      <td>...</td>\n      <td>...</td>\n      <td>...</td>\n      <td>...</td>\n      <td>...</td>\n    </tr>\n    <tr>\n      <th>55435</th>\n      <td>55435</td>\n      <td>Zimbabwe</td>\n      <td>coal</td>\n      <td>2019</td>\n      <td>0.045064</td>\n      <td>0.075963</td>\n      <td>37.620400</td>\n      <td>1.465420e+04</td>\n      <td>11.508701</td>\n      <td>4.482962</td>\n      <td>4.586869</td>\n    </tr>\n    <tr>\n      <th>55436</th>\n      <td>55436</td>\n      <td>Zimbabwe</td>\n      <td>natural_gas</td>\n      <td>2019</td>\n      <td>0.000000</td>\n      <td>0.000000</td>\n      <td>37.620400</td>\n      <td>1.465420e+04</td>\n      <td>11.508701</td>\n      <td>4.482962</td>\n      <td>0.000000</td>\n    </tr>\n    <tr>\n      <th>55437</th>\n      <td>55437</td>\n      <td>Zimbabwe</td>\n      <td>petroleum_n_other_liquids</td>\n      <td>2019</td>\n      <td>0.055498</td>\n      <td>0.000000</td>\n      <td>37.620400</td>\n      <td>1.465420e+04</td>\n      <td>11.508701</td>\n      <td>4.482962</td>\n      <td>4.377890</td>\n    </tr>\n    <tr>\n      <th>55438</th>\n      <td>55438</td>\n      <td>Zimbabwe</td>\n      <td>nuclear</td>\n      <td>2019</td>\n      <td>NaN</td>\n      <td>NaN</td>\n      <td>37.620400</td>\n      <td>1.465420e+04</td>\n      <td>11.508701</td>\n      <td>4.482962</td>\n      <td>0.000000</td>\n    </tr>\n    <tr>\n      <th>55439</th>\n      <td>55439</td>\n      <td>Zimbabwe</td>\n      <td>renewables_n_other</td>\n      <td>2019</td>\n      <td>0.068089</td>\n      <td>0.067499</td>\n      <td>37.620400</td>\n      <td>1.465420e+04</td>\n      <td>11.508701</td>\n      <td>4.482962</td>\n      <td>0.000000</td>\n    </tr>\n  </tbody>\n</table>\n<p>55440 rows × 11 columns</p>\n</div>"
     },
     "execution_count": 3,
     "metadata": {},
     "output_type": "execute_result"
    }
   ],
   "source": [
    "df = pd.read_csv(\"energy.csv\")\n",
    "df"
   ]
  },
  {
   "cell_type": "code",
   "execution_count": 4,
   "metadata": {
    "ExecuteTime": {
     "start_time": "2023-04-30T09:52:47.986139Z",
     "end_time": "2023-04-30T09:52:48.083827Z"
    },
    "id": "oAPqHXp-0Shp"
   },
   "outputs": [
    {
     "data": {
      "text/plain": "Unnamed: 0                         0\nCountry                            0\nEnergy_type                        0\nYear                               0\nEnergy_consumption             11153\nEnergy_production              11151\nGDP                            15414\nPopulation                      9426\nEnergy_intensity_per_capita     5082\nEnergy_intensity_by_GDP         5082\nCO2_emission                    3826\ndtype: int64"
     },
     "execution_count": 4,
     "metadata": {},
     "output_type": "execute_result"
    }
   ],
   "source": [
    "df.isna().sum()"
   ]
  },
  {
   "cell_type": "code",
   "execution_count": 5,
   "metadata": {
    "ExecuteTime": {
     "start_time": "2023-04-30T09:52:48.029501Z",
     "end_time": "2023-04-30T09:52:50.382669Z"
    },
    "id": "qIAElvpY0Ltm"
   },
   "outputs": [
    {
     "name": "stderr",
     "output_type": "stream",
     "text": [
      "/tmp/ipykernel_38700/972437606.py:1: FutureWarning: The default value of numeric_only in DataFrame.mean is deprecated. In a future version, it will default to False. In addition, specifying 'numeric_only=None' is deprecated. Select only valid columns or specify the value of numeric_only to silence this warning.\n",
      "  df.mean()\n"
     ]
    },
    {
     "data": {
      "text/plain": "Unnamed: 0                     27719.500000\nYear                            1999.500000\nEnergy_consumption                 1.537811\nEnergy_production                  1.532700\nGDP                              827.144126\nPopulation                     62630.204775\nEnergy_intensity_per_capita       71.898914\nEnergy_intensity_by_GDP            3.695104\nCO2_emission                      78.800082\ndtype: float64"
     },
     "execution_count": 5,
     "metadata": {},
     "output_type": "execute_result"
    }
   ],
   "source": [
    "df.mean()"
   ]
  },
  {
   "cell_type": "code",
   "execution_count": 6,
   "metadata": {
    "ExecuteTime": {
     "start_time": "2023-04-30T09:52:50.384579Z",
     "end_time": "2023-04-30T09:52:50.388132Z"
    },
    "id": "_8LA-0-82FoZ"
   },
   "outputs": [
    {
     "data": {
      "text/plain": "Unnamed: 0                       int64\nCountry                         object\nEnergy_type                     object\nYear                             int64\nEnergy_consumption             float64\nEnergy_production              float64\nGDP                            float64\nPopulation                     float64\nEnergy_intensity_per_capita    float64\nEnergy_intensity_by_GDP        float64\nCO2_emission                   float64\ndtype: object"
     },
     "execution_count": 6,
     "metadata": {},
     "output_type": "execute_result"
    }
   ],
   "source": [
    "df.dtypes\n"
   ]
  },
  {
   "cell_type": "code",
   "execution_count": 7,
   "metadata": {
    "ExecuteTime": {
     "start_time": "2023-04-30T09:52:50.388754Z",
     "end_time": "2023-04-30T09:52:50.435812Z"
    },
    "id": "dQMOyfgPuuOp"
   },
   "outputs": [],
   "source": [
    "year = np.array(df['Year'])"
   ]
  },
  {
   "cell_type": "code",
   "execution_count": 7,
   "metadata": {
    "ExecuteTime": {
     "start_time": "2023-04-30T09:52:50.429721Z",
     "end_time": "2023-04-30T09:52:50.436278Z"
    },
    "id": "wp__ez2o75U4"
   },
   "outputs": [],
   "source": []
  },
  {
   "cell_type": "code",
   "execution_count": 8,
   "metadata": {
    "ExecuteTime": {
     "start_time": "2023-04-30T09:52:50.429882Z",
     "end_time": "2023-04-30T09:52:50.436505Z"
    },
    "id": "C-pzNG51vImd"
   },
   "outputs": [],
   "source": [
    "co2 = np.array(df['CO2_emission'])"
   ]
  },
  {
   "cell_type": "code",
   "execution_count": 9,
   "metadata": {
    "ExecuteTime": {
     "start_time": "2023-04-30T09:52:50.430019Z",
     "end_time": "2023-04-30T09:52:50.437018Z"
    },
    "id": "xhNi4ziOvJ6K"
   },
   "outputs": [
    {
     "data": {
      "text/plain": "array([4.94662713e+03, 1.40979019e+03, 1.08159338e+03, ...,\n       4.37788994e+00, 0.00000000e+00, 0.00000000e+00])"
     },
     "execution_count": 9,
     "metadata": {},
     "output_type": "execute_result"
    }
   ],
   "source": [
    "co2"
   ]
  },
  {
   "cell_type": "code",
   "execution_count": 10,
   "metadata": {
    "ExecuteTime": {
     "start_time": "2023-04-30T09:52:50.430192Z",
     "end_time": "2023-04-30T09:52:50.565362Z"
    },
    "id": "dGneryeovSqH"
   },
   "outputs": [
    {
     "data": {
      "text/plain": "[<matplotlib.lines.Line2D at 0x7fdcb86d0400>]"
     },
     "execution_count": 10,
     "metadata": {},
     "output_type": "execute_result"
    },
    {
     "data": {
      "text/plain": "<Figure size 640x480 with 1 Axes>",
      "image/png": "[encoded data removed]"
     },
     "metadata": {},
     "output_type": "display_data"
    }
   ],
   "source": [
    "plt.title(\"Year vs Co2 emission\")\n",
    "plt.xlabel(\"Year\")\n",
    "plt.ylabel(\"Emission\")\n",
    "plt.plot(year,co2)"
   ]
  },
  {
   "cell_type": "code",
   "execution_count": 11,
   "metadata": {
    "ExecuteTime": {
     "start_time": "2023-04-30T09:52:50.566392Z",
     "end_time": "2023-04-30T09:52:50.652142Z"
    },
    "id": "EZcRyS4CvYPs"
   },
   "outputs": [],
   "source": [
    "cons = np.array(df['Energy_consumption'])\n",
    "pros = np.array(df['Energy_production'])"
   ]
  },
  {
   "cell_type": "code",
   "execution_count": 12,
   "metadata": {
    "ExecuteTime": {
     "start_time": "2023-04-30T09:52:50.609411Z",
     "end_time": "2023-04-30T09:52:50.735180Z"
    },
    "id": "dGGsZ1wmv6W4"
   },
   "outputs": [
    {
     "data": {
      "text/plain": "[<matplotlib.lines.Line2D at 0x7fdcb82dae60>]"
     },
     "execution_count": 12,
     "metadata": {},
     "output_type": "execute_result"
    },
    {
     "data": {
      "text/plain": "<Figure size 640x480 with 1 Axes>",
      "image/png": "[encoded data removed]"
     },
     "metadata": {},
     "output_type": "display_data"
    }
   ],
   "source": [
    "plt.title(\"Production vs Consumption\")\n",
    "plt.xlabel(\"Consumption\")\n",
    "plt.ylabel(\"Production\")\n",
    "\n",
    "plt.plot(cons,pros)"
   ]
  },
  {
   "cell_type": "code",
   "execution_count": 13,
   "metadata": {
    "ExecuteTime": {
     "start_time": "2023-04-30T09:52:50.737811Z",
     "end_time": "2023-04-30T09:52:50.792001Z"
    },
    "id": "MhJ9alsQy0lR"
   },
   "outputs": [],
   "source": [
    "# Replacing missing values with mode\n",
    "df['CO2_emission'].fillna(df['CO2_emission'].mode()[0], inplace=True)"
   ]
  },
  {
   "cell_type": "code",
   "execution_count": 14,
   "metadata": {
    "ExecuteTime": {
     "start_time": "2023-04-30T09:52:50.785497Z",
     "end_time": "2023-04-30T09:52:50.792301Z"
    },
    "id": "48byqRzj_8Ix"
   },
   "outputs": [],
   "source": [
    "df['Energy_consumption'].fillna(df['Energy_consumption'].mode()[0], inplace=True)"
   ]
  },
  {
   "cell_type": "code",
   "execution_count": 15,
   "metadata": {
    "ExecuteTime": {
     "start_time": "2023-04-30T09:52:50.785592Z",
     "end_time": "2023-04-30T09:52:50.792460Z"
    },
    "id": "2YkyVCFN_8Iy"
   },
   "outputs": [],
   "source": [
    "df['Energy_production'].fillna(df['Energy_production'].mode()[0], inplace=True)"
   ]
  },
  {
   "cell_type": "code",
   "execution_count": 16,
   "metadata": {
    "ExecuteTime": {
     "start_time": "2023-04-30T09:52:50.785681Z",
     "end_time": "2023-04-30T09:52:50.792598Z"
    },
    "id": "AwHg0ow__8Iy"
   },
   "outputs": [],
   "source": [
    "df['Population'].fillna(df['Population'].mode()[0], inplace=True)"
   ]
  },
  {
   "cell_type": "code",
   "execution_count": 17,
   "metadata": {
    "ExecuteTime": {
     "start_time": "2023-04-30T09:52:50.785759Z",
     "end_time": "2023-04-30T09:52:50.792838Z"
    },
    "id": "rRXAruPn_8Iy"
   },
   "outputs": [],
   "source": [
    "df['GDP'].fillna(df['GDP'].mode()[0], inplace=True)"
   ]
  },
  {
   "cell_type": "code",
   "execution_count": 18,
   "metadata": {
    "ExecuteTime": {
     "start_time": "2023-04-30T09:52:50.785833Z",
     "end_time": "2023-04-30T09:52:50.792996Z"
    },
    "id": "bNpitzgd_8Iz"
   },
   "outputs": [],
   "source": [
    "df['Energy_intensity_by_GDP'].fillna(df['Energy_intensity_by_GDP'].mode()[0], inplace=True)"
   ]
  },
  {
   "cell_type": "code",
   "execution_count": 19,
   "metadata": {
    "ExecuteTime": {
     "start_time": "2023-04-30T09:52:50.785910Z",
     "end_time": "2023-04-30T09:52:50.841150Z"
    },
    "id": "M7JsmbJmAocH"
   },
   "outputs": [
    {
     "data": {
      "text/plain": "Unnamed: 0                        0\nCountry                           0\nEnergy_type                       0\nYear                              0\nEnergy_consumption                0\nEnergy_production                 0\nGDP                               0\nPopulation                        0\nEnergy_intensity_per_capita    5082\nEnergy_intensity_by_GDP           0\nCO2_emission                      0\ndtype: int64"
     },
     "execution_count": 19,
     "metadata": {},
     "output_type": "execute_result"
    }
   ],
   "source": [
    "df.isna().sum()"
   ]
  },
  {
   "cell_type": "code",
   "execution_count": 20,
   "metadata": {
    "ExecuteTime": {
     "start_time": "2023-04-30T09:52:50.829333Z",
     "end_time": "2023-04-30T09:52:50.841458Z"
    },
    "id": "oTxfg2NJAqsh"
   },
   "outputs": [],
   "source": [
    "df['Energy_intensity_per_capita'].fillna(df['Energy_intensity_per_capita'].mode()[0], inplace=True)"
   ]
  },
  {
   "cell_type": "code",
   "execution_count": 21,
   "metadata": {
    "ExecuteTime": {
     "start_time": "2023-04-30T09:52:50.829428Z",
     "end_time": "2023-04-30T09:52:50.841672Z"
    },
    "id": "AlybVVXpA04q"
   },
   "outputs": [],
   "source": [
    "df = df.dropna()"
   ]
  },
  {
   "cell_type": "code",
   "execution_count": 22,
   "metadata": {
    "ExecuteTime": {
     "start_time": "2023-04-30T09:52:50.829509Z",
     "end_time": "2023-04-30T09:52:50.842066Z"
    },
    "id": "SjaZroUPA3ab"
   },
   "outputs": [
    {
     "data": {
      "text/plain": "       Unnamed: 0   Country                Energy_type  Year  \\\n0               0     World           all_energy_types  1980   \n1               1     World                       coal  1980   \n2               2     World                natural_gas  1980   \n3               3     World  petroleum_n_other_liquids  1980   \n4               4     World                    nuclear  1980   \n...           ...       ...                        ...   ...   \n55435       55435  Zimbabwe                       coal  2019   \n55436       55436  Zimbabwe                natural_gas  2019   \n55437       55437  Zimbabwe  petroleum_n_other_liquids  2019   \n55438       55438  Zimbabwe                    nuclear  2019   \n55439       55439  Zimbabwe         renewables_n_other  2019   \n\n       Energy_consumption  Energy_production           GDP    Population  \\\n0              292.899790         296.337228  27770.910281  4.298127e+06   \n1               78.656134          80.114194  27770.910281  4.298127e+06   \n2               53.865223          54.761046  27770.910281  4.298127e+06   \n3              132.064019         133.111109  27770.910281  4.298127e+06   \n4                7.575700           7.575700  27770.910281  4.298127e+06   \n...                   ...                ...           ...           ...   \n55435            0.045064           0.075963     37.620400  1.465420e+04   \n55436            0.000000           0.000000     37.620400  1.465420e+04   \n55437            0.055498           0.000000     37.620400  1.465420e+04   \n55438            0.000000           0.000000     37.620400  1.465420e+04   \n55439            0.068089           0.067499     37.620400  1.465420e+04   \n\n       Energy_intensity_per_capita  Energy_intensity_by_GDP  CO2_emission  \n0                        68.145921                10.547000   4946.627130  \n1                        68.145921                10.547000   1409.790188  \n2                        68.145921                10.547000   1081.593377  \n3                        68.145921                10.547000   2455.243565  \n4                        68.145921                10.547000      0.000000  \n...                            ...                      ...           ...  \n55435                    11.508701                 4.482962      4.586869  \n55436                    11.508701                 4.482962      0.000000  \n55437                    11.508701                 4.482962      4.377890  \n55438                    11.508701                 4.482962      0.000000  \n55439                    11.508701                 4.482962      0.000000  \n\n[55440 rows x 11 columns]",
      "text/html": "<div>\n<style scoped>\n    .dataframe tbody tr th:only-of-type {\n        vertical-align: middle;\n    }\n\n    .dataframe tbody tr th {\n        vertical-align: top;\n    }\n\n    .dataframe thead th {\n        text-align: right;\n    }\n</style>\n<table border=\"1\" class=\"dataframe\">\n  <thead>\n    <tr style=\"text-align: right;\">\n      <th></th>\n      <th>Unnamed: 0</th>\n      <th>Country</th>\n      <th>Energy_type</th>\n      <th>Year</th>\n      <th>Energy_consumption</th>\n      <th>Energy_production</th>\n      <th>GDP</th>\n      <th>Population</th>\n      <th>Energy_intensity_per_capita</th>\n      <th>Energy_intensity_by_GDP</th>\n      <th>CO2_emission</th>\n    </tr>\n  </thead>\n  <tbody>\n    <tr>\n      <th>0</th>\n      <td>0</td>\n      <td>World</td>\n      <td>all_energy_types</td>\n      <td>1980</td>\n      <td>292.899790</td>\n      <td>296.337228</td>\n      <td>27770.910281</td>\n      <td>4.298127e+06</td>\n      <td>68.145921</td>\n      <td>10.547000</td>\n      <td>4946.627130</td>\n    </tr>\n    <tr>\n      <th>1</th>\n      <td>1</td>\n      <td>World</td>\n      <td>coal</td>\n      <td>1980</td>\n      <td>78.656134</td>\n      <td>80.114194</td>\n      <td>27770.910281</td>\n      <td>4.298127e+06</td>\n      <td>68.145921</td>\n      <td>10.547000</td>\n      <td>1409.790188</td>\n    </tr>\n    <tr>\n      <th>2</th>\n      <td>2</td>\n      <td>World</td>\n      <td>natural_gas</td>\n      <td>1980</td>\n      <td>53.865223</td>\n      <td>54.761046</td>\n      <td>27770.910281</td>\n      <td>4.298127e+06</td>\n      <td>68.145921</td>\n      <td>10.547000</td>\n      <td>1081.593377</td>\n    </tr>\n    <tr>\n      <th>3</th>\n      <td>3</td>\n      <td>World</td>\n      <td>petroleum_n_other_liquids</td>\n      <td>1980</td>\n      <td>132.064019</td>\n      <td>133.111109</td>\n      <td>27770.910281</td>\n      <td>4.298127e+06</td>\n      <td>68.145921</td>\n      <td>10.547000</td>\n      <td>2455.243565</td>\n    </tr>\n    <tr>\n      <th>4</th>\n      <td>4</td>\n      <td>World</td>\n      <td>nuclear</td>\n      <td>1980</td>\n      <td>7.575700</td>\n      <td>7.575700</td>\n      <td>27770.910281</td>\n      <td>4.298127e+06</td>\n      <td>68.145921</td>\n      <td>10.547000</td>\n      <td>0.000000</td>\n    </tr>\n    <tr>\n      <th>...</th>\n      <td>...</td>\n      <td>...</td>\n      <td>...</td>\n      <td>...</td>\n      <td>...</td>\n      <td>...</td>\n      <td>...</td>\n      <td>...</td>\n      <td>...</td>\n      <td>...</td>\n      <td>...</td>\n    </tr>\n    <tr>\n      <th>55435</th>\n      <td>55435</td>\n      <td>Zimbabwe</td>\n      <td>coal</td>\n      <td>2019</td>\n      <td>0.045064</td>\n      <td>0.075963</td>\n      <td>37.620400</td>\n      <td>1.465420e+04</td>\n      <td>11.508701</td>\n      <td>4.482962</td>\n      <td>4.586869</td>\n    </tr>\n    <tr>\n      <th>55436</th>\n      <td>55436</td>\n      <td>Zimbabwe</td>\n      <td>natural_gas</td>\n      <td>2019</td>\n      <td>0.000000</td>\n      <td>0.000000</td>\n      <td>37.620400</td>\n      <td>1.465420e+04</td>\n      <td>11.508701</td>\n      <td>4.482962</td>\n      <td>0.000000</td>\n    </tr>\n    <tr>\n      <th>55437</th>\n      <td>55437</td>\n      <td>Zimbabwe</td>\n      <td>petroleum_n_other_liquids</td>\n      <td>2019</td>\n      <td>0.055498</td>\n      <td>0.000000</td>\n      <td>37.620400</td>\n      <td>1.465420e+04</td>\n      <td>11.508701</td>\n      <td>4.482962</td>\n      <td>4.377890</td>\n    </tr>\n    <tr>\n      <th>55438</th>\n      <td>55438</td>\n      <td>Zimbabwe</td>\n      <td>nuclear</td>\n      <td>2019</td>\n      <td>0.000000</td>\n      <td>0.000000</td>\n      <td>37.620400</td>\n      <td>1.465420e+04</td>\n      <td>11.508701</td>\n      <td>4.482962</td>\n      <td>0.000000</td>\n    </tr>\n    <tr>\n      <th>55439</th>\n      <td>55439</td>\n      <td>Zimbabwe</td>\n      <td>renewables_n_other</td>\n      <td>2019</td>\n      <td>0.068089</td>\n      <td>0.067499</td>\n      <td>37.620400</td>\n      <td>1.465420e+04</td>\n      <td>11.508701</td>\n      <td>4.482962</td>\n      <td>0.000000</td>\n    </tr>\n  </tbody>\n</table>\n<p>55440 rows × 11 columns</p>\n</div>"
     },
     "execution_count": 22,
     "metadata": {},
     "output_type": "execute_result"
    }
   ],
   "source": [
    "df"
   ]
  },
  {
   "cell_type": "code",
   "execution_count": 23,
   "metadata": {
    "ExecuteTime": {
     "start_time": "2023-04-30T09:52:50.838623Z",
     "end_time": "2023-04-30T09:52:50.882240Z"
    },
    "id": "VUrx-Zm8WUUI"
   },
   "outputs": [
    {
     "data": {
      "text/plain": "         Unnamed: 0        Year  Energy_consumption  Energy_production  \\\ncount  55440.000000  55440.0000        55440.000000       5.544000e+04   \nmean   27719.500000   1999.5000            1.228446       1.224418e+00   \nstd    16004.293799     11.5435           13.828383       1.369195e+01   \nmin        0.000000   1980.0000           -0.163438      -1.000000e-39   \n25%    13859.750000   1989.7500            0.000000       0.000000e+00   \n50%    27719.500000   1999.5000            0.003233       0.000000e+00   \n75%    41579.250000   2009.2500            0.118580       4.493183e-02   \nmax    55439.000000   2019.0000          601.040490       6.115090e+02   \n\n                 GDP    Population  Energy_intensity_per_capita  \\\ncount   55440.000000  5.544000e+04                 55440.000000   \nmean      646.559628  5.199936e+04                    65.308180   \nstd      5090.887635  4.162830e+05                   110.358524   \nmin         0.124958  1.147100e+01                     0.000000   \n25%        20.225725  1.594310e+02                     1.769796   \n50%       177.630400  3.835520e+03                    20.718595   \n75%       177.630400  1.520805e+04                    84.976154   \nmax    127690.247059  7.714631e+06                  1139.320598   \n\n       Energy_intensity_by_GDP  CO2_emission  \ncount             55440.000000  55440.000000  \nmean                  3.356386     73.361967  \nstd                   4.503314    870.761661  \nmin                   0.000000     -0.005130  \n25%                   0.000000      0.000000  \n50%                   2.630796      0.000000  \n75%                   4.694408      3.300000  \nmax                 166.913605  35584.933498  ",
      "text/html": "<div>\n<style scoped>\n    .dataframe tbody tr th:only-of-type {\n        vertical-align: middle;\n    }\n\n    .dataframe tbody tr th {\n        vertical-align: top;\n    }\n\n    .dataframe thead th {\n        text-align: right;\n    }\n</style>\n<table border=\"1\" class=\"dataframe\">\n  <thead>\n    <tr style=\"text-align: right;\">\n      <th></th>\n      <th>Unnamed: 0</th>\n      <th>Year</th>\n      <th>Energy_consumption</th>\n      <th>Energy_production</th>\n      <th>GDP</th>\n      <th>Population</th>\n      <th>Energy_intensity_per_capita</th>\n      <th>Energy_intensity_by_GDP</th>\n      <th>CO2_emission</th>\n    </tr>\n  </thead>\n  <tbody>\n    <tr>\n      <th>count</th>\n      <td>55440.000000</td>\n      <td>55440.0000</td>\n      <td>55440.000000</td>\n      <td>5.544000e+04</td>\n      <td>55440.000000</td>\n      <td>5.544000e+04</td>\n      <td>55440.000000</td>\n      <td>55440.000000</td>\n      <td>55440.000000</td>\n    </tr>\n    <tr>\n      <th>mean</th>\n      <td>27719.500000</td>\n      <td>1999.5000</td>\n      <td>1.228446</td>\n      <td>1.224418e+00</td>\n      <td>646.559628</td>\n      <td>5.199936e+04</td>\n      <td>65.308180</td>\n      <td>3.356386</td>\n      <td>73.361967</td>\n    </tr>\n    <tr>\n      <th>std</th>\n      <td>16004.293799</td>\n      <td>11.5435</td>\n      <td>13.828383</td>\n      <td>1.369195e+01</td>\n      <td>5090.887635</td>\n      <td>4.162830e+05</td>\n      <td>110.358524</td>\n      <td>4.503314</td>\n      <td>870.761661</td>\n    </tr>\n    <tr>\n      <th>min</th>\n      <td>0.000000</td>\n      <td>1980.0000</td>\n      <td>-0.163438</td>\n      <td>-1.000000e-39</td>\n      <td>0.124958</td>\n      <td>1.147100e+01</td>\n      <td>0.000000</td>\n      <td>0.000000</td>\n      <td>-0.005130</td>\n    </tr>\n    <tr>\n      <th>25%</th>\n      <td>13859.750000</td>\n      <td>1989.7500</td>\n      <td>0.000000</td>\n      <td>0.000000e+00</td>\n      <td>20.225725</td>\n      <td>1.594310e+02</td>\n      <td>1.769796</td>\n      <td>0.000000</td>\n      <td>0.000000</td>\n    </tr>\n    <tr>\n      <th>50%</th>\n      <td>27719.500000</td>\n      <td>1999.5000</td>\n      <td>0.003233</td>\n      <td>0.000000e+00</td>\n      <td>177.630400</td>\n      <td>3.835520e+03</td>\n      <td>20.718595</td>\n      <td>2.630796</td>\n      <td>0.000000</td>\n    </tr>\n    <tr>\n      <th>75%</th>\n      <td>41579.250000</td>\n      <td>2009.2500</td>\n      <td>0.118580</td>\n      <td>4.493183e-02</td>\n      <td>177.630400</td>\n      <td>1.520805e+04</td>\n      <td>84.976154</td>\n      <td>4.694408</td>\n      <td>3.300000</td>\n    </tr>\n    <tr>\n      <th>max</th>\n      <td>55439.000000</td>\n      <td>2019.0000</td>\n      <td>601.040490</td>\n      <td>6.115090e+02</td>\n      <td>127690.247059</td>\n      <td>7.714631e+06</td>\n      <td>1139.320598</td>\n      <td>166.913605</td>\n      <td>35584.933498</td>\n    </tr>\n  </tbody>\n</table>\n</div>"
     },
     "execution_count": 23,
     "metadata": {},
     "output_type": "execute_result"
    }
   ],
   "source": [
    "df.describe()"
   ]
  },
  {
   "cell_type": "code",
   "execution_count": 24,
   "metadata": {
    "ExecuteTime": {
     "start_time": "2023-04-30T09:52:50.881394Z",
     "end_time": "2023-04-30T09:52:50.998385Z"
    },
    "id": "je1KmB61VoC8"
   },
   "outputs": [
    {
     "data": {
      "text/plain": "all_energy_types             9240\ncoal                         9240\nnatural_gas                  9240\npetroleum_n_other_liquids    9240\nnuclear                      9240\nrenewables_n_other           9240\nName: Energy_type, dtype: int64"
     },
     "execution_count": 24,
     "metadata": {},
     "output_type": "execute_result"
    }
   ],
   "source": [
    "df['Energy_type'].value_counts()"
   ]
  },
  {
   "cell_type": "code",
   "execution_count": 25,
   "metadata": {
    "ExecuteTime": {
     "start_time": "2023-04-30T09:52:50.925364Z",
     "end_time": "2023-04-30T09:52:50.998737Z"
    },
    "id": "CoK7H7vOBN95"
   },
   "outputs": [
    {
     "data": {
      "text/plain": "Unnamed: 0                       int64\nCountry                         object\nEnergy_type                     object\nYear                             int64\nEnergy_consumption             float64\nEnergy_production              float64\nGDP                            float64\nPopulation                     float64\nEnergy_intensity_per_capita    float64\nEnergy_intensity_by_GDP        float64\nCO2_emission                   float64\ndtype: object"
     },
     "execution_count": 25,
     "metadata": {},
     "output_type": "execute_result"
    }
   ],
   "source": [
    "df.dtypes"
   ]
  },
  {
   "cell_type": "code",
   "execution_count": 26,
   "metadata": {
    "ExecuteTime": {
     "start_time": "2023-04-30T09:52:50.925479Z",
     "end_time": "2023-04-30T09:52:51.221018Z"
    },
    "id": "OVRbfQJUGvOo"
   },
   "outputs": [],
   "source": [
    "from sklearn.tree import DecisionTreeRegressor\n",
    "from sklearn.model_selection import train_test_split\n",
    "from sklearn.metrics import r2_score\n",
    "import numpy as np"
   ]
  },
  {
   "cell_type": "code",
   "execution_count": 27,
   "metadata": {
    "ExecuteTime": {
     "start_time": "2023-04-30T09:52:51.224303Z",
     "end_time": "2023-04-30T09:52:51.225658Z"
    },
    "id": "GXqyEysCIBMC"
   },
   "outputs": [],
   "source": [
    "X = df[['Energy_production']]\n",
    "y = df['Energy_consumption']"
   ]
  },
  {
   "cell_type": "code",
   "execution_count": 28,
   "metadata": {
    "ExecuteTime": {
     "start_time": "2023-04-30T09:52:51.230767Z",
     "end_time": "2023-04-30T09:52:51.273791Z"
    },
    "id": "mAmU4-OOLKXX"
   },
   "outputs": [],
   "source": [
    "X_a = np.array(X)\n",
    "X = X_a.reshape((-1,1))\n",
    "Y_a = np.array(y)\n",
    "y = Y_a.reshape((-1,1))"
   ]
  },
  {
   "cell_type": "code",
   "execution_count": 29,
   "metadata": {
    "ExecuteTime": {
     "start_time": "2023-04-30T09:52:51.273655Z",
     "end_time": "2023-04-30T09:52:51.274173Z"
    },
    "id": "mMTTPXxnGeDL"
   },
   "outputs": [],
   "source": [
    "X_train, X_test, y_train, y_test = train_test_split(X, y, test_size=0.2, random_state=42)"
   ]
  },
  {
   "cell_type": "code",
   "execution_count": 30,
   "metadata": {
    "ExecuteTime": {
     "start_time": "2023-04-30T09:52:51.273929Z",
     "end_time": "2023-04-30T09:52:51.318477Z"
    },
    "id": "eJ5E7KDFG89e"
   },
   "outputs": [
    {
     "name": "stdout",
     "output_type": "stream",
     "text": [
      "accuracy:  0.9856189345306126\n"
     ]
    }
   ],
   "source": [
    "clf = DecisionTreeRegressor()\n",
    "\n",
    "# Fit the classifier to the training data\n",
    "clf.fit(X_train, y_train)\n",
    "\n",
    "# Predict the class labels of the testing data\n",
    "y_pred = clf.predict(X_test)\n",
    "\n",
    "# Calculate the accuracy of the classifier\n",
    "accuracy = r2_score(y_test, y_pred)\n",
    "print(\"accuracy: \", accuracy)"
   ]
  },
  {
   "cell_type": "code",
   "execution_count": 31,
   "metadata": {
    "ExecuteTime": {
     "start_time": "2023-04-30T09:52:51.317479Z",
     "end_time": "2023-04-30T09:52:51.318848Z"
    },
    "id": "LeTkRoz_L38a"
   },
   "outputs": [
    {
     "data": {
      "text/plain": "array([[0.],\n       [0.],\n       [0.],\n       ...,\n       [0.],\n       [0.],\n       [0.]])"
     },
     "execution_count": 31,
     "metadata": {},
     "output_type": "execute_result"
    }
   ],
   "source": [
    "X_train"
   ]
  },
  {
   "cell_type": "code",
   "execution_count": 32,
   "metadata": {
    "ExecuteTime": {
     "start_time": "2023-04-30T09:52:51.317658Z",
     "end_time": "2023-04-30T09:52:51.318998Z"
    },
    "id": "BOO8jgmxMj5V"
   },
   "outputs": [],
   "source": [
    "# Appliying k means with elbow method"
   ]
  },
  {
   "cell_type": "code",
   "execution_count": 33,
   "metadata": {
    "ExecuteTime": {
     "start_time": "2023-04-30T09:52:51.317777Z",
     "end_time": "2023-04-30T09:52:54.389161Z"
    },
    "collapsed": false
   },
   "outputs": [
    {
     "name": "stderr",
     "output_type": "stream",
     "text": [
      "/home/harsh/.local/lib/python3.10/site-packages/sklearn/cluster/_kmeans.py:870: FutureWarning: The default value of `n_init` will change from 10 to 'auto' in 1.4. Set the value of `n_init` explicitly to suppress the warning\n",
      "  warnings.warn(\n",
      "/home/harsh/.local/lib/python3.10/site-packages/sklearn/cluster/_kmeans.py:870: FutureWarning: The default value of `n_init` will change from 10 to 'auto' in 1.4. Set the value of `n_init` explicitly to suppress the warning\n",
      "  warnings.warn(\n",
      "/home/harsh/.local/lib/python3.10/site-packages/sklearn/cluster/_kmeans.py:870: FutureWarning: The default value of `n_init` will change from 10 to 'auto' in 1.4. Set the value of `n_init` explicitly to suppress the warning\n",
      "  warnings.warn(\n",
      "/home/harsh/.local/lib/python3.10/site-packages/sklearn/cluster/_kmeans.py:870: FutureWarning: The default value of `n_init` will change from 10 to 'auto' in 1.4. Set the value of `n_init` explicitly to suppress the warning\n",
      "  warnings.warn(\n",
      "/home/harsh/.local/lib/python3.10/site-packages/sklearn/cluster/_kmeans.py:870: FutureWarning: The default value of `n_init` will change from 10 to 'auto' in 1.4. Set the value of `n_init` explicitly to suppress the warning\n",
      "  warnings.warn(\n",
      "/home/harsh/.local/lib/python3.10/site-packages/sklearn/cluster/_kmeans.py:870: FutureWarning: The default value of `n_init` will change from 10 to 'auto' in 1.4. Set the value of `n_init` explicitly to suppress the warning\n",
      "  warnings.warn(\n",
      "/home/harsh/.local/lib/python3.10/site-packages/sklearn/cluster/_kmeans.py:870: FutureWarning: The default value of `n_init` will change from 10 to 'auto' in 1.4. Set the value of `n_init` explicitly to suppress the warning\n",
      "  warnings.warn(\n",
      "/home/harsh/.local/lib/python3.10/site-packages/sklearn/cluster/_kmeans.py:870: FutureWarning: The default value of `n_init` will change from 10 to 'auto' in 1.4. Set the value of `n_init` explicitly to suppress the warning\n",
      "  warnings.warn(\n",
      "/home/harsh/.local/lib/python3.10/site-packages/sklearn/cluster/_kmeans.py:870: FutureWarning: The default value of `n_init` will change from 10 to 'auto' in 1.4. Set the value of `n_init` explicitly to suppress the warning\n",
      "  warnings.warn(\n"
     ]
    }
   ],
   "source": [
    "from sklearn.cluster import KMeans\n",
    "cluster_range = range(1,10)\n",
    "cluster_errors = []\n",
    "for num_clusters in cluster_range:\n",
    "    clusters = KMeans(num_clusters)\n",
    "    clusters.fit(X)\n",
    "    cluster_errors.append(clusters.inertia_)"
   ]
  },
  {
   "cell_type": "code",
   "execution_count": 34,
   "metadata": {
    "ExecuteTime": {
     "start_time": "2023-04-30T09:52:54.392840Z",
     "end_time": "2023-04-30T09:52:54.398268Z"
    },
    "collapsed": false
   },
   "outputs": [
    {
     "data": {
      "text/plain": "   num_clusters  cluster_errors\n0             1    1.039312e+07\n1             2    3.229560e+06\n2             3    1.031869e+06\n3             4    7.300191e+05\n4             5    4.556589e+05\n5             6    2.454541e+05\n6             7    1.892279e+05\n7             8    1.514304e+05\n8             9    1.174389e+05",
      "text/html": "<div>\n<style scoped>\n    .dataframe tbody tr th:only-of-type {\n        vertical-align: middle;\n    }\n\n    .dataframe tbody tr th {\n        vertical-align: top;\n    }\n\n    .dataframe thead th {\n        text-align: right;\n    }\n</style>\n<table border=\"1\" class=\"dataframe\">\n  <thead>\n    <tr style=\"text-align: right;\">\n      <th></th>\n      <th>num_clusters</th>\n      <th>cluster_errors</th>\n    </tr>\n  </thead>\n  <tbody>\n    <tr>\n      <th>0</th>\n      <td>1</td>\n      <td>1.039312e+07</td>\n    </tr>\n    <tr>\n      <th>1</th>\n      <td>2</td>\n      <td>3.229560e+06</td>\n    </tr>\n    <tr>\n      <th>2</th>\n      <td>3</td>\n      <td>1.031869e+06</td>\n    </tr>\n    <tr>\n      <th>3</th>\n      <td>4</td>\n      <td>7.300191e+05</td>\n    </tr>\n    <tr>\n      <th>4</th>\n      <td>5</td>\n      <td>4.556589e+05</td>\n    </tr>\n    <tr>\n      <th>5</th>\n      <td>6</td>\n      <td>2.454541e+05</td>\n    </tr>\n    <tr>\n      <th>6</th>\n      <td>7</td>\n      <td>1.892279e+05</td>\n    </tr>\n    <tr>\n      <th>7</th>\n      <td>8</td>\n      <td>1.514304e+05</td>\n    </tr>\n    <tr>\n      <th>8</th>\n      <td>9</td>\n      <td>1.174389e+05</td>\n    </tr>\n  </tbody>\n</table>\n</div>"
     },
     "execution_count": 34,
     "metadata": {},
     "output_type": "execute_result"
    }
   ],
   "source": [
    "clusters_df = pd.DataFrame({\"num_clusters\":cluster_range, \"cluster_errors\": cluster_errors})\n",
    "clusters_df[0:10]\n"
   ]
  },
  {
   "cell_type": "code",
   "execution_count": 35,
   "metadata": {
    "ExecuteTime": {
     "start_time": "2023-04-30T09:52:54.416823Z",
     "end_time": "2023-04-30T09:52:54.557918Z"
    },
    "collapsed": false
   },
   "outputs": [
    {
     "data": {
      "text/plain": "Text(0, 0.5, 'WCSS')"
     },
     "execution_count": 35,
     "metadata": {},
     "output_type": "execute_result"
    },
    {
     "data": {
      "text/plain": "<Figure size 1200x600 with 1 Axes>",
      "image/png": "[encoded data removed]"
     },
     "metadata": {},
     "output_type": "display_data"
    }
   ],
   "source": [
    "plt.figure(figsize=(12,6))\n",
    "plt.plot(clusters_df.num_clusters, clusters_df.cluster_errors, marker = \"o\")\n",
    "plt.xlabel(\"Number of clusters\")\n",
    "plt.ylabel(\"WCSS\")\n"
   ]
  },
  {
   "cell_type": "code",
   "execution_count": 36,
   "metadata": {
    "ExecuteTime": {
     "start_time": "2023-04-30T09:52:54.532957Z",
     "end_time": "2023-04-30T09:52:55.400793Z"
    },
    "id": "AiKX-cGNN6iY"
   },
   "outputs": [
    {
     "name": "stderr",
     "output_type": "stream",
     "text": [
      "/home/harsh/.local/lib/python3.10/site-packages/sklearn/cluster/_kmeans.py:870: FutureWarning: The default value of `n_init` will change from 10 to 'auto' in 1.4. Set the value of `n_init` explicitly to suppress the warning\n",
      "  warnings.warn(\n"
     ]
    },
    {
     "data": {
      "text/plain": "array([[  0.51319664],\n       [424.26094264],\n       [ 98.68009314]])"
     },
     "execution_count": 36,
     "metadata": {},
     "output_type": "execute_result"
    }
   ],
   "source": [
    "# Applying k means with 3 clusters\n",
    "clusters = KMeans(3)\n",
    "clusters.fit(X)\n",
    "clusters.cluster_centers_\n"
   ]
  },
  {
   "cell_type": "code",
   "execution_count": 37,
   "metadata": {
    "ExecuteTime": {
     "start_time": "2023-04-30T09:52:55.401110Z",
     "end_time": "2023-04-30T09:52:55.407300Z"
    },
    "id": "ridYCEydOQzY"
   },
   "outputs": [
    {
     "name": "stdout",
     "output_type": "stream",
     "text": [
      "[1 2 2 ... 0 0 0]\n"
     ]
    }
   ],
   "source": [
    "print(clusters.labels_)"
   ]
  },
  {
   "cell_type": "code",
   "execution_count": 38,
   "metadata": {
    "ExecuteTime": {
     "start_time": "2023-04-30T09:52:55.408298Z",
     "end_time": "2023-04-30T09:52:55.413925Z"
    },
    "collapsed": false
   },
   "outputs": [
    {
     "name": "stdout",
     "output_type": "stream",
     "text": [
      "[[  0.51319664]\n",
      " [424.26094264]\n",
      " [ 98.68009314]]\n"
     ]
    }
   ],
   "source": [
    "print(clusters.cluster_centers_)"
   ]
  },
  {
   "cell_type": "code",
   "execution_count": 39,
   "metadata": {
    "collapsed": false
   },
   "outputs": [
    {
     "ename": "InvalidIndexError",
     "evalue": "(slice(None, None, None), 0)",
     "output_type": "error",
     "traceback": [
      "\u001B[0;31m---------------------------------------------------------------------------\u001B[0m",
      "\u001B[0;31mTypeError\u001B[0m                                 Traceback (most recent call last)",
      "File \u001B[0;32m~/.local/lib/python3.10/site-packages/pandas/core/indexes/base.py:3802\u001B[0m, in \u001B[0;36mIndex.get_loc\u001B[0;34m(self, key, method, tolerance)\u001B[0m\n\u001B[1;32m   3801\u001B[0m \u001B[38;5;28;01mtry\u001B[39;00m:\n\u001B[0;32m-> 3802\u001B[0m     \u001B[38;5;28;01mreturn\u001B[39;00m \u001B[38;5;28;43mself\u001B[39;49m\u001B[38;5;241;43m.\u001B[39;49m\u001B[43m_engine\u001B[49m\u001B[38;5;241;43m.\u001B[39;49m\u001B[43mget_loc\u001B[49m\u001B[43m(\u001B[49m\u001B[43mcasted_key\u001B[49m\u001B[43m)\u001B[49m\n\u001B[1;32m   3803\u001B[0m \u001B[38;5;28;01mexcept\u001B[39;00m \u001B[38;5;167;01mKeyError\u001B[39;00m \u001B[38;5;28;01mas\u001B[39;00m err:\n",
      "File \u001B[0;32m~/.local/lib/python3.10/site-packages/pandas/_libs/index.pyx:138\u001B[0m, in \u001B[0;36mpandas._libs.index.IndexEngine.get_loc\u001B[0;34m()\u001B[0m\n",
      "File \u001B[0;32m~/.local/lib/python3.10/site-packages/pandas/_libs/index.pyx:144\u001B[0m, in \u001B[0;36mpandas._libs.index.IndexEngine.get_loc\u001B[0;34m()\u001B[0m\n",
      "\u001B[0;31mTypeError\u001B[0m: '(slice(None, None, None), 0)' is an invalid key",
      "\nDuring handling of the above exception, another exception occurred:\n",
      "\u001B[0;31mInvalidIndexError\u001B[0m                         Traceback (most recent call last)",
      "Cell \u001B[0;32mIn[39], line 1\u001B[0m\n\u001B[0;32m----> 1\u001B[0m plt\u001B[38;5;241m.\u001B[39mscatter(\u001B[43mdf\u001B[49m\u001B[43m[\u001B[49m\u001B[43m:\u001B[49m\u001B[43m,\u001B[49m\u001B[38;5;241;43m0\u001B[39;49m\u001B[43m]\u001B[49m, df[:,\u001B[38;5;241m1\u001B[39m],df[:,\u001B[38;5;241m2\u001B[39m], s\u001B[38;5;241m=\u001B[39m\u001B[38;5;241m50\u001B[39m, c\u001B[38;5;241m=\u001B[39m\u001B[38;5;124m'\u001B[39m\u001B[38;5;124mb\u001B[39m\u001B[38;5;124m'\u001B[39m,label \u001B[38;5;241m=\u001B[39m \u001B[38;5;124m\"\u001B[39m\u001B[38;5;124mTrue Position\u001B[39m\u001B[38;5;124m\"\u001B[39m,cmap \u001B[38;5;241m=\u001B[39m \u001B[38;5;124m'\u001B[39m\u001B[38;5;124mrainbow\u001B[39m\u001B[38;5;124m'\u001B[39m)\n",
      "File \u001B[0;32m~/.local/lib/python3.10/site-packages/pandas/core/frame.py:3807\u001B[0m, in \u001B[0;36mDataFrame.__getitem__\u001B[0;34m(self, key)\u001B[0m\n\u001B[1;32m   3805\u001B[0m \u001B[38;5;28;01mif\u001B[39;00m \u001B[38;5;28mself\u001B[39m\u001B[38;5;241m.\u001B[39mcolumns\u001B[38;5;241m.\u001B[39mnlevels \u001B[38;5;241m>\u001B[39m \u001B[38;5;241m1\u001B[39m:\n\u001B[1;32m   3806\u001B[0m     \u001B[38;5;28;01mreturn\u001B[39;00m \u001B[38;5;28mself\u001B[39m\u001B[38;5;241m.\u001B[39m_getitem_multilevel(key)\n\u001B[0;32m-> 3807\u001B[0m indexer \u001B[38;5;241m=\u001B[39m \u001B[38;5;28;43mself\u001B[39;49m\u001B[38;5;241;43m.\u001B[39;49m\u001B[43mcolumns\u001B[49m\u001B[38;5;241;43m.\u001B[39;49m\u001B[43mget_loc\u001B[49m\u001B[43m(\u001B[49m\u001B[43mkey\u001B[49m\u001B[43m)\u001B[49m\n\u001B[1;32m   3808\u001B[0m \u001B[38;5;28;01mif\u001B[39;00m is_integer(indexer):\n\u001B[1;32m   3809\u001B[0m     indexer \u001B[38;5;241m=\u001B[39m [indexer]\n",
      "File \u001B[0;32m~/.local/lib/python3.10/site-packages/pandas/core/indexes/base.py:3809\u001B[0m, in \u001B[0;36mIndex.get_loc\u001B[0;34m(self, key, method, tolerance)\u001B[0m\n\u001B[1;32m   3804\u001B[0m         \u001B[38;5;28;01mraise\u001B[39;00m \u001B[38;5;167;01mKeyError\u001B[39;00m(key) \u001B[38;5;28;01mfrom\u001B[39;00m \u001B[38;5;21;01merr\u001B[39;00m\n\u001B[1;32m   3805\u001B[0m     \u001B[38;5;28;01mexcept\u001B[39;00m \u001B[38;5;167;01mTypeError\u001B[39;00m:\n\u001B[1;32m   3806\u001B[0m         \u001B[38;5;66;03m# If we have a listlike key, _check_indexing_error will raise\u001B[39;00m\n\u001B[1;32m   3807\u001B[0m         \u001B[38;5;66;03m#  InvalidIndexError. Otherwise we fall through and re-raise\u001B[39;00m\n\u001B[1;32m   3808\u001B[0m         \u001B[38;5;66;03m#  the TypeError.\u001B[39;00m\n\u001B[0;32m-> 3809\u001B[0m         \u001B[38;5;28;43mself\u001B[39;49m\u001B[38;5;241;43m.\u001B[39;49m\u001B[43m_check_indexing_error\u001B[49m\u001B[43m(\u001B[49m\u001B[43mkey\u001B[49m\u001B[43m)\u001B[49m\n\u001B[1;32m   3810\u001B[0m         \u001B[38;5;28;01mraise\u001B[39;00m\n\u001B[1;32m   3812\u001B[0m \u001B[38;5;66;03m# GH#42269\u001B[39;00m\n",
      "File \u001B[0;32m~/.local/lib/python3.10/site-packages/pandas/core/indexes/base.py:5925\u001B[0m, in \u001B[0;36mIndex._check_indexing_error\u001B[0;34m(self, key)\u001B[0m\n\u001B[1;32m   5921\u001B[0m \u001B[38;5;28;01mdef\u001B[39;00m \u001B[38;5;21m_check_indexing_error\u001B[39m(\u001B[38;5;28mself\u001B[39m, key):\n\u001B[1;32m   5922\u001B[0m     \u001B[38;5;28;01mif\u001B[39;00m \u001B[38;5;129;01mnot\u001B[39;00m is_scalar(key):\n\u001B[1;32m   5923\u001B[0m         \u001B[38;5;66;03m# if key is not a scalar, directly raise an error (the code below\u001B[39;00m\n\u001B[1;32m   5924\u001B[0m         \u001B[38;5;66;03m# would convert to numpy arrays and raise later any way) - GH29926\u001B[39;00m\n\u001B[0;32m-> 5925\u001B[0m         \u001B[38;5;28;01mraise\u001B[39;00m InvalidIndexError(key)\n",
      "\u001B[0;31mInvalidIndexError\u001B[0m: (slice(None, None, None), 0)"
     ]
    }
   ],
   "source": [
    "plt.scatter(df[:,0], df[:,1],df[:,2], s=50, c='b',label = \"True Position\",cmap = 'rainbow')"
   ]
  },
  {
   "cell_type": "code",
   "execution_count": null,
   "metadata": {
    "collapsed": false
   },
   "outputs": [],
   "source": [
    "plt.scatter(df[:,0], df[:,1],df[:,2], s=50, c='b',label = \"True Position\",cmap = 'rainbow')"
   ]
  },
  {
   "cell_type": "code",
   "execution_count": null,
   "metadata": {
    "ExecuteTime": {
     "end_time": "2023-04-30T09:10:32.907235Z",
     "start_time": "2023-04-30T09:10:32.762914Z"
    },
    "collapsed": false
   },
   "outputs": [],
   "source": [
    "df_kmeans = pd.get_dummies(df,drop_first=True)\n",
    "df_kmeans.head()"
   ]
  },
  {
   "cell_type": "code",
   "execution_count": null,
   "metadata": {
    "ExecuteTime": {
     "end_time": "2023-04-30T09:10:55.305068Z",
     "start_time": "2023-04-30T09:10:54.783830Z"
    },
    "collapsed": false
   },
   "outputs": [],
   "source": [
    "from sklearn.preprocessing import StandardScaler\n",
    "scaler = StandardScaler()\n",
    "scaler.fit(df_kmeans)\n",
    "scaled_features = scaler.transform(df_kmeans)"
   ]
  },
  {
   "cell_type": "code",
   "execution_count": null,
   "metadata": {
    "ExecuteTime": {
     "end_time": "2023-04-30T09:11:24.839267Z",
     "start_time": "2023-04-30T09:11:17.779446Z"
    },
    "collapsed": false
   },
   "outputs": [],
   "source": [
    "from sklearn.cluster import KMeans\n",
    "kmeans = KMeans(n_clusters=3)\n",
    "kmeans.fit(scaled_features)\n"
   ]
  },
  {
   "cell_type": "code",
   "execution_count": null,
   "metadata": {
    "ExecuteTime": {
     "end_time": "2023-04-30T09:13:15.129830Z",
     "start_time": "2023-04-30T09:13:15.078605Z"
    },
    "collapsed": false
   },
   "outputs": [],
   "source": [
    "print(kmeans.cluster_centers_)"
   ]
  },
  {
   "cell_type": "code",
   "execution_count": null,
   "metadata": {
    "ExecuteTime": {
     "end_time": "2023-04-30T09:13:23.462040Z",
     "start_time": "2023-04-30T09:13:23.401720Z"
    },
    "collapsed": false
   },
   "outputs": [],
   "source": [
    "print(kmeans.labels_)"
   ]
  },
  {
   "cell_type": "code",
   "execution_count": null,
   "metadata": {
    "ExecuteTime": {
     "end_time": "2023-04-30T09:13:44.468746Z",
     "start_time": "2023-04-30T09:13:44.434588Z"
    },
    "collapsed": false
   },
   "outputs": [],
   "source": [
    "df_kmeans.insert(df_kmeans.columns.get_loc('Energy_consumption'), 'kmeans', kmeans.labels_)"
   ]
  },
  {
   "cell_type": "code",
   "execution_count": null,
   "metadata": {},
   "outputs": [],
   "source": [
    "#Grrph to visualize clusters\n",
    "\n",
    "plt.scatter(df[kmeans == 0, 0], X[kmeans == 0, 1], s = 100, c = 'red', label = 'Cluster 1')\n",
    "plt.scatter(df[kmeans == 1, 0], X[kmeans == 1, 1], s = 100, c = 'blue', label = 'Cluster 2')\n",
    "plt.scatter(df[kmeans == 2, 0], X[kmeans == 2, 1], s = 100, c = 'green', label = 'Cluster 3')\n",
    "\n",
    "plt.scatter(kmeans.cluster_centers_[:, 0], kmeans.cluster_centers_[:, 1], s = 300, c = 'yellow', label = 'Centroids')\n",
    "plt.title('Clusters of customers')\n",
    "plt.xlabel('Annual Income (k$)')\n",
    "plt.ylabel('Spending Score (1-100)')\n",
    "plt.legend()\n",
    "plt.show()"
   ]
  },
  {
   "cell_type": "code",
   "execution_count": null,
   "metadata": {
    "ExecuteTime": {
     "end_time": "2023-04-30T09:13:50.717531Z",
     "start_time": "2023-04-30T09:13:50.654070Z"
    },
    "collapsed": false
   },
   "outputs": [],
   "source": [
    "df_kmeans"
   ]
  },
  {
   "cell_type": "code",
   "execution_count": 42,
   "metadata": {
    "ExecuteTime": {
     "start_time": "2023-04-30T09:53:52.202045Z",
     "end_time": "2023-04-30T09:53:54.656091Z"
    },
    "collapsed": false
   },
   "outputs": [
    {
     "name": "stderr",
     "output_type": "stream",
     "text": [
      "/home/harsh/.local/lib/python3.10/site-packages/sklearn/cluster/_kmeans.py:870: FutureWarning: The default value of `n_init` will change from 10 to 'auto' in 1.4. Set the value of `n_init` explicitly to suppress the warning\n",
      "  warnings.warn(\n",
      "/home/harsh/.local/lib/python3.10/site-packages/sklearn/cluster/_kmeans.py:870: FutureWarning: The default value of `n_init` will change from 10 to 'auto' in 1.4. Set the value of `n_init` explicitly to suppress the warning\n",
      "  warnings.warn(\n",
      "/home/harsh/.local/lib/python3.10/site-packages/sklearn/cluster/_kmeans.py:870: FutureWarning: The default value of `n_init` will change from 10 to 'auto' in 1.4. Set the value of `n_init` explicitly to suppress the warning\n",
      "  warnings.warn(\n",
      "/home/harsh/.local/lib/python3.10/site-packages/sklearn/cluster/_kmeans.py:870: FutureWarning: The default value of `n_init` will change from 10 to 'auto' in 1.4. Set the value of `n_init` explicitly to suppress the warning\n",
      "  warnings.warn(\n",
      "/home/harsh/.local/lib/python3.10/site-packages/sklearn/cluster/_kmeans.py:870: FutureWarning: The default value of `n_init` will change from 10 to 'auto' in 1.4. Set the value of `n_init` explicitly to suppress the warning\n",
      "  warnings.warn(\n",
      "/home/harsh/.local/lib/python3.10/site-packages/sklearn/cluster/_kmeans.py:870: FutureWarning: The default value of `n_init` will change from 10 to 'auto' in 1.4. Set the value of `n_init` explicitly to suppress the warning\n",
      "  warnings.warn(\n",
      "/home/harsh/.local/lib/python3.10/site-packages/sklearn/cluster/_kmeans.py:870: FutureWarning: The default value of `n_init` will change from 10 to 'auto' in 1.4. Set the value of `n_init` explicitly to suppress the warning\n",
      "  warnings.warn(\n",
      "/home/harsh/.local/lib/python3.10/site-packages/sklearn/cluster/_kmeans.py:870: FutureWarning: The default value of `n_init` will change from 10 to 'auto' in 1.4. Set the value of `n_init` explicitly to suppress the warning\n",
      "  warnings.warn(\n",
      "/home/harsh/.local/lib/python3.10/site-packages/sklearn/cluster/_kmeans.py:870: FutureWarning: The default value of `n_init` will change from 10 to 'auto' in 1.4. Set the value of `n_init` explicitly to suppress the warning\n",
      "  warnings.warn(\n",
      "/home/harsh/.local/lib/python3.10/site-packages/sklearn/cluster/_kmeans.py:870: FutureWarning: The default value of `n_init` will change from 10 to 'auto' in 1.4. Set the value of `n_init` explicitly to suppress the warning\n",
      "  warnings.warn(\n"
     ]
    },
    {
     "data": {
      "text/plain": "<Figure size 640x480 with 1 Axes>",
      "image/png": "[encoded data removed]"
     },
     "metadata": {},
     "output_type": "display_data"
    }
   ],
   "source": [
    "from sklearn.cluster import KMeans\n",
    "wcss = []\n",
    "for i in range(1, 11):\n",
    "    kmeans = KMeans(n_clusters = i, init = 'k-means++', random_state = 42)\n",
    "    kmeans.fit(X)\n",
    "    wcss.append(kmeans.inertia_)\n",
    "plt.plot(range(1, 11), wcss)\n",
    "plt.title('The Elbow Method')\n",
    "plt.xlabel('Number of clusters')\n",
    "plt.ylabel('WCSS')\n",
    "plt.show()"
   ]
  },
  {
   "cell_type": "code",
   "execution_count": 45,
   "metadata": {
    "collapsed": false,
    "ExecuteTime": {
     "start_time": "2023-04-30T09:54:31.226315Z",
     "end_time": "2023-04-30T09:54:33.133140Z"
    }
   },
   "outputs": [
    {
     "name": "stderr",
     "output_type": "stream",
     "text": [
      "/home/harsh/.local/lib/python3.10/site-packages/sklearn/cluster/_kmeans.py:870: FutureWarning: The default value of `n_init` will change from 10 to 'auto' in 1.4. Set the value of `n_init` explicitly to suppress the warning\n",
      "  warnings.warn(\n"
     ]
    }
   ],
   "source": [
    "kmeans = KMeans(n_clusters = 3, init = 'k-means++', random_state = 42)\n",
    "X = df[['Energy_production','Energy_consumption']]\n",
    "y_kmeans = kmeans.fit_predict(X)"
   ]
  },
  {
   "cell_type": "code",
   "execution_count": 48,
   "outputs": [
    {
     "name": "stdout",
     "output_type": "stream",
     "text": [
      "[1 2 2 ... 0 0 0]\n"
     ]
    }
   ],
   "source": [
    "print(y_kmeans)"
   ],
   "metadata": {
    "collapsed": false,
    "ExecuteTime": {
     "start_time": "2023-04-30T09:55:54.654211Z",
     "end_time": "2023-04-30T09:55:54.657330Z"
    }
   }
  },
  {
   "cell_type": "code",
   "execution_count": 49,
   "outputs": [
    {
     "name": "stdout",
     "output_type": "stream",
     "text": [
      "[[  0.5311323    0.51607389]\n",
      " [424.26094264 425.48279134]\n",
      " [102.36328379 107.12849769]]\n"
     ]
    }
   ],
   "source": [
    "print(kmeans.cluster_centers_)"
   ],
   "metadata": {
    "collapsed": false,
    "ExecuteTime": {
     "start_time": "2023-04-30T09:56:05.833838Z",
     "end_time": "2023-04-30T09:56:05.842175Z"
    }
   }
  },
  {
   "cell_type": "code",
   "execution_count": 52,
   "outputs": [
    {
     "data": {
      "text/plain": "<matplotlib.collections.PathCollection at 0x7fdc9ef901c0>"
     },
     "execution_count": 52,
     "metadata": {},
     "output_type": "execute_result"
    },
    {
     "data": {
      "text/plain": "<Figure size 640x480 with 1 Axes>",
      "image/png": "[encoded data removed]"
     },
     "metadata": {},
     "output_type": "display_data"
    }
   ],
   "source": [
    "plt.scatter(df[\"Energy_production\"], df[\"Energy_consumption\"], s=50, c=kmeans.labels_,label = \"True Position\",cmap = 'rainbow')\n",
    "\n"
   ],
   "metadata": {
    "collapsed": false,
    "ExecuteTime": {
     "start_time": "2023-04-30T09:58:20.522793Z",
     "end_time": "2023-04-30T09:58:21.589762Z"
    }
   }
  },
  {
   "cell_type": "code",
   "execution_count": 53,
   "outputs": [
    {
     "name": "stderr",
     "output_type": "stream",
     "text": [
      "/home/harsh/.local/lib/python3.10/site-packages/sklearn/cluster/_kmeans.py:870: FutureWarning: The default value of `n_init` will change from 10 to 'auto' in 1.4. Set the value of `n_init` explicitly to suppress the warning\n",
      "  warnings.warn(\n"
     ]
    },
    {
     "data": {
      "text/plain": "array([[424.26094264, 425.48279134],\n       [  0.5311323 ,   0.51607389],\n       [102.36328379, 107.12849769]])"
     },
     "execution_count": 53,
     "metadata": {},
     "output_type": "execute_result"
    }
   ],
   "source": [
    "# Applying k means with 3 clusters\n",
    "clusters = KMeans(3)\n",
    "clusters.fit(X)\n",
    "clusters.cluster_centers_\n"
   ],
   "metadata": {
    "collapsed": false,
    "ExecuteTime": {
     "start_time": "2023-04-30T09:58:53.225697Z",
     "end_time": "2023-04-30T09:58:54.775987Z"
    }
   }
  },
  {
   "cell_type": "code",
   "execution_count": null,
   "outputs": [],
   "source": [],
   "metadata": {
    "collapsed": false
   }
  },
  {
   "cell_type": "code",
   "execution_count": null,
   "outputs": [],
   "source": [],
   "metadata": {
    "collapsed": false
   }
  }
 ],
 "metadata": {
  "colab": {
   "provenance": []
  },
  "kernelspec": {
   "display_name": "venv",
   "language": "python",
   "name": "venv"
  },
  "language_info": {
   "codemirror_mode": {
    "name": "ipython",
    "version": 3
   },
   "file_extension": ".py",
   "mimetype": "text/x-python",
   "name": "python",
   "nbconvert_exporter": "python",
   "pygments_lexer": "ipython3",
   "version": "3.10.6"
  }
 },
 "nbformat": 4,
 "nbformat_minor": 0
}
