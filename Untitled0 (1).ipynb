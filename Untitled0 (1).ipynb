{
 "nbformat": 4,
 "nbformat_minor": 0,
 "metadata": {
  "colab": {
   "provenance": [],
   "authorship_tag": "ABX9TyM92N7yfKxSVLcfsLR/Fp7j"
  },
  "kernelspec": {
   "name": "python3",
   "language": "python",
   "display_name": "Python 3 (ipykernel)"
  },
  "language_info": {
   "name": "python"
  }
 },
 "cells": [
  {
   "cell_type": "code",
   "source": [
    "!pip install apyori"
   ],
   "metadata": {
    "colab": {
     "base_uri": "https://localhost:8080/"
    },
    "id": "4IwKyZC3soiR",
    "executionInfo": {
     "status": "ok",
     "timestamp": 1679645937930,
     "user_tz": -330,
     "elapsed": 5408,
     "user": {
      "displayName": "Aryan Ghogare",
      "userId": "17731375533300071716"
     }
    },
    "outputId": "7d1857c6-927b-4ca8-8813-d03ca8b24880",
    "ExecuteTime": {
     "start_time": "2023-04-30T08:45:38.530684Z",
     "end_time": "2023-04-30T08:45:49.502541Z"
    }
   },
   "execution_count": 2,
   "outputs": [
    {
     "name": "stdout",
     "output_type": "stream",
     "text": [
      "Requirement already satisfied: apyori in /home/harsh/anaconda3/lib/python3.9/site-packages (1.1.2)\r\n"
     ]
    }
   ]
  },
  {
   "cell_type": "code",
   "execution_count": 3,
   "metadata": {
    "id": "WyEHR4T4zOO8",
    "executionInfo": {
     "status": "ok",
     "timestamp": 1682787013900,
     "user_tz": -330,
     "elapsed": 3,
     "user": {
      "displayName": "Aryan Ghogare",
      "userId": "17731375533300071716"
     }
    },
    "ExecuteTime": {
     "start_time": "2023-04-30T08:45:49.510832Z",
     "end_time": "2023-04-30T08:45:52.708063Z"
    }
   },
   "outputs": [],
   "source": [
    "import pandas as pd\n",
    "from matplotlib import pyplot as plt\n",
    "import numpy as np"
   ]
  },
  {
   "cell_type": "code",
   "source": [
    "df = pd.read_csv(\"energy.csv\")\n",
    "df"
   ],
   "metadata": {
    "colab": {
     "base_uri": "https://localhost:8080/",
     "height": 505
    },
    "id": "hG9tiEsZ0GN6",
    "executionInfo": {
     "status": "ok",
     "timestamp": 1682787205303,
     "user_tz": -330,
     "elapsed": 523,
     "user": {
      "displayName": "Aryan Ghogare",
      "userId": "17731375533300071716"
     }
    },
    "outputId": "27995a38-970d-4f4e-f835-622a5261bcd9",
    "ExecuteTime": {
     "start_time": "2023-04-30T08:45:52.714840Z",
     "end_time": "2023-04-30T08:45:53.333819Z"
    }
   },
   "execution_count": 4,
   "outputs": [
    {
     "data": {
      "text/plain": "       Unnamed: 0   Country                Energy_type  Year  \\\n0               0     World           all_energy_types  1980   \n1               1     World                       coal  1980   \n2               2     World                natural_gas  1980   \n3               3     World  petroleum_n_other_liquids  1980   \n4               4     World                    nuclear  1980   \n...           ...       ...                        ...   ...   \n55435       55435  Zimbabwe                       coal  2019   \n55436       55436  Zimbabwe                natural_gas  2019   \n55437       55437  Zimbabwe  petroleum_n_other_liquids  2019   \n55438       55438  Zimbabwe                    nuclear  2019   \n55439       55439  Zimbabwe         renewables_n_other  2019   \n\n       Energy_consumption  Energy_production           GDP    Population  \\\n0              292.899790         296.337228  27770.910281  4.298127e+06   \n1               78.656134          80.114194  27770.910281  4.298127e+06   \n2               53.865223          54.761046  27770.910281  4.298127e+06   \n3              132.064019         133.111109  27770.910281  4.298127e+06   \n4                7.575700           7.575700  27770.910281  4.298127e+06   \n...                   ...                ...           ...           ...   \n55435            0.045064           0.075963     37.620400  1.465420e+04   \n55436            0.000000           0.000000     37.620400  1.465420e+04   \n55437            0.055498           0.000000     37.620400  1.465420e+04   \n55438                 NaN                NaN     37.620400  1.465420e+04   \n55439            0.068089           0.067499     37.620400  1.465420e+04   \n\n       Energy_intensity_per_capita  Energy_intensity_by_GDP  CO2_emission  \n0                        68.145921                10.547000   4946.627130  \n1                        68.145921                10.547000   1409.790188  \n2                        68.145921                10.547000   1081.593377  \n3                        68.145921                10.547000   2455.243565  \n4                        68.145921                10.547000      0.000000  \n...                            ...                      ...           ...  \n55435                    11.508701                 4.482962      4.586869  \n55436                    11.508701                 4.482962      0.000000  \n55437                    11.508701                 4.482962      4.377890  \n55438                    11.508701                 4.482962      0.000000  \n55439                    11.508701                 4.482962      0.000000  \n\n[55440 rows x 11 columns]",
      "text/html": "<div>\n<style scoped>\n    .dataframe tbody tr th:only-of-type {\n        vertical-align: middle;\n    }\n\n    .dataframe tbody tr th {\n        vertical-align: top;\n    }\n\n    .dataframe thead th {\n        text-align: right;\n    }\n</style>\n<table border=\"1\" class=\"dataframe\">\n  <thead>\n    <tr style=\"text-align: right;\">\n      <th></th>\n      <th>Unnamed: 0</th>\n      <th>Country</th>\n      <th>Energy_type</th>\n      <th>Year</th>\n      <th>Energy_consumption</th>\n      <th>Energy_production</th>\n      <th>GDP</th>\n      <th>Population</th>\n      <th>Energy_intensity_per_capita</th>\n      <th>Energy_intensity_by_GDP</th>\n      <th>CO2_emission</th>\n    </tr>\n  </thead>\n  <tbody>\n    <tr>\n      <th>0</th>\n      <td>0</td>\n      <td>World</td>\n      <td>all_energy_types</td>\n      <td>1980</td>\n      <td>292.899790</td>\n      <td>296.337228</td>\n      <td>27770.910281</td>\n      <td>4.298127e+06</td>\n      <td>68.145921</td>\n      <td>10.547000</td>\n      <td>4946.627130</td>\n    </tr>\n    <tr>\n      <th>1</th>\n      <td>1</td>\n      <td>World</td>\n      <td>coal</td>\n      <td>1980</td>\n      <td>78.656134</td>\n      <td>80.114194</td>\n      <td>27770.910281</td>\n      <td>4.298127e+06</td>\n      <td>68.145921</td>\n      <td>10.547000</td>\n      <td>1409.790188</td>\n    </tr>\n    <tr>\n      <th>2</th>\n      <td>2</td>\n      <td>World</td>\n      <td>natural_gas</td>\n      <td>1980</td>\n      <td>53.865223</td>\n      <td>54.761046</td>\n      <td>27770.910281</td>\n      <td>4.298127e+06</td>\n      <td>68.145921</td>\n      <td>10.547000</td>\n      <td>1081.593377</td>\n    </tr>\n    <tr>\n      <th>3</th>\n      <td>3</td>\n      <td>World</td>\n      <td>petroleum_n_other_liquids</td>\n      <td>1980</td>\n      <td>132.064019</td>\n      <td>133.111109</td>\n      <td>27770.910281</td>\n      <td>4.298127e+06</td>\n      <td>68.145921</td>\n      <td>10.547000</td>\n      <td>2455.243565</td>\n    </tr>\n    <tr>\n      <th>4</th>\n      <td>4</td>\n      <td>World</td>\n      <td>nuclear</td>\n      <td>1980</td>\n      <td>7.575700</td>\n      <td>7.575700</td>\n      <td>27770.910281</td>\n      <td>4.298127e+06</td>\n      <td>68.145921</td>\n      <td>10.547000</td>\n      <td>0.000000</td>\n    </tr>\n    <tr>\n      <th>...</th>\n      <td>...</td>\n      <td>...</td>\n      <td>...</td>\n      <td>...</td>\n      <td>...</td>\n      <td>...</td>\n      <td>...</td>\n      <td>...</td>\n      <td>...</td>\n      <td>...</td>\n      <td>...</td>\n    </tr>\n    <tr>\n      <th>55435</th>\n      <td>55435</td>\n      <td>Zimbabwe</td>\n      <td>coal</td>\n      <td>2019</td>\n      <td>0.045064</td>\n      <td>0.075963</td>\n      <td>37.620400</td>\n      <td>1.465420e+04</td>\n      <td>11.508701</td>\n      <td>4.482962</td>\n      <td>4.586869</td>\n    </tr>\n    <tr>\n      <th>55436</th>\n      <td>55436</td>\n      <td>Zimbabwe</td>\n      <td>natural_gas</td>\n      <td>2019</td>\n      <td>0.000000</td>\n      <td>0.000000</td>\n      <td>37.620400</td>\n      <td>1.465420e+04</td>\n      <td>11.508701</td>\n      <td>4.482962</td>\n      <td>0.000000</td>\n    </tr>\n    <tr>\n      <th>55437</th>\n      <td>55437</td>\n      <td>Zimbabwe</td>\n      <td>petroleum_n_other_liquids</td>\n      <td>2019</td>\n      <td>0.055498</td>\n      <td>0.000000</td>\n      <td>37.620400</td>\n      <td>1.465420e+04</td>\n      <td>11.508701</td>\n      <td>4.482962</td>\n      <td>4.377890</td>\n    </tr>\n    <tr>\n      <th>55438</th>\n      <td>55438</td>\n      <td>Zimbabwe</td>\n      <td>nuclear</td>\n      <td>2019</td>\n      <td>NaN</td>\n      <td>NaN</td>\n      <td>37.620400</td>\n      <td>1.465420e+04</td>\n      <td>11.508701</td>\n      <td>4.482962</td>\n      <td>0.000000</td>\n    </tr>\n    <tr>\n      <th>55439</th>\n      <td>55439</td>\n      <td>Zimbabwe</td>\n      <td>renewables_n_other</td>\n      <td>2019</td>\n      <td>0.068089</td>\n      <td>0.067499</td>\n      <td>37.620400</td>\n      <td>1.465420e+04</td>\n      <td>11.508701</td>\n      <td>4.482962</td>\n      <td>0.000000</td>\n    </tr>\n  </tbody>\n</table>\n<p>55440 rows × 11 columns</p>\n</div>"
     },
     "execution_count": 4,
     "metadata": {},
     "output_type": "execute_result"
    }
   ]
  },
  {
   "cell_type": "code",
   "source": [
    "df.isna().sum()"
   ],
   "metadata": {
    "colab": {
     "base_uri": "https://localhost:8080/"
    },
    "id": "oAPqHXp-0Shp",
    "executionInfo": {
     "status": "ok",
     "timestamp": 1682787207906,
     "user_tz": -330,
     "elapsed": 6,
     "user": {
      "displayName": "Aryan Ghogare",
      "userId": "17731375533300071716"
     }
    },
    "outputId": "893afb02-5245-420d-89e3-08c741800360",
    "ExecuteTime": {
     "start_time": "2023-04-30T08:45:53.327180Z",
     "end_time": "2023-04-30T08:45:53.601778Z"
    }
   },
   "execution_count": 5,
   "outputs": [
    {
     "data": {
      "text/plain": "Unnamed: 0                         0\nCountry                            0\nEnergy_type                        0\nYear                               0\nEnergy_consumption             11153\nEnergy_production              11151\nGDP                            15414\nPopulation                      9426\nEnergy_intensity_per_capita     5082\nEnergy_intensity_by_GDP         5082\nCO2_emission                    3826\ndtype: int64"
     },
     "execution_count": 5,
     "metadata": {},
     "output_type": "execute_result"
    }
   ]
  },
  {
   "cell_type": "code",
   "source": [
    "from sklearn.impute import SimpleImputer\n",
    "imputer = SimpleImputer(missing_values=np.nan, strategy='most_frequent')\n",
    "k = imputer.fit(df[:, :])\n",
    "df[:, :] = imputer.transform(k)"
   ],
   "metadata": {
    "colab": {
     "base_uri": "https://localhost:8080/",
     "height": 432
    },
    "id": "vUigtooD6tmy",
    "executionInfo": {
     "status": "error",
     "timestamp": 1682787559940,
     "user_tz": -330,
     "elapsed": 7,
     "user": {
      "displayName": "Aryan Ghogare",
      "userId": "17731375533300071716"
     }
    },
    "outputId": "175ae7f0-2a6c-4cd3-e986-c1b956241bc4"
   },
   "execution_count": 6,
   "outputs": [
    {
     "ename": "InvalidIndexError",
     "evalue": "(slice(None, None, None), slice(None, None, None))",
     "output_type": "error",
     "traceback": [
      "\u001B[0;31m---------------------------------------------------------------------------\u001B[0m",
      "\u001B[0;31mTypeError\u001B[0m                                 Traceback (most recent call last)",
      "File \u001B[0;32m~/anaconda3/lib/python3.9/site-packages/pandas/core/indexes/base.py:3621\u001B[0m, in \u001B[0;36mIndex.get_loc\u001B[0;34m(self, key, method, tolerance)\u001B[0m\n\u001B[1;32m   3620\u001B[0m \u001B[38;5;28;01mtry\u001B[39;00m:\n\u001B[0;32m-> 3621\u001B[0m     \u001B[38;5;28;01mreturn\u001B[39;00m \u001B[38;5;28;43mself\u001B[39;49m\u001B[38;5;241;43m.\u001B[39;49m\u001B[43m_engine\u001B[49m\u001B[38;5;241;43m.\u001B[39;49m\u001B[43mget_loc\u001B[49m\u001B[43m(\u001B[49m\u001B[43mcasted_key\u001B[49m\u001B[43m)\u001B[49m\n\u001B[1;32m   3622\u001B[0m \u001B[38;5;28;01mexcept\u001B[39;00m \u001B[38;5;167;01mKeyError\u001B[39;00m \u001B[38;5;28;01mas\u001B[39;00m err:\n",
      "File \u001B[0;32m~/anaconda3/lib/python3.9/site-packages/pandas/_libs/index.pyx:136\u001B[0m, in \u001B[0;36mpandas._libs.index.IndexEngine.get_loc\u001B[0;34m()\u001B[0m\n",
      "File \u001B[0;32m~/anaconda3/lib/python3.9/site-packages/pandas/_libs/index.pyx:142\u001B[0m, in \u001B[0;36mpandas._libs.index.IndexEngine.get_loc\u001B[0;34m()\u001B[0m\n",
      "\u001B[0;31mTypeError\u001B[0m: '(slice(None, None, None), slice(None, None, None))' is an invalid key",
      "\nDuring handling of the above exception, another exception occurred:\n",
      "\u001B[0;31mInvalidIndexError\u001B[0m                         Traceback (most recent call last)",
      "Input \u001B[0;32mIn [6]\u001B[0m, in \u001B[0;36m<cell line: 3>\u001B[0;34m()\u001B[0m\n\u001B[1;32m      1\u001B[0m \u001B[38;5;28;01mfrom\u001B[39;00m \u001B[38;5;21;01msklearn\u001B[39;00m\u001B[38;5;21;01m.\u001B[39;00m\u001B[38;5;21;01mimpute\u001B[39;00m \u001B[38;5;28;01mimport\u001B[39;00m SimpleImputer\n\u001B[1;32m      2\u001B[0m imputer \u001B[38;5;241m=\u001B[39m SimpleImputer(missing_values\u001B[38;5;241m=\u001B[39mnp\u001B[38;5;241m.\u001B[39mnan, strategy\u001B[38;5;241m=\u001B[39m\u001B[38;5;124m'\u001B[39m\u001B[38;5;124mmost_frequent\u001B[39m\u001B[38;5;124m'\u001B[39m)\n\u001B[0;32m----> 3\u001B[0m k \u001B[38;5;241m=\u001B[39m imputer\u001B[38;5;241m.\u001B[39mfit(\u001B[43mdf\u001B[49m\u001B[43m[\u001B[49m\u001B[43m:\u001B[49m\u001B[43m,\u001B[49m\u001B[43m \u001B[49m\u001B[43m:\u001B[49m\u001B[43m]\u001B[49m)\n\u001B[1;32m      4\u001B[0m df[:, :] \u001B[38;5;241m=\u001B[39m imputer\u001B[38;5;241m.\u001B[39mtransform(k)\n",
      "File \u001B[0;32m~/anaconda3/lib/python3.9/site-packages/pandas/core/frame.py:3505\u001B[0m, in \u001B[0;36mDataFrame.__getitem__\u001B[0;34m(self, key)\u001B[0m\n\u001B[1;32m   3503\u001B[0m \u001B[38;5;28;01mif\u001B[39;00m \u001B[38;5;28mself\u001B[39m\u001B[38;5;241m.\u001B[39mcolumns\u001B[38;5;241m.\u001B[39mnlevels \u001B[38;5;241m>\u001B[39m \u001B[38;5;241m1\u001B[39m:\n\u001B[1;32m   3504\u001B[0m     \u001B[38;5;28;01mreturn\u001B[39;00m \u001B[38;5;28mself\u001B[39m\u001B[38;5;241m.\u001B[39m_getitem_multilevel(key)\n\u001B[0;32m-> 3505\u001B[0m indexer \u001B[38;5;241m=\u001B[39m \u001B[38;5;28;43mself\u001B[39;49m\u001B[38;5;241;43m.\u001B[39;49m\u001B[43mcolumns\u001B[49m\u001B[38;5;241;43m.\u001B[39;49m\u001B[43mget_loc\u001B[49m\u001B[43m(\u001B[49m\u001B[43mkey\u001B[49m\u001B[43m)\u001B[49m\n\u001B[1;32m   3506\u001B[0m \u001B[38;5;28;01mif\u001B[39;00m is_integer(indexer):\n\u001B[1;32m   3507\u001B[0m     indexer \u001B[38;5;241m=\u001B[39m [indexer]\n",
      "File \u001B[0;32m~/anaconda3/lib/python3.9/site-packages/pandas/core/indexes/base.py:3628\u001B[0m, in \u001B[0;36mIndex.get_loc\u001B[0;34m(self, key, method, tolerance)\u001B[0m\n\u001B[1;32m   3623\u001B[0m         \u001B[38;5;28;01mraise\u001B[39;00m \u001B[38;5;167;01mKeyError\u001B[39;00m(key) \u001B[38;5;28;01mfrom\u001B[39;00m \u001B[38;5;21;01merr\u001B[39;00m\n\u001B[1;32m   3624\u001B[0m     \u001B[38;5;28;01mexcept\u001B[39;00m \u001B[38;5;167;01mTypeError\u001B[39;00m:\n\u001B[1;32m   3625\u001B[0m         \u001B[38;5;66;03m# If we have a listlike key, _check_indexing_error will raise\u001B[39;00m\n\u001B[1;32m   3626\u001B[0m         \u001B[38;5;66;03m#  InvalidIndexError. Otherwise we fall through and re-raise\u001B[39;00m\n\u001B[1;32m   3627\u001B[0m         \u001B[38;5;66;03m#  the TypeError.\u001B[39;00m\n\u001B[0;32m-> 3628\u001B[0m         \u001B[38;5;28;43mself\u001B[39;49m\u001B[38;5;241;43m.\u001B[39;49m\u001B[43m_check_indexing_error\u001B[49m\u001B[43m(\u001B[49m\u001B[43mkey\u001B[49m\u001B[43m)\u001B[49m\n\u001B[1;32m   3629\u001B[0m         \u001B[38;5;28;01mraise\u001B[39;00m\n\u001B[1;32m   3631\u001B[0m \u001B[38;5;66;03m# GH#42269\u001B[39;00m\n",
      "File \u001B[0;32m~/anaconda3/lib/python3.9/site-packages/pandas/core/indexes/base.py:5637\u001B[0m, in \u001B[0;36mIndex._check_indexing_error\u001B[0;34m(self, key)\u001B[0m\n\u001B[1;32m   5633\u001B[0m \u001B[38;5;28;01mdef\u001B[39;00m \u001B[38;5;21m_check_indexing_error\u001B[39m(\u001B[38;5;28mself\u001B[39m, key):\n\u001B[1;32m   5634\u001B[0m     \u001B[38;5;28;01mif\u001B[39;00m \u001B[38;5;129;01mnot\u001B[39;00m is_scalar(key):\n\u001B[1;32m   5635\u001B[0m         \u001B[38;5;66;03m# if key is not a scalar, directly raise an error (the code below\u001B[39;00m\n\u001B[1;32m   5636\u001B[0m         \u001B[38;5;66;03m# would convert to numpy arrays and raise later any way) - GH29926\u001B[39;00m\n\u001B[0;32m-> 5637\u001B[0m         \u001B[38;5;28;01mraise\u001B[39;00m InvalidIndexError(key)\n",
      "\u001B[0;31mInvalidIndexError\u001B[0m: (slice(None, None, None), slice(None, None, None))"
     ]
    }
   ]
  },
  {
   "cell_type": "code",
   "source": [
    "df.mean()"
   ],
   "metadata": {
    "colab": {
     "base_uri": "https://localhost:8080/"
    },
    "id": "qIAElvpY0Ltm",
    "executionInfo": {
     "status": "ok",
     "timestamp": 1682787219240,
     "user_tz": -330,
     "elapsed": 1683,
     "user": {
      "displayName": "Aryan Ghogare",
      "userId": "17731375533300071716"
     }
    },
    "outputId": "15c1b7bd-1520-4d8a-bb71-a40539735adb"
   },
   "execution_count": null,
   "outputs": []
  },
  {
   "cell_type": "code",
   "source": [
    "df.dtypes\n"
   ],
   "metadata": {
    "id": "_8LA-0-82FoZ",
    "colab": {
     "base_uri": "https://localhost:8080/"
    },
    "executionInfo": {
     "status": "ok",
     "timestamp": 1679646438512,
     "user_tz": -330,
     "elapsed": 416,
     "user": {
      "displayName": "Aryan Ghogare",
      "userId": "17731375533300071716"
     }
    },
    "outputId": "11fa0da1-eec0-4ee6-f4c9-d4e1a768aabd"
   },
   "execution_count": null,
   "outputs": []
  },
  {
   "cell_type": "code",
   "source": [
    "year = np.array(df['Year'])"
   ],
   "metadata": {
    "id": "dQMOyfgPuuOp"
   },
   "execution_count": null,
   "outputs": []
  },
  {
   "cell_type": "code",
   "source": [],
   "metadata": {
    "id": "wp__ez2o75U4"
   },
   "execution_count": null,
   "outputs": []
  },
  {
   "cell_type": "code",
   "source": [
    "co2 = np.array(df['CO2_emission'])"
   ],
   "metadata": {
    "id": "C-pzNG51vImd"
   },
   "execution_count": null,
   "outputs": []
  },
  {
   "cell_type": "code",
   "source": [
    "co2"
   ],
   "metadata": {
    "colab": {
     "base_uri": "https://localhost:8080/"
    },
    "id": "xhNi4ziOvJ6K",
    "executionInfo": {
     "status": "ok",
     "timestamp": 1679646606431,
     "user_tz": -330,
     "elapsed": 3,
     "user": {
      "displayName": "Aryan Ghogare",
      "userId": "17731375533300071716"
     }
    },
    "outputId": "6989c8ee-56f4-415d-a999-0596b6d6b7a3"
   },
   "execution_count": null,
   "outputs": []
  },
  {
   "cell_type": "code",
   "source": [
    "plt.title(\"Year vs Co2 emission\")\n",
    "plt.xlabel(\"Year\")\n",
    "plt.ylabel(\"Emission\")\n",
    "plt.plot(year,co2)"
   ],
   "metadata": {
    "colab": {
     "base_uri": "https://localhost:8080/",
     "height": 312
    },
    "id": "dGneryeovSqH",
    "executionInfo": {
     "status": "ok",
     "timestamp": 1679646986805,
     "user_tz": -330,
     "elapsed": 533,
     "user": {
      "displayName": "Aryan Ghogare",
      "userId": "17731375533300071716"
     }
    },
    "outputId": "0d65148c-a861-4453-830a-6846110507fc"
   },
   "execution_count": null,
   "outputs": []
  },
  {
   "cell_type": "code",
   "source": [
    "cons = np.array(df['Energy_consumption'])\n",
    "pros = np.array(df['Energy_production'])"
   ],
   "metadata": {
    "id": "EZcRyS4CvYPs"
   },
   "execution_count": null,
   "outputs": []
  },
  {
   "cell_type": "code",
   "source": [
    "plt.title(\"Production vs Consumption\")\n",
    "plt.xlabel(\"Consumption\")\n",
    "plt.ylabel(\"Production\")\n",
    "\n",
    "plt.plot(cons,pros)"
   ],
   "metadata": {
    "colab": {
     "base_uri": "https://localhost:8080/",
     "height": 312
    },
    "id": "dGGsZ1wmv6W4",
    "executionInfo": {
     "status": "ok",
     "timestamp": 1679646926568,
     "user_tz": -330,
     "elapsed": 762,
     "user": {
      "displayName": "Aryan Ghogare",
      "userId": "17731375533300071716"
     }
    },
    "outputId": "ac56b968-a621-4f46-8d1e-f3ebdd19ebab"
   },
   "execution_count": null,
   "outputs": []
  },
  {
   "cell_type": "code",
   "source": [
    "df_new = "
   ],
   "metadata": {
    "colab": {
     "base_uri": "https://localhost:8080/",
     "height": 502
    },
    "id": "_U_RAkL4v_c8",
    "executionInfo": {
     "status": "error",
     "timestamp": 1679647526420,
     "user_tz": -330,
     "elapsed": 422,
     "user": {
      "displayName": "Aryan Ghogare",
      "userId": "17731375533300071716"
     }
    },
    "outputId": "1894ad58-64b8-40cd-bc47-01c9c687c296"
   },
   "execution_count": null,
   "outputs": []
  },
  {
   "cell_type": "code",
   "source": [
    "# Replacing missing values with mode\n",
    "df['CO2_emission'].fillna(df['CO2_emission'].mode()[0], inplace=True)"
   ],
   "metadata": {
    "id": "MhJ9alsQy0lR"
   },
   "execution_count": null,
   "outputs": []
  },
  {
   "cell_type": "code",
   "execution_count": null,
   "outputs": [],
   "source": [
    "df['Energy_consumption'].fillna(df['Energy_consumption'].mode()[0], inplace=True)"
   ],
   "metadata": {
    "collapsed": false
   }
  },
  {
   "cell_type": "code",
   "execution_count": null,
   "outputs": [],
   "source": [
    "df['Energy_production'].fillna(df['Energy_production'].mode()[0], inplace=True)"
   ],
   "metadata": {
    "collapsed": false
   }
  },
  {
   "cell_type": "code",
   "execution_count": null,
   "outputs": [],
   "source": [
    "df['Energy_import'].fillna(df['Energy_import'].mode()[0], inplace=True)"
   ],
   "metadata": {
    "collapsed": false
   }
  },
  {
   "cell_type": "code",
   "execution_count": null,
   "outputs": [],
   "source": [
    "df['Energy_export'].fillna(df['Energy_export'].mode()[0], inplace=True)"
   ],
   "metadata": {
    "collapsed": false
   }
  },
  {
   "cell_type": "code",
   "execution_count": null,
   "outputs": [],
   "source": [
    "df['Population'].fillna(df['Population'].mode()[0], inplace=True)"
   ],
   "metadata": {
    "collapsed": false,
    "ExecuteTime": {
     "start_time": "2023-04-29T22:38:43.885780Z",
     "end_time": "2023-04-29T22:38:43.986752Z"
    }
   }
  },
  {
   "cell_type": "code",
   "execution_count": null,
   "outputs": [],
   "source": [
    "df['GDP'].fillna(df['GDP'].mode()[0], inplace=True)"
   ],
   "metadata": {
    "collapsed": false,
    "ExecuteTime": {
     "start_time": "2023-04-29T22:38:49.432658Z",
     "end_time": "2023-04-29T22:38:49.618059Z"
    }
   }
  },
  {
   "cell_type": "code",
   "execution_count": null,
   "outputs": [],
   "source": [
    "df['Energy_intensity_by_GDP'].fillna(df['Energy_intensity_by_GDP'].mode()[0], inplace=True)"
   ],
   "metadata": {
    "collapsed": false,
    "ExecuteTime": {
     "start_time": "2023-04-29T22:39:37.857586Z",
     "end_time": "2023-04-29T22:39:37.921215Z"
    }
   }
  },
  {
   "cell_type": "code",
   "execution_count": null,
   "outputs": [],
   "source": [
    "df['Energy_intensity_by_Population'].fillna(df['Energy_intensity_by_Population'].mode()[0], inplace=True)"
   ],
   "metadata": {
    "collapsed": false
   }
  },
  {
   "cell_type": "code",
   "execution_count": null,
   "outputs": [],
   "source": [
    "#converting the data into 0,1\n",
    "df['CO2_emission'] = df['CO2_emission'].astype('category')\n",
    "df['Energy_consumption'] = df['Energy_consumption'].astype('category')\n",
    "df['Energy_production'] = df['Energy_production'].astype('category')\n"
   ],
   "metadata": {
    "collapsed": false,
    "ExecuteTime": {
     "start_time": "2023-04-29T22:56:45.972670Z",
     "end_time": "2023-04-29T22:56:45.978176Z"
    }
   }
  },
  {
   "cell_type": "code",
   "execution_count": null,
   "outputs": [],
   "source": [
    "print(df['CO2_emission'])"
   ],
   "metadata": {
    "collapsed": false
   }
  },
  {
   "cell_type": "code",
   "execution_count": 7,
   "outputs": [
    {
     "name": "stdout",
     "output_type": "stream",
     "text": [
      "(38808, 2)\n"
     ]
    }
   ],
   "source": [
    "#appliying descision tree classifier on the energy consumption\n",
    "from sklearn.tree import DecisionTreeClassifier\n",
    "from sklearn.model_selection import train_test_split\n",
    "from sklearn import metrics\n",
    "\n",
    "X_train, X_test, y_train, y_test = train_test_split(df[['CO2_emission','Energy_production']], df['Energy_consumption'], test_size=0.3, random_state=1)\n",
    "print(X_train.shape)"
   ],
   "metadata": {
    "collapsed": false,
    "ExecuteTime": {
     "start_time": "2023-04-30T08:46:07.553165Z",
     "end_time": "2023-04-30T08:46:07.694290Z"
    }
   }
  },
  {
   "cell_type": "code",
   "execution_count": 9,
   "outputs": [
    {
     "data": {
      "text/plain": "CO2_emission         2683\nEnergy_production    7869\ndtype: int64"
     },
     "execution_count": 9,
     "metadata": {},
     "output_type": "execute_result"
    }
   ],
   "source": [
    "X_train.isna().sum()"
   ],
   "metadata": {
    "collapsed": false,
    "ExecuteTime": {
     "start_time": "2023-04-30T08:47:53.289934Z",
     "end_time": "2023-04-30T08:47:53.330403Z"
    }
   }
  },
  {
   "cell_type": "code",
   "execution_count": 10,
   "outputs": [
    {
     "data": {
      "text/plain": "CO2_emission         float64\nEnergy_production    float64\ndtype: object"
     },
     "execution_count": 10,
     "metadata": {},
     "output_type": "execute_result"
    }
   ],
   "source": [
    "X_train.dtypes"
   ],
   "metadata": {
    "collapsed": false,
    "ExecuteTime": {
     "start_time": "2023-04-30T08:48:04.182189Z",
     "end_time": "2023-04-30T08:48:04.260688Z"
    }
   }
  },
  {
   "cell_type": "code",
   "execution_count": 12,
   "outputs": [],
   "source": [
    "X_train['CO2_emission'] = X_train['CO2_emission'].fillna(X_train['CO2_emission'].mode()[0])\n",
    "X_train['Energy_production'] = X_train['Energy_production'].fillna(X_train['Energy_production'].mode()[0])"
   ],
   "metadata": {
    "collapsed": false,
    "ExecuteTime": {
     "start_time": "2023-04-30T08:48:59.583441Z",
     "end_time": "2023-04-30T08:48:59.613255Z"
    }
   }
  },
  {
   "cell_type": "code",
   "execution_count": 13,
   "outputs": [
    {
     "data": {
      "text/plain": "7871"
     },
     "execution_count": 13,
     "metadata": {},
     "output_type": "execute_result"
    }
   ],
   "source": [
    "y_train.isna().sum()"
   ],
   "metadata": {
    "collapsed": false,
    "ExecuteTime": {
     "start_time": "2023-04-30T08:49:41.380807Z",
     "end_time": "2023-04-30T08:49:41.461502Z"
    }
   }
  },
  {
   "cell_type": "code",
   "execution_count": 14,
   "outputs": [],
   "source": [
    "y_train = y_train.fillna(y_train.mode()[0])"
   ],
   "metadata": {
    "collapsed": false,
    "ExecuteTime": {
     "start_time": "2023-04-30T08:49:56.057573Z",
     "end_time": "2023-04-30T08:49:56.099030Z"
    }
   }
  },
  {
   "cell_type": "code",
   "execution_count": 16,
   "outputs": [
    {
     "ename": "ValueError",
     "evalue": "Unknown label type: 'continuous'",
     "output_type": "error",
     "traceback": [
      "\u001B[0;31m---------------------------------------------------------------------------\u001B[0m",
      "\u001B[0;31mValueError\u001B[0m                                Traceback (most recent call last)",
      "Input \u001B[0;32mIn [16]\u001B[0m, in \u001B[0;36m<cell line: 2>\u001B[0;34m()\u001B[0m\n\u001B[1;32m      1\u001B[0m classifier \u001B[38;5;241m=\u001B[39m DecisionTreeClassifier()\n\u001B[0;32m----> 2\u001B[0m \u001B[43mclassifier\u001B[49m\u001B[38;5;241;43m.\u001B[39;49m\u001B[43mfit\u001B[49m\u001B[43m(\u001B[49m\u001B[43mX_train\u001B[49m\u001B[43m,\u001B[49m\u001B[43my_train\u001B[49m\u001B[43m)\u001B[49m\n",
      "File \u001B[0;32m~/anaconda3/lib/python3.9/site-packages/sklearn/tree/_classes.py:937\u001B[0m, in \u001B[0;36mDecisionTreeClassifier.fit\u001B[0;34m(self, X, y, sample_weight, check_input, X_idx_sorted)\u001B[0m\n\u001B[1;32m    899\u001B[0m \u001B[38;5;28;01mdef\u001B[39;00m \u001B[38;5;21mfit\u001B[39m(\n\u001B[1;32m    900\u001B[0m     \u001B[38;5;28mself\u001B[39m, X, y, sample_weight\u001B[38;5;241m=\u001B[39m\u001B[38;5;28;01mNone\u001B[39;00m, check_input\u001B[38;5;241m=\u001B[39m\u001B[38;5;28;01mTrue\u001B[39;00m, X_idx_sorted\u001B[38;5;241m=\u001B[39m\u001B[38;5;124m\"\u001B[39m\u001B[38;5;124mdeprecated\u001B[39m\u001B[38;5;124m\"\u001B[39m\n\u001B[1;32m    901\u001B[0m ):\n\u001B[1;32m    902\u001B[0m     \u001B[38;5;124;03m\"\"\"Build a decision tree classifier from the training set (X, y).\u001B[39;00m\n\u001B[1;32m    903\u001B[0m \n\u001B[1;32m    904\u001B[0m \u001B[38;5;124;03m    Parameters\u001B[39;00m\n\u001B[0;32m   (...)\u001B[0m\n\u001B[1;32m    934\u001B[0m \u001B[38;5;124;03m        Fitted estimator.\u001B[39;00m\n\u001B[1;32m    935\u001B[0m \u001B[38;5;124;03m    \"\"\"\u001B[39;00m\n\u001B[0;32m--> 937\u001B[0m     \u001B[38;5;28;43msuper\u001B[39;49m\u001B[43m(\u001B[49m\u001B[43m)\u001B[49m\u001B[38;5;241;43m.\u001B[39;49m\u001B[43mfit\u001B[49m\u001B[43m(\u001B[49m\n\u001B[1;32m    938\u001B[0m \u001B[43m        \u001B[49m\u001B[43mX\u001B[49m\u001B[43m,\u001B[49m\n\u001B[1;32m    939\u001B[0m \u001B[43m        \u001B[49m\u001B[43my\u001B[49m\u001B[43m,\u001B[49m\n\u001B[1;32m    940\u001B[0m \u001B[43m        \u001B[49m\u001B[43msample_weight\u001B[49m\u001B[38;5;241;43m=\u001B[39;49m\u001B[43msample_weight\u001B[49m\u001B[43m,\u001B[49m\n\u001B[1;32m    941\u001B[0m \u001B[43m        \u001B[49m\u001B[43mcheck_input\u001B[49m\u001B[38;5;241;43m=\u001B[39;49m\u001B[43mcheck_input\u001B[49m\u001B[43m,\u001B[49m\n\u001B[1;32m    942\u001B[0m \u001B[43m        \u001B[49m\u001B[43mX_idx_sorted\u001B[49m\u001B[38;5;241;43m=\u001B[39;49m\u001B[43mX_idx_sorted\u001B[49m\u001B[43m,\u001B[49m\n\u001B[1;32m    943\u001B[0m \u001B[43m    \u001B[49m\u001B[43m)\u001B[49m\n\u001B[1;32m    944\u001B[0m     \u001B[38;5;28;01mreturn\u001B[39;00m \u001B[38;5;28mself\u001B[39m\n",
      "File \u001B[0;32m~/anaconda3/lib/python3.9/site-packages/sklearn/tree/_classes.py:203\u001B[0m, in \u001B[0;36mBaseDecisionTree.fit\u001B[0;34m(self, X, y, sample_weight, check_input, X_idx_sorted)\u001B[0m\n\u001B[1;32m    200\u001B[0m \u001B[38;5;28mself\u001B[39m\u001B[38;5;241m.\u001B[39mn_outputs_ \u001B[38;5;241m=\u001B[39m y\u001B[38;5;241m.\u001B[39mshape[\u001B[38;5;241m1\u001B[39m]\n\u001B[1;32m    202\u001B[0m \u001B[38;5;28;01mif\u001B[39;00m is_classification:\n\u001B[0;32m--> 203\u001B[0m     \u001B[43mcheck_classification_targets\u001B[49m\u001B[43m(\u001B[49m\u001B[43my\u001B[49m\u001B[43m)\u001B[49m\n\u001B[1;32m    204\u001B[0m     y \u001B[38;5;241m=\u001B[39m np\u001B[38;5;241m.\u001B[39mcopy(y)\n\u001B[1;32m    206\u001B[0m     \u001B[38;5;28mself\u001B[39m\u001B[38;5;241m.\u001B[39mclasses_ \u001B[38;5;241m=\u001B[39m []\n",
      "File \u001B[0;32m~/anaconda3/lib/python3.9/site-packages/sklearn/utils/multiclass.py:197\u001B[0m, in \u001B[0;36mcheck_classification_targets\u001B[0;34m(y)\u001B[0m\n\u001B[1;32m    189\u001B[0m y_type \u001B[38;5;241m=\u001B[39m type_of_target(y)\n\u001B[1;32m    190\u001B[0m \u001B[38;5;28;01mif\u001B[39;00m y_type \u001B[38;5;129;01mnot\u001B[39;00m \u001B[38;5;129;01min\u001B[39;00m [\n\u001B[1;32m    191\u001B[0m     \u001B[38;5;124m\"\u001B[39m\u001B[38;5;124mbinary\u001B[39m\u001B[38;5;124m\"\u001B[39m,\n\u001B[1;32m    192\u001B[0m     \u001B[38;5;124m\"\u001B[39m\u001B[38;5;124mmulticlass\u001B[39m\u001B[38;5;124m\"\u001B[39m,\n\u001B[0;32m   (...)\u001B[0m\n\u001B[1;32m    195\u001B[0m     \u001B[38;5;124m\"\u001B[39m\u001B[38;5;124mmultilabel-sequences\u001B[39m\u001B[38;5;124m\"\u001B[39m,\n\u001B[1;32m    196\u001B[0m ]:\n\u001B[0;32m--> 197\u001B[0m     \u001B[38;5;28;01mraise\u001B[39;00m \u001B[38;5;167;01mValueError\u001B[39;00m(\u001B[38;5;124m\"\u001B[39m\u001B[38;5;124mUnknown label type: \u001B[39m\u001B[38;5;132;01m%r\u001B[39;00m\u001B[38;5;124m\"\u001B[39m \u001B[38;5;241m%\u001B[39m y_type)\n",
      "\u001B[0;31mValueError\u001B[0m: Unknown label type: 'continuous'"
     ]
    }
   ],
   "source": [
    "classifier = DecisionTreeClassifier()\n",
    "classifier.fit(X_train,y_train)"
   ],
   "metadata": {
    "collapsed": false
   }
  },
  {
   "cell_type": "code",
   "execution_count": 15,
   "outputs": [],
   "source": [],
   "metadata": {
    "collapsed": false,
    "ExecuteTime": {
     "start_time": "2023-04-30T08:50:11.880700Z",
     "end_time": "2023-04-30T08:50:12.020522Z"
    }
   }
  },
  {
   "cell_type": "code",
   "execution_count": null,
   "outputs": [],
   "source": [],
   "metadata": {
    "collapsed": false
   }
  }
 ]
}
